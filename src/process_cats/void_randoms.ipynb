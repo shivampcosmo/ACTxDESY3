{
 "cells": [
  {
   "cell_type": "code",
   "execution_count": 1,
   "metadata": {},
   "outputs": [],
   "source": [
    "import numpy as np\n",
    "import healpy as hp\n",
    "\n"
   ]
  },
  {
   "cell_type": "code",
   "execution_count": 2,
   "metadata": {},
   "outputs": [],
   "source": [
    "# Produce randoms for galaxies or voids\n",
    "def makeRandom(X, N, R=None, nside=128, seed=1, Nbins_nz=20): # X is RA,Dec,Z from original catalog, N is size of output catalog, R is void radii from input catalog\n",
    "    npix = hp.nside2npix(nside) # Define mask\n",
    "    mask = np.zeros((npix), dtype=bool)\n",
    "    pix = hp.ang2pix(nside, np.pi/2.-X[:,1], X[:,0])\n",
    "    mask[pix] = True\n",
    "    skyfrac = 1.*len(mask[mask>0])/len(mask)\n",
    "\n",
    "    np.random.seed(seed) # Unique seed\n",
    "    Xr = np.random.rand(int(N*len(X)/skyfrac),3).astype(np.float32) # Draw 3D random catalog and format to RA,Dec,Z\n",
    "    Xr[:,0] *= 2*np.pi # RA\n",
    "    Xr[:,1] = np.arccos(1.-2*Xr[:,1]) # Dec\n",
    "    Xr[:,2] = Xr[:,2]*(X[:,2].max()-X[:,2].min()) + X[:,2].min() # Z\n",
    "\n",
    "    (n,z) = np.histogram(X[:,2], bins=Nbins_nz) # Calculate n(z) from catalog\n",
    "    nr = np.interp(Xr[:,2],(z[:-1]+z[1:])/2.,n) # Interpolate n(z) for randoms\n",
    "    Xr[:,2] = np.random.choice(Xr[:,2],int(N*len(X)/skyfrac),p=nr/np.sum(nr)) # Draw a random realization from that n(z)\n",
    "\n",
    "    pixr = hp.ang2pix(nside, Xr[:,1], Xr[:,0]) # Masked pixels\n",
    "    Xr = Xr[mask[pixr],:] # Apply mask\n",
    "    Xr[:,1] = np.pi/2. - Xr[:,1]\n",
    "\n",
    "    if R is not None: # Define random void radii\n",
    "        Rr = np.random.rand(len(Xr)).astype(np.float32) # Draw random void radii\n",
    "        Rr = Rr*(R.max()-R.min()) + R.min()\n",
    "        (n,r) = np.histogram(R, bins=Nbins_nz) # Calculate n(rv) from void catalog\n",
    "        nr = np.interp(Rr,(r[:-1]+r[1:])/2.,n) # Interpolate n(rv) for randoms\n",
    "        Rr = np.random.choice(Rr,len(Xr),p=nr/np.sum(nr)) # Draw a random realization from that n(rv)\n",
    "        return Xr,Rr\n",
    "    else:\n",
    "        return Xr\n",
    "\n",
    "\n",
    "\n"
   ]
  },
  {
   "cell_type": "code",
   "execution_count": 3,
   "metadata": {},
   "outputs": [],
   "source": [
    "fnamev = '/global/cfs/cdirs/des/shivamp/nl_cosmosis/cosmosis/ACTxDESY3/src/data/untrimmed_sky_positions_central_Redmagic_highdens_y3a2_v0.5.1.out'\n",
    "\n",
    "dfv = np.loadtxt(fnamev)\n",
    "void_r_all = dfv[:,3]\n",
    "rmin, rmax = np.amin(void_r_all), np.amax(void_r_all)\n",
    "ind_sel = np.where((void_r_all > rmin) & (void_r_all < rmax))[0]\n",
    "datapoint_z_all, datapoint_ra_all, datapoint_dec_all = dfv[ind_sel,2], dfv[ind_sel,0], dfv[ind_sel,1]\n",
    "datapoint_weight_all = np.ones_like(datapoint_z_all)\n",
    "datapoint_radius_all = dfv[ind_sel,3]\n",
    "\n",
    "X_inp = np.array([datapoint_ra_all*(np.pi/180.), datapoint_dec_all*(np.pi/180.), datapoint_z_all]).T\n",
    "R_out = makeRandom(X_inp, 30)\n",
    "\n",
    "R_out[:,0] = R_out[:,0]*(180./np.pi)\n",
    "R_out[:,1] = R_out[:,1]*(180./np.pi)\n",
    "\n",
    "\n",
    "\n",
    "\n",
    "\n"
   ]
  },
  {
   "cell_type": "code",
   "execution_count": 34,
   "metadata": {},
   "outputs": [
    {
     "data": {
      "text/plain": [
       "(385473, 3)"
      ]
     },
     "execution_count": 34,
     "metadata": {},
     "output_type": "execute_result"
    }
   ],
   "source": [
    "R_out.shape\n",
    "\n",
    "\n"
   ]
  },
  {
   "cell_type": "code",
   "execution_count": 4,
   "metadata": {},
   "outputs": [],
   "source": [
    "def ang2eq(theta, phi):\n",
    "    ra = phi * 180. / np.pi\n",
    "    dec = 90. - theta * 180. / np.pi\n",
    "    return ra, dec\n",
    "\n",
    "\n",
    "def eq2ang(ra, dec):\n",
    "    phi = ra * np.pi / 180.\n",
    "    theta = (np.pi / 2.) - dec * (np.pi / 180.)\n",
    "    return theta, phi\n",
    "\n",
    "thetav, phiv = eq2ang(datapoint_ra_all, datapoint_dec_all )\n",
    "\n"
   ]
  },
  {
   "cell_type": "code",
   "execution_count": 5,
   "metadata": {},
   "outputs": [
    {
     "data": {
      "image/png": "[encoded data removed]",
      "text/plain": [
       "<Figure size 612x388.8 with 2 Axes>"
      ]
     },
     "metadata": {
      "needs_background": "light"
     },
     "output_type": "display_data"
    }
   ],
   "source": [
    "nside = 256\n",
    "ind_v_all = np.zeros(hp.nside2npix(nside))\n",
    "\n",
    "indv = hp.ang2pix(nside, thetav, phiv)\n",
    "ind_v_all[indv] = 1\n",
    "hp.mollview(ind_v_all)\n",
    "\n",
    "\n"
   ]
  },
  {
   "cell_type": "code",
   "execution_count": 6,
   "metadata": {},
   "outputs": [
    {
     "data": {
      "image/png": "[encoded data removed]",
      "text/plain": [
       "<Figure size 612x388.8 with 2 Axes>"
      ]
     },
     "metadata": {
      "needs_background": "light"
     },
     "output_type": "display_data"
    }
   ],
   "source": [
    "thetar, phir = eq2ang(R_out[:,0],R_out[:,1] )\n",
    "ind_r_all = np.zeros(hp.nside2npix(nside))\n",
    "\n",
    "indr = hp.ang2pix(nside, thetar, phir)\n",
    "ind_r_all[indr] = 1\n",
    "hp.mollview(ind_r_all)\n",
    "\n",
    "\n"
   ]
  },
  {
   "cell_type": "code",
   "execution_count": 31,
   "metadata": {},
   "outputs": [],
   "source": [
    "nstry = 8\n",
    "ind_r_all = np.zeros(hp.nside2npix(nstry))\n",
    "\n",
    "indr = hp.ang2pix(nstry, thetar, phir)\n",
    "ind_r_all[indr] = 1\n",
    "\n",
    "nside = 1024\n",
    "mask_input = hp.ud_grade(ind_r_all,nside)\n",
    "\n",
    "\n",
    "true_y_file = '/global/cfs/cdirs/des/shivamp/actxdes/data_set/planck_data/pl2015/nilc_ymaps.fits'\n",
    "\n",
    "ymap_truth = hp.read_map(true_y_file)\n",
    "ymap_truth = hp.ud_grade(ymap_truth,nside)\n",
    "\n",
    "npix_ymap = len(ymap_truth)\n",
    "nside_ymap = hp.npix2nside(npix_ymap)\n",
    "pix_theta, pix_phi = hp.pix2ang(nside_ymap, np.arange(npix_ymap))\n",
    "pix_ra, pix_dec = ang2eq(pix_theta, pix_phi)\n",
    "\n",
    "ind_masked = np.where(mask_input < 1e-4)[0]\n",
    "ind_rand = hp.ang2pix(nside, pix_theta, pix_phi)\n",
    "int_ind_rand = np.in1d(ind_rand, ind_masked)\n",
    "selection_mask_rand = np.where(int_ind_rand == False)[0]\n",
    "\n",
    "pix_ra_m, pix_dec_m = pix_ra[selection_mask_rand], pix_dec[selection_mask_rand]\n",
    "pix_theta_m, pix_phi_m = pix_theta[selection_mask_rand], pix_phi[selection_mask_rand]\n",
    "\n",
    "# hp.mollview(ind_r_all)\n",
    "\n"
   ]
  },
  {
   "cell_type": "code",
   "execution_count": 32,
   "metadata": {},
   "outputs": [
    {
     "data": {
      "image/png": "[encoded data removed]",
      "text/plain": [
       "<Figure size 612x388.8 with 2 Axes>"
      ]
     },
     "metadata": {
      "needs_background": "light"
     },
     "output_type": "display_data"
    }
   ],
   "source": [
    "nside = 256\n",
    "ind_v_all = np.zeros(hp.nside2npix(nside))\n",
    "\n",
    "indv = hp.ang2pix(nside, pix_theta_m, pix_phi_m)\n",
    "ind_v_all[indv] = 1\n",
    "hp.mollview(ind_v_all)\n",
    "\n",
    "\n",
    "\n"
   ]
  },
  {
   "cell_type": "code",
   "execution_count": 8,
   "metadata": {},
   "outputs": [],
   "source": [
    "import pickle as pk\n",
    "df = {'ra':R_out[:,0], 'dec':R_out[:,1], 'z':R_out[:,2]}\n",
    "pk.dump(df, open('/global/cfs/cdirs/des/shivamp/nl_cosmosis/cosmosis/ACTxDESY3/src/process_cats/void_random_cat.pk','wb'))  \n",
    "\n",
    "\n"
   ]
  },
  {
   "cell_type": "code",
   "execution_count": 18,
   "metadata": {},
   "outputs": [],
   "source": [
    "import mycosmo as cosmodef\n",
    "import scipy as sp\n",
    "\n",
    "def data_coord_cov(ra_in,dec_in, icrs2gal=False, gal2icrs=False):\n",
    "    if icrs2gal:\n",
    "        c_icrs = SkyCoord(ra=ra_in * u.degree, dec=dec_in * u.degree, frame='icrs')\n",
    "        c_gal = c_icrs.galactic\n",
    "        l_out, b_out = (c_gal.l).value, (c_gal.b).value\n",
    "        return l_out, b_out\n",
    "\n",
    "    if gal2icrs:\n",
    "        c_gal = SkyCoord(l=ra_in * u.degree, b=dec_in * u.degree, frame='galactic')\n",
    "        c_icrs = c_gal.icrs\n",
    "        ra_out, dec_out = (c_icrs.ra).value, (c_icrs.dec).value\n",
    "        return ra_out, dec_out\n",
    "\n",
    "\n",
    "def ang2eq(theta, phi):\n",
    "    ra = phi * 180. / np.pi\n",
    "    dec = 90. - theta * 180. / np.pi\n",
    "    return ra, dec\n",
    "\n",
    "\n",
    "def eq2ang(ra, dec):\n",
    "    phi = ra * np.pi / 180.\n",
    "    theta = (np.pi / 2.) - dec * (np.pi / 180.)\n",
    "    return theta, phi\n",
    "\n",
    "def get_zmean(zcent,delz,nz_bin):\n",
    "    prob_zcent = nz_bin\n",
    "    zmean = (np.sum(prob_zcent*zcent*delz))/(np.sum(prob_zcent*delz))\n",
    "    return zmean\n",
    "\n",
    "\n",
    "class general_funcs:\n",
    "\n",
    "    def __init__(self, cosmo_params):\n",
    "        h = cosmo_params['H0'] / 100.\n",
    "        cosmo_func = cosmodef.mynew_cosmo(h, cosmo_params['Om0'], cosmo_params['Ob0'], cosmo_params['ns'],\n",
    "                                          cosmo_params['sigma8'])\n",
    "        self.cosmo = cosmo_func\n",
    "\n",
    "    def get_Dcom(self, zf):\n",
    "        c = 3 * 10 ** 5\n",
    "        Omega_m, Omega_L = self.cosmo.Om0, 1. - self.cosmo.Om0\n",
    "        res1 = sp.integrate.quad(lambda z: (c / 100) * (1 / (np.sqrt(Omega_L + Omega_m * ((1 + z) ** 3)))), 0, zf)\n",
    "        Dcom = res1[0]\n",
    "        return Dcom\n",
    "\n",
    "    def get_Dcom_array(self,zarray):\n",
    "        Omega_m = self.cosmo.Om0\n",
    "        Omega_L = 1. - Omega_m\n",
    "        c = 3 * 10 ** 5\n",
    "        Dcom_array = np.zeros(len(zarray))\n",
    "        for j in range(len(zarray)):\n",
    "            zf = zarray[j]\n",
    "            res1 = sp.integrate.quad(lambda z: (c / 100) * (1 / (np.sqrt(Omega_L + Omega_m * ((1 + z) ** 3)))), 0, zf)\n",
    "            Dcom = res1[0]\n",
    "            Dcom_array[j] = Dcom\n",
    "        return Dcom_array\n",
    "\n",
    "    def get_Hz(self,zarray):\n",
    "        Omega_m = self.cosmo.Om0\n",
    "        Omega_L = 1 - Omega_m\n",
    "        Ez = np.sqrt(Omega_m * (1 + zarray) ** 3 + Omega_L)\n",
    "        Hz = 100. * Ez\n",
    "        return Hz\n",
    "\n",
    "    def get_diff(self, zf, chi):\n",
    "        return chi - self.get_Dcom(zf)\n",
    "\n",
    "    def root_find(self, init_x, chi):\n",
    "        nll = lambda *args: self.get_diff(*args)\n",
    "        result = op.root(nll, np.array([init_x]), args=chi, options={'maxfev': 50}, tol=0.01)\n",
    "        return result.x[0]\n",
    "\n",
    "    def get_z_from_chi(self, chi):\n",
    "        valf = self.root_find(0., chi)\n",
    "        return valf\n",
    "\n",
    "\n",
    "def parse_arguments():\n",
    "    parser = argparse.ArgumentParser()\n",
    "    parser.add_argument('--njk', default=60, type=int, help='Cat type')\n",
    "    parser.add_argument('--rmin', type=float, default=20.0, help='rmin')\n",
    "    parser.add_argument('--rmax', type=float, default=80.0, help='rmax')\n",
    "    parser.add_argument('--zmin', type=float, default=0.15, help='rmin')\n",
    "    parser.add_argument('--zmax', type=float, default=0.6, help='rmax')\n",
    "    args_all = parser.parse_args()\n",
    "    return args_all\n",
    "\n",
    "\n",
    "\n",
    "\n"
   ]
  },
  {
   "cell_type": "code",
   "execution_count": 37,
   "metadata": {},
   "outputs": [
    {
     "data": {
      "text/plain": [
       "2.997239497521192"
      ]
     },
     "execution_count": 37,
     "metadata": {},
     "output_type": "execute_result"
    }
   ],
   "source": [
    "from astropy.cosmology import FlatLambdaCDM\n",
    "# import general_funcs\n",
    "# cosmo = FlatLambdaCDM(H0=100, Om0=Omega_m)\n",
    "cosmo_params_dict = {'flat': True, 'H0': 70.0, 'Om0': 0.283705720011, 'Ob0': 0.044, 'sigma8': 0.8, 'ns': 0.95}\n",
    "gnf = general_funcs(cosmo_params_dict)\n",
    "Dcom_jv = gnf.get_Dcom(0.2)\n",
    "(0.5/Dcom_jv)*(180.*60./np.pi)\n",
    "\n",
    "# rmin\n",
    "# np.amin(datapoint_z_all)\n",
    "\n",
    "\n",
    "\n"
   ]
  },
  {
   "cell_type": "code",
   "execution_count": 58,
   "metadata": {},
   "outputs": [],
   "source": [
    "import matplotlib\n",
    "import matplotlib.pyplot as plt\n",
    "import scipy as sp\n",
    "import dill\n",
    "import sys, os\n",
    "from astropy.io import fits\n",
    "import scipy.interpolate as interpolate\n",
    "sys.path.insert(0, '/global/cfs/cdirs/des/shivamp/nl_cosmosis/cosmosis/ACTxDESY3/src/cosmosis_code/')\n",
    "os.environ['COSMOSIS_SRC_DIR'] = '/global/cfs/cdirs/des/shivamp/nl_cosmosis/cosmosis'\n",
    "font = {'size': 18}\n",
    "matplotlib.rc('font', **font)\n",
    "plt.rc('text', usetex=True)\n",
    "plt.rc('font', family='serif')\n",
    "import pickle as pk\n",
    "tf_name = '/global/cfs/cdirs/des/shivamp/nl_cosmosis/cosmosis/ACTxDESY3/src/results/DV_obj_temp_kk_gty_buzzard_nobeam_comp_duffy08.pk'  \n",
    "DV = dill.load(open(tf_name,'rb'))\n",
    " \n",
    "Cl_val = DV.Cl_result_dict['yy']['bin_' + str(0) + '_' + str(0)]['tot']\n",
    "ell_val = DV.Cl_result_dict['l_array']\n",
    "\n",
    "df = np.loadtxt('/global/cfs/cdirs/des/shivamp/nl_cosmosis/cosmosis/ACTxDESY3/src/data/buzzard_yy_total_full.txt')  \n",
    "\n",
    "df2 = np.loadtxt('/global/cfs/cdirs/des/shivamp/nl_cosmosis/cosmosis/ACTxDESY3/src/data/buzzard_chinchilla3_yy_total_full.txt')  \n",
    "\n",
    "\n",
    "# clyy_hp = df[:,0]\n",
    "# ell_hp = np.arange(len(clyy_hp))\n",
    "\n",
    "Cl_interp = interpolate.interp1d(np.log(ell_val),np.log(Cl_val), fill_value='extrapolate')\n",
    "Cl_hp = np.exp(Cl_interp(np.log(df[:,0])))\n",
    "\n",
    "Cl_hp2 = np.exp(Cl_interp(np.log(df2[:,0])))\n",
    "\n",
    "\n"
   ]
  },
  {
   "cell_type": "code",
   "execution_count": 60,
   "metadata": {},
   "outputs": [
    {
     "data": {
      "text/plain": [
       "<matplotlib.legend.Legend at 0x2aaaea176f90>"
      ]
     },
     "execution_count": 60,
     "metadata": {},
     "output_type": "execute_result"
    },
    {
     "data": {
      "image/png": "[encoded data removed]",
      "text/plain": [
       "<Figure size 576x432 with 1 Axes>"
      ]
     },
     "metadata": {
      "needs_background": "light"
     },
     "output_type": "display_data"
    }
   ],
   "source": [
    "clyy_hp = df[:,0]\n",
    "ell_hp = np.arange(len(clyy_hp))\n",
    "fig, ax = plt.subplots(1,1)\n",
    "fig.set_size_inches((8,6))  \n",
    "# ax.errorbar(df[:,0], 1e12*(1./(2*np.pi))*(df[:,0])*(df[:,0] + 1.)*df[:,1],  label = r'$C^{yy}_{\\ell} -$' + 'Theory', linestyle='--')\n",
    "ax.errorbar(df[1:,0], (df[1:,1] - Cl_hp[1:])/Cl_hp[1:],  label = r'nside 4096', linestyle='--')\n",
    "ax.errorbar(df2[1:,0], (df2[1:,1] - Cl_hp2[1:])/Cl_hp2[1:],  label = r'nside 2048', linestyle='--')\n",
    "ax.set_xscale('log')\n",
    "ax.axhline(0.0, ls ='--',color='k')\n",
    "# ax.set_yscale('log')\n",
    "ax.set_xlim(1e2,1e4)\n",
    "ax.set_ylim(-0.3,0.3)\n",
    "# ax.set_ylim(1e-3,1e1)\n",
    "ax.set_ylabel(r'$\\Delta C^{yy}_{\\ell}/ C^{yy, theory}_{\\ell}$')\n",
    "ax.set_xlabel(r'$\\ell$')\n",
    "ax.legend()\n",
    "\n",
    "\n"
   ]
  },
  {
   "cell_type": "code",
   "execution_count": 64,
   "metadata": {},
   "outputs": [
    {
     "data": {
      "text/plain": [
       "(50000, 6)"
      ]
     },
     "execution_count": 64,
     "metadata": {},
     "output_type": "execute_result"
    }
   ],
   "source": [
    "import dill\n",
    "\n",
    "df = '/global/cfs/cdirs/des/shivamp/nl_cosmosis/cosmosis/y3-3x2pt-methods/cosmosis/3x2pt_pm_test/HOD_samples_data_bin' + str(3) + '_zrep_3_1percent_nbarerr_signbar_analyticmarg.pk'\n",
    "dictv = dill.load(open(df,'rb'))\n",
    "\n",
    "dictv['allp'].shape\n"
   ]
  },
  {
   "cell_type": "code",
   "execution_count": 65,
   "metadata": {},
   "outputs": [
    {
     "data": {
      "text/plain": [
       "24800"
      ]
     },
     "execution_count": 65,
     "metadata": {},
     "output_type": "execute_result"
    }
   ],
   "source": [
    "np.random.randint(0, 50000)\n"
   ]
  },
  {
   "cell_type": "code",
   "execution_count": null,
   "metadata": {},
   "outputs": [],
   "source": []
  }
 ],
 "metadata": {
  "kernelspec": {
   "display_name": "myenv3-jp",
   "language": "python",
   "name": "myenv3-jp"
  },
  "language_info": {
   "codemirror_mode": {
    "name": "ipython",
    "version": 3
   },
   "file_extension": ".py",
   "mimetype": "text/x-python",
   "name": "python",
   "nbconvert_exporter": "python",
   "pygments_lexer": "ipython3",
   "version": "3.7.6"
  }
 },
 "nbformat": 4,
 "nbformat_minor": 4
}
