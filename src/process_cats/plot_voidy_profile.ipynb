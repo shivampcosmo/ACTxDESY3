{
 "cells": [
  {
   "cell_type": "code",
   "execution_count": 2,
   "metadata": {},
   "outputs": [
    {
     "name": "stdin",
     "output_type": "stream",
     "text": [
      "Once deleted, variables cannot be recovered. Proceed (y/[n])?  y\n"
     ]
    }
   ],
   "source": [
    "%reset\n",
    "\n",
    "import numpy as np\n",
    "import pickle as pk\n",
    "import matplotlib\n",
    "import matplotlib.pyplot as pl\n",
    "from astropy import units\n",
    "from astropy import constants\n",
    "# import matplotlib\n",
    "from astropy.io import fits\n",
    "import sys, os\n",
    "import dill\n",
    "# %pylab inline\n",
    "\n",
    "# Color = ['#0072b1','#009d73','#d45e00','k', 'grey','yellow']\n",
    "\n",
    "Color = ['k', '#000075', '#a9a9a9','#9A6324', '#808000','#aaffc3', '#fffac8'  ,'#800000', '#ffd8b1',]\n",
    "\n",
    "\n",
    "font = {'size'   : 18}\n",
    "matplotlib.rc('font', **font)\n",
    "# # Latex stuff\n",
    "pl.rc('text', usetex=True)\n",
    "pl.rc('font', family='serif')\n",
    "\n",
    "# %matplotlib inline\n",
    "\n",
    "\n",
    "\n",
    "\n"
   ]
  },
  {
   "cell_type": "code",
   "execution_count": 8,
   "metadata": {},
   "outputs": [
    {
     "name": "stdout",
     "output_type": "stream",
     "text": [
      "4357\n",
      "1044\n",
      "126\n"
     ]
    },
    {
     "data": {
      "image/png": "[encoded data removed]",
      "text/plain": [
       "<Figure size 504x432 with 1 Axes>"
      ]
     },
     "metadata": {
      "needs_background": "light"
     },
     "output_type": "display_data"
    }
   ],
   "source": [
    "\n",
    "rv_bins = [[20,30],[30,40],[40,60]]\n",
    "labels = [r'$20 < R_v < 30$', r'$30 < R_v < 40$', r'$40 < R_v < 60$']\n",
    "colors = ['r','b','k']\n",
    "fig, ax = pl.subplots(1,1, figsize = (7,6))\n",
    "for jr in range(len(rv_bins)):\n",
    "    df = dill.load(open('/global/cfs/cdirs/des/shivamp/nl_cosmosis/cosmosis/ACTxDESY3/src/results/dy/dy_planck_fwhm_10arcmin_nside2048__cat_void_z_0.15_0.6_R_20.0_80.0_dojk_True_njk_60_desy3_w1_loghres.pk','rb'))   \n",
    "    xi_all = df['xi_all']\n",
    "    theta_thv_all = df['theta_thv_all']\n",
    "    thv_all = df['thv_data']\n",
    "    theta_all = df['theta_all_data']\n",
    "    rv_all = df['rv']\n",
    "    zv_all = df['z']\n",
    "\n",
    "\n",
    "    selz = np.where((rv_all > rv_bins[jr][0]) & (rv_all < rv_bins[jr][1]) & (zv_all > 0.2) & (zv_all < 0.6) )[0]\n",
    "    xi_all, theta_thv_all = xi_all[selz,:], theta_thv_all[selz,:]\n",
    "    thv_all = thv_all[selz]\n",
    "    theta_all = theta_all[selz, :]\n",
    "    print(len(selz))\n",
    "    \n",
    "    xi_mean = np.mean(xi_all, axis=0)\n",
    "    \n",
    "    nv = xi_all.shape[0]\n",
    "    nrad = xi_all.shape[1]\n",
    "    xi_big_all = np.zeros_like(xi_all)\n",
    "    for jv in range(nv):\n",
    "        ind_all = np.arange(nv)\n",
    "        ind_rm1 = np.delete(ind_all,jv)\n",
    "        xi_rm1 = np.mean(xi_all[ind_rm1,:], axis=0)\n",
    "        xi_big_all[jv,:] = xi_rm1\n",
    "\n",
    "    xi_mean_rep = np.tile(xi_mean.reshape(1,nrad),(nv,1)) \n",
    "\n",
    "\n",
    "    xi_cov = ((nv-1)/(nv))*np.dot((xi_big_all - xi_mean_rep).T , (xi_big_all - xi_mean_rep))\n",
    "\n",
    "\n",
    "# for j in range(xi_all.shape[0]):\n",
    "#     ax.errorbar(theta_thv_all[j,:],xi_all[j,:],ls='-',marker='',lw=0.5,color='black')\n",
    "# ax.errorbar(theta_thv_all[0,:],xi_mean,ls='-',marker='',lw=0.5,color='black')\n",
    "#     ax.errorbar(theta_thv_all[0,:] + 0.02*jr,xi_mean, np.sqrt(np.diag(xi_cov)),ls='',marker='s',lw=2.0,color=colors[jr],label=labels[jr])\n",
    "    ax.errorbar(theta_thv_all[0,:] * (1.03**jr),xi_mean, np.sqrt(np.diag(xi_cov)),ls='',marker='s',lw=2.0,color=colors[jr],label=labels[jr])\n",
    "ax.set_xscale('log')\n",
    "# ax.set_yscale('log')\n",
    "ax.set_xlabel(r'$\\theta/\\theta_v$', size = 20)\n",
    "ax.axhline(0.0, ls='--',color='k')\n",
    "ax.set_ylabel(r'$\\xi_{yv}$', size = 22)\n",
    "ax.set_ylim(-5e-8,1e-7)\n",
    "# ax.set_xlim(0.0,1.0)\n",
    "ax.tick_params(axis='both', which='major', labelsize=15)\n",
    "ax.tick_params(axis='both', which='minor', labelsize=15)\n",
    "ax.legend(fontsize = 18, frameon = False)\n",
    "pl.tight_layout()\n",
    "\n",
    "\n",
    "\n",
    "\n",
    "\n",
    "\n",
    "\n"
   ]
  },
  {
   "cell_type": "code",
   "execution_count": 17,
   "metadata": {},
   "outputs": [
    {
     "name": "stdout",
     "output_type": "stream",
     "text": [
      "4357\n",
      "4336.324590206146\n",
      "1044\n",
      "1039.9169704914093\n",
      "126\n",
      "126.1784399151802\n"
     ]
    },
    {
     "data": {
      "image/png": "[encoded data removed]",
      "text/plain": [
       "<Figure size 504x432 with 1 Axes>"
      ]
     },
     "metadata": {
      "needs_background": "light"
     },
     "output_type": "display_data"
    }
   ],
   "source": [
    "\n",
    "rv_bins = [[20,30],[30,40],[40,60]]\n",
    "labels = [r'$20 < R_v < 30$', r'$30 < R_v < 40$', r'$40 < R_v < 60$']\n",
    "colors = ['r','b','k']\n",
    "fig, ax = pl.subplots(1,1, figsize = (7,6))\n",
    "for jr in range(len(rv_bins)):\n",
    "    df = dill.load(open('/global/cfs/cdirs/des/shivamp/nl_cosmosis/cosmosis/ACTxDESY3/src/results/dy/dy_planck_fwhm_10arcmin_nside2048__cat_void_z_0.15_0.6_R_20.0_80.0_dojk_True_njk_60_desy3_w1_loghres_weighted.pk','rb'))   \n",
    "    xi_all = df['xi_all']\n",
    "    theta_thv_all = df['theta_thv_all']\n",
    "    thv_all = df['thv_data']\n",
    "    theta_all = df['theta_all_data']\n",
    "    rv_all = df['rv']\n",
    "    zv_all = df['z']\n",
    "    wv_all = df['lss_weights_data']\n",
    "\n",
    "    selz = np.where((rv_all > rv_bins[jr][0]) & (rv_all < rv_bins[jr][1]) & (zv_all > 0.2) & (zv_all < 0.6) )[0]\n",
    "    xi_all, theta_thv_all = xi_all[selz,:], theta_thv_all[selz,:]\n",
    "    thv_all = thv_all[selz]\n",
    "    theta_all = theta_all[selz, :]\n",
    "    wv_all = wv_all[selz]\n",
    "    print(len(selz))\n",
    "    \n",
    "    xi_mean = np.sum(xi_all, axis=0)/np.sum(wv_all)\n",
    "    print(np.sum(wv_all))\n",
    "    \n",
    "    nv = xi_all.shape[0]\n",
    "    nrad = xi_all.shape[1]\n",
    "    xi_big_all = np.zeros_like(xi_all)\n",
    "    for jv in range(nv):\n",
    "        ind_all = np.arange(nv)\n",
    "        ind_rm1 = np.delete(ind_all,jv)\n",
    "        xi_rm1 = np.sum(xi_all[ind_rm1,:], axis=0)/np.sum(wv_all[ind_rm1])\n",
    "        xi_big_all[jv,:] = xi_rm1\n",
    "\n",
    "    xi_mean_rep = np.tile(xi_mean.reshape(1,nrad),(nv,1)) \n",
    "\n",
    "\n",
    "    xi_cov = ((nv-1)/(nv))*np.dot((xi_big_all - xi_mean_rep).T , (xi_big_all - xi_mean_rep))\n",
    "\n",
    "\n",
    "# for j in range(xi_all.shape[0]):\n",
    "#     ax.errorbar(theta_thv_all[j,:],xi_all[j,:],ls='-',marker='',lw=0.5,color='black')\n",
    "# ax.errorbar(theta_thv_all[0,:],xi_mean,ls='-',marker='',lw=0.5,color='black')\n",
    "#     ax.errorbar(theta_thv_all[0,:] + 0.02*jr,xi_mean, np.sqrt(np.diag(xi_cov)),ls='',marker='s',lw=2.0,color=colors[jr],label=labels[jr])\n",
    "    ax.errorbar(theta_thv_all[0,:] * (1.03**jr),xi_mean, np.sqrt(np.diag(xi_cov)),ls='',marker='s',lw=2.0,color=colors[jr],label=labels[jr])\n",
    "ax.set_xscale('log')\n",
    "# ax.set_yscale('log')\n",
    "ax.set_xlabel(r'$\\theta/\\theta_v$', size = 20)\n",
    "ax.axhline(0.0, ls='--',color='k')\n",
    "ax.set_ylabel(r'$\\xi_{yv}$', size = 22)\n",
    "ax.set_ylim(-5e-8,1e-7)\n",
    "# ax.set_xlim(0.0,1.0)\n",
    "ax.tick_params(axis='both', which='major', labelsize=15)\n",
    "ax.tick_params(axis='both', which='minor', labelsize=15)\n",
    "ax.legend(fontsize = 18, frameon = False)\n",
    "pl.tight_layout()\n",
    "\n",
    "\n",
    "\n",
    "\n",
    "\n",
    "\n",
    "\n",
    "\n"
   ]
  },
  {
   "cell_type": "code",
   "execution_count": 13,
   "metadata": {},
   "outputs": [
    {
     "name": "stdout",
     "output_type": "stream",
     "text": [
      "4357\n",
      "4351 4357\n",
      "[        inf -0.16776843 -0.17159176 -0.16154233 -0.13328486 -0.10145411\n",
      " -0.04717788  0.03046448  0.08657254  0.08128371  0.03314853 -0.00612633\n",
      " -0.01246703]\n"
     ]
    },
    {
     "name": "stderr",
     "output_type": "stream",
     "text": [
      "/global/u1/s/spandey/self_module_ini/myenv3/lib/python3.7/site-packages/ipykernel_launcher.py:39: RuntimeWarning: invalid value encountered in subtract\n",
      "/global/u1/s/spandey/self_module_ini/myenv3/lib/python3.7/site-packages/ipykernel_launcher.py:23: DeprecationWarning: in the future out of bounds indices will raise an error instead of being ignored by `numpy.delete`.\n"
     ]
    },
    {
     "name": "stdout",
     "output_type": "stream",
     "text": [
      "1044\n",
      "1043 1044\n",
      "[-0.23600543 -0.20992519 -0.20687626 -0.19688104 -0.1748461  -0.13098007\n",
      " -0.08439116 -0.01962183  0.03544885  0.0424153   0.01314578 -0.00362594\n",
      " -0.00767777]\n",
      "126\n",
      "126 126\n",
      "[-0.26221679 -0.20528576 -0.22187982 -0.18175568 -0.17887114 -0.11553149\n",
      " -0.08296369 -0.01453664  0.01904415  0.02500842  0.00767457 -0.00859038\n",
      " -0.00826182]\n"
     ]
    },
    {
     "data": {
      "image/png": "[encoded data removed]",
      "text/plain": [
       "<Figure size 504x432 with 1 Axes>"
      ]
     },
     "metadata": {
      "needs_background": "light"
     },
     "output_type": "display_data"
    }
   ],
   "source": [
    "\n",
    "rv_bins = [[20,30],[30,40],[40,60]]\n",
    "labels = [r'$20 < R_v < 30$', r'$30 < R_v < 40$', r'$40 < R_v < 60$']\n",
    "colors = ['r','b','k']\n",
    "fig, ax = pl.subplots(1,1, figsize = (7,6))\n",
    "for jr in range(len(rv_bins)):\n",
    "    df = dill.load(open('/global/cfs/cdirs/des/shivamp/nl_cosmosis/cosmosis/ACTxDESY3/src/results/dy/void_rm___cat_void_z_0.15_0.6_R_20.0_80.0_dojk_True_njk_100_desy3_w1_loghres.pk','rb'))   \n",
    "    xi_all = df['xi_all']\n",
    "    theta_thv_all = df['theta_thv_all']\n",
    "    thv_all = df['thv_data']\n",
    "    theta_all = df['theta_all_data']\n",
    "    rv_all = df['rv']\n",
    "    zv_all = df['z']\n",
    "\n",
    "    selz = np.where((rv_all > rv_bins[jr][0]) & (rv_all < rv_bins[jr][1]) & (zv_all > 0.2) & (zv_all < 0.6) )[0]\n",
    "    xi_all, theta_thv_all = xi_all[selz,:], theta_thv_all[selz,:]\n",
    "    thv_all = thv_all[selz]\n",
    "    theta_all = theta_all[selz, :]\n",
    "    print(len(selz))\n",
    "    nan_inds = np.argwhere(np.isnan(xi_all))\n",
    "    if len(nan_inds) > 0:\n",
    "        nan_ind1 = nan_inds[:,0]\n",
    "    ind_all = np.arange(len(selz))\n",
    "    ind_all = np.delete(ind_all,nan_ind1)\n",
    "    print(len(ind_all), len(selz))\n",
    "    xi_all = xi_all[ind_all,:]\n",
    "    xi_mean = np.mean(xi_all, axis=0)\n",
    "    print(xi_mean)    \n",
    "    nv = xi_all.shape[0]\n",
    "    nrad = xi_all.shape[1]\n",
    "    xi_big_all = np.zeros_like(xi_all)\n",
    "    for jv in range(nv):\n",
    "        ind_all = np.arange(nv)\n",
    "        ind_rm1 = np.delete(ind_all,jv)\n",
    "        xi_rm1 = np.mean(xi_all[ind_rm1,:], axis=0)\n",
    "        xi_big_all[jv,:] = xi_rm1\n",
    "\n",
    "    xi_mean_rep = np.tile(xi_mean.reshape(1,nrad),(nv,1)) \n",
    "\n",
    "    xi_cov = ((nv-1)/(nv))*np.dot((xi_big_all - xi_mean_rep).T , (xi_big_all - xi_mean_rep))\n",
    "\n",
    "    ax.errorbar(theta_thv_all[0,:] * (1.03**jr),xi_mean, np.sqrt(np.diag(xi_cov)),ls='',marker='s',lw=2.0,color=colors[jr],label=labels[jr])\n",
    "ax.set_xscale('log')\n",
    "# ax.set_yscale('log')\n",
    "ax.set_xlabel(r'$\\theta/\\theta_v$', size = 20)\n",
    "ax.axhline(0.0, ls='--',color='k')\n",
    "ax.set_ylabel(r'$\\xi_{gv}$', size = 22)\n",
    "# ax.set_ylim(-5e-8,1e-7)\n",
    "ax.set_xlim(0.1,3.0)\n",
    "ax.tick_params(axis='both', which='major', labelsize=15)\n",
    "ax.tick_params(axis='both', which='minor', labelsize=15)\n",
    "ax.legend(fontsize = 18, frameon = False)\n",
    "pl.tight_layout()\n",
    "\n"
   ]
  },
  {
   "cell_type": "code",
   "execution_count": 191,
   "metadata": {},
   "outputs": [],
   "source": []
  },
  {
   "cell_type": "code",
   "execution_count": 192,
   "metadata": {},
   "outputs": [],
   "source": []
  },
  {
   "cell_type": "code",
   "execution_count": 193,
   "metadata": {},
   "outputs": [
    {
     "data": {
      "text/plain": [
       "((4357, 8), (4357, 8))"
      ]
     },
     "execution_count": 193,
     "metadata": {},
     "output_type": "execute_result"
    }
   ],
   "source": [
    "xi_mean_rep.shape, xi_big_all.shape\n"
   ]
  },
  {
   "cell_type": "code",
   "execution_count": 194,
   "metadata": {},
   "outputs": [],
   "source": []
  },
  {
   "cell_type": "code",
   "execution_count": 195,
   "metadata": {},
   "outputs": [
    {
     "data": {
      "text/plain": [
       "(8, 8)"
      ]
     },
     "execution_count": 195,
     "metadata": {},
     "output_type": "execute_result"
    }
   ],
   "source": [
    "xi_cov.shape\n"
   ]
  },
  {
   "cell_type": "code",
   "execution_count": 196,
   "metadata": {},
   "outputs": [
    {
     "name": "stderr",
     "output_type": "stream",
     "text": [
      "No handles with labels found to put in legend.\n"
     ]
    },
    {
     "data": {
      "image/png": "[encoded data removed]",
      "text/plain": [
       "<Figure size 504x432 with 1 Axes>"
      ]
     },
     "metadata": {
      "needs_background": "light"
     },
     "output_type": "display_data"
    }
   ],
   "source": [
    "\n",
    "fig, ax = pl.subplots(1,1, figsize = (7,6))\n",
    "ind = 30\n",
    "\n",
    "# for j in range(xi_all.shape[0]):\n",
    "#     ax.errorbar(theta_thv_all[j,:],xi_all[j,:],ls='-',marker='',lw=0.5,color='black')\n",
    "# ax.errorbar(theta_thv_all[0,:],xi_mean,ls='-',marker='',lw=0.5,color='black')\n",
    "ax.errorbar(theta_thv_all[0,:],xi_mean, np.sqrt(np.diag(xi_cov)),ls='-',marker='',lw=2.0,color='blue')\n",
    "# ax.set_xscale('log')\n",
    "# ax.set_yscale('log')\n",
    "ax.set_xlabel(r'$\\theta/\\theta_v$', size = 18)\n",
    "ax.axhline(0.0, ls='--',color='k')\n",
    "ax.set_ylabel(r'$\\xi$', size = 20)\n",
    "# ax.set_ylim(1e-5,3e4)\n",
    "# ax.set_xlim(0.0,1.0)\n",
    "ax.tick_params(axis='both', which='major', labelsize=15)\n",
    "ax.tick_params(axis='both', which='minor', labelsize=15)\n",
    "ax.legend(fontsize = 18, frameon = False)\n",
    "pl.tight_layout()\n",
    "\n",
    "\n",
    "\n",
    "\n"
   ]
  },
  {
   "cell_type": "code",
   "execution_count": 117,
   "metadata": {},
   "outputs": [
    {
     "data": {
      "text/plain": [
       "array([[ 14.67754561,  32.29060034,  49.90365508, ..., 102.74281927,\n",
       "        120.35587401, 137.96892874],\n",
       "       [ 12.26290109,  26.97838241,  41.69386372, ...,  85.84030766,\n",
       "        100.55578897, 115.27127028],\n",
       "       [ 15.97143814,  35.13716392,  54.30288969, ..., 111.80006701,\n",
       "        130.96579278, 150.13151855],\n",
       "       ...,\n",
       "       [ 16.88052874,  37.13716322,  57.3937977 , ..., 118.16370115,\n",
       "        138.42033563, 158.67697011],\n",
       "       [ 13.83666162,  30.44065557,  47.04464951, ...,  96.85663135,\n",
       "        113.4606253 , 130.06461924],\n",
       "       [ 12.47024513,  27.43453929,  42.39883346, ...,  87.29171594,\n",
       "        102.2560101 , 117.22030426]])"
      ]
     },
     "execution_count": 117,
     "metadata": {},
     "output_type": "execute_result"
    }
   ],
   "source": [
    "theta_all\n"
   ]
  },
  {
   "cell_type": "code",
   "execution_count": 119,
   "metadata": {},
   "outputs": [
    {
     "name": "stderr",
     "output_type": "stream",
     "text": [
      "No handles with labels found to put in legend.\n"
     ]
    },
    {
     "data": {
      "image/png": "[encoded data removed]",
      "text/plain": [
       "<Figure size 504x432 with 1 Axes>"
      ]
     },
     "metadata": {
      "needs_background": "light"
     },
     "output_type": "display_data"
    }
   ],
   "source": [
    "\n",
    "fig, ax = pl.subplots(1,1, figsize = (7,6))\n",
    "ind = 30\n",
    "\n",
    "# for j in range(xi_all.shape[0]):\n",
    "#     ax.errorbar(theta_thv_all[j,:],xi_all[j,:],ls='-',marker='',lw=0.5,color='black')\n",
    "# ax.errorbar(theta_thv_all[0,:],xi_mean,ls='-',marker='',lw=0.5,color='black')\n",
    "ax.errorbar(np.mean(theta_all,axis=0),xi_mean, np.sqrt(np.diag(xi_cov)),ls='-',marker='',lw=2.0,color='blue')\n",
    "ax.set_xscale('log')\n",
    "# ax.set_yscale('log')\n",
    "ax.set_xlabel(r'$\\theta/\\theta_v$', size = 18)\n",
    "ax.axhline(0.0, ls='--',color='k')\n",
    "ax.set_ylabel(r'$\\xi$', size = 20)\n",
    "# ax.set_ylim(1e-5,3e4)\n",
    "# ax.set_xlim(0.0,1.0)\n",
    "ax.tick_params(axis='both', which='major', labelsize=15)\n",
    "ax.tick_params(axis='both', which='minor', labelsize=15)\n",
    "ax.legend(fontsize = 18, frameon = False)\n",
    "pl.tight_layout()\n",
    "\n",
    "\n",
    "\n",
    "\n",
    "\n"
   ]
  },
  {
   "cell_type": "code",
   "execution_count": null,
   "metadata": {},
   "outputs": [],
   "source": []
  }
 ],
 "metadata": {
  "kernelspec": {
   "display_name": "myenv3-jp",
   "language": "python",
   "name": "myenv3-jp"
  },
  "language_info": {
   "codemirror_mode": {
    "name": "ipython",
    "version": 3
   },
   "file_extension": ".py",
   "mimetype": "text/x-python",
   "name": "python",
   "nbconvert_exporter": "python",
   "pygments_lexer": "ipython3",
   "version": "3.7.6"
  }
 },
 "nbformat": 4,
 "nbformat_minor": 4
}
