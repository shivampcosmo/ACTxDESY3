{
 "cells": [
  {
   "cell_type": "code",
   "execution_count": 1,
   "metadata": {},
   "outputs": [
    {
     "name": "stdin",
     "output_type": "stream",
     "text": [
      "Once deleted, variables cannot be recovered. Proceed (y/[n])?  y\n"
     ]
    }
   ],
   "source": [
    "%reset\n",
    "\n",
    "import numpy as np\n",
    "import pickle as pk\n",
    "import matplotlib.pyplot as pl\n",
    "from astropy import units\n",
    "from astropy import constants\n",
    "import matplotlib\n",
    "from astropy.io import fits\n",
    "# %pylab inline\n",
    "\n",
    "# Color = ['#0072b1','#009d73','#d45e00','k', 'grey','yellow']\n",
    "\n",
    "Color = ['k', '#000075', '#a9a9a9','#9A6324', '#808000','#aaffc3', '#fffac8'  ,'#800000', '#ffd8b1',]\n",
    "\n",
    "font = {'size'   : 18}\n",
    "matplotlib.rc('font', **font)\n",
    "# # Latex stuff\n",
    "pl.rc('text', usetex=False)\n",
    "pl.rc('font', family='serif')\n",
    "\n",
    "# %matplotlib inline\n",
    "\n",
    "\n"
   ]
  },
  {
   "cell_type": "code",
   "execution_count": 3,
   "metadata": {},
   "outputs": [],
   "source": [
    "ply = fits.open('/global/cfs/cdirs/des/shivamp/actxdes/data_set/planck_data/pl2015/nilc_ymaps.fits')  \n",
    "\n",
    "\n"
   ]
  },
  {
   "cell_type": "code",
   "execution_count": 5,
   "metadata": {},
   "outputs": [
    {
     "data": {
      "text/plain": [
       "XTENSION= 'BINTABLE'           /Written by IDL:  Sun Feb  1 15:05:26 2015       \n",
       "BITPIX  =                    8 /                                                \n",
       "NAXIS   =                    2 /Binary table                                    \n",
       "NAXIS1  =                   16 /Number of bytes per row                         \n",
       "NAXIS2  =             50331648 /Number of rows                                  \n",
       "PCOUNT  =                    0 /Random parameter count                          \n",
       "GCOUNT  =                    1 /Group count                                     \n",
       "TFIELDS =                    4 /Number of columns                               \n",
       "COMMENT                                                                         \n",
       "COMMENT  *** End of mandatory fields ***                                        \n",
       "COMMENT                                                                         \n",
       "EXTVER  =                    1 /Extension version                               \n",
       "DATE    = '2015-02-01'         /Creation date                                   \n",
       "COMMENT                                                                         \n",
       "COMMENT  *** Column names ***                                                   \n",
       "COMMENT                                                                         \n",
       "TTYPE1  = 'FULL    '           /                                                \n",
       "TTYPE2  = 'FIRST   '           /                                                \n",
       "TTYPE3  = 'LAST    '           /                                                \n",
       "TTYPE4  = 'MASK    '           /                                                \n",
       "COMMENT                                                                         \n",
       "COMMENT  *** Column formats ***                                                 \n",
       "COMMENT                                                                         \n",
       "TFORM1  = 'E       '           /                                                \n",
       "TFORM2  = 'E       '           /                                                \n",
       "TFORM3  = 'E       '           /                                                \n",
       "TFORM4  = 'J       '           /                                                \n",
       "COMMENT                                                                         \n",
       "COMMENT  *** Column units ***                                                   \n",
       "COMMENT                                                                         \n",
       "COMMENT  *** Planck params ***                                                  \n",
       "COMMENT                                                                         \n",
       "TUNIT1  = 'y full  '           /                                                \n",
       "TUNIT2  = 'y first '           /                                                \n",
       "TUNIT3  = 'y last  '           /                                                \n",
       "TUNIT4  = 'mask    '           /                                                \n",
       "EXTNAME = 'Y-MAP   '           / Extension name                                 \n",
       "PIXTYPE = 'HEALPIX '           /                                                \n",
       "COORDSYS= 'GALACTIC'           / Coordinate system                              \n",
       "ORDERING= 'RING    '           / Healpix ordering                               \n",
       "NSIDE   =                 2048 / Healpix Nside                                  \n",
       "FIRSTPIX=                    0 / First pixel # (0 based)                        \n",
       "LASTPIX =             50331647 / Last pixel # (0 based)                         \n",
       "FILENAME= 'nilc_ymaps.fits'    / FITS filename                                  \n",
       "BAD_DATA=         -1.63750E+30 / bad pixel value                                \n",
       "COMMENT                                                                         \n",
       "COMMENT ------------------------------------------------------------------------\n",
       "COMMENT For further details see Planck Explanatory Supplement at:               \n",
       "COMMENT   http://www.cosmos.esa.int/wikiSI/planckpla                            \n",
       "COMMENT ------------------------------------------------------------------------"
      ]
     },
     "execution_count": 5,
     "metadata": {},
     "output_type": "execute_result"
    }
   ],
   "source": [
    "ply[1].header\n"
   ]
  },
  {
   "cell_type": "code",
   "execution_count": 6,
   "metadata": {},
   "outputs": [],
   "source": [
    "ply_f = ply[1].data['FIRST']\n",
    "ply_l = ply[1].data['LAST']\n",
    "\n"
   ]
  },
  {
   "cell_type": "code",
   "execution_count": 7,
   "metadata": {},
   "outputs": [],
   "source": [
    "ply_diff = ply_f - ply_l\n",
    "\n"
   ]
  },
  {
   "cell_type": "code",
   "execution_count": 24,
   "metadata": {},
   "outputs": [],
   "source": [
    "import healpy as hp\n",
    "nly_pl = hp.anafast(ply_diff, lmax=6000)\n",
    "\n"
   ]
  },
  {
   "cell_type": "code",
   "execution_count": 25,
   "metadata": {},
   "outputs": [],
   "source": [
    "l_cl = np.arange(len(nly_pl))\n",
    "\n",
    "\n",
    "\n"
   ]
  },
  {
   "cell_type": "code",
   "execution_count": 26,
   "metadata": {},
   "outputs": [],
   "source": [
    "df = np.loadtxt('/global/cfs/cdirs/des/shivamp/nl_cosmosis/cosmosis/ACTxDESY3/src/data/Planck/planck_yy_noise_full_full_beamed.txt')\n",
    "\n"
   ]
  },
  {
   "cell_type": "code",
   "execution_count": 27,
   "metadata": {},
   "outputs": [],
   "source": [
    "import scipy.interpolate as interpolate\n"
   ]
  },
  {
   "cell_type": "code",
   "execution_count": null,
   "metadata": {},
   "outputs": [],
   "source": []
  },
  {
   "cell_type": "code",
   "execution_count": 35,
   "metadata": {},
   "outputs": [
    {
     "data": {
      "text/plain": [
       "<matplotlib.legend.Legend at 0x2aac26154710>"
      ]
     },
     "execution_count": 35,
     "metadata": {},
     "output_type": "execute_result"
    },
    {
     "data": {
      "image/png": "[encoded data removed]",
      "text/plain": [
       "<Figure size 576x432 with 1 Axes>"
      ]
     },
     "metadata": {
      "needs_background": "light"
     },
     "output_type": "display_data"
    }
   ],
   "source": [
    "fig, ax = pl.subplots(1,1)\n",
    "fig.set_size_inches((8,6))  \n",
    "ax.errorbar(l_cl, nly_pl/4,  label = r'$\\sigma$' + '(First - Last)/4', linestyle='-')\n",
    "df_interp = interpolate.interp1d(np.log(df[:,0]),np.log(df[:,1]),fill_value='extrapolate')  \n",
    "ax.errorbar(df[:,0], df[:,1],  label = r'$C^{yy}_{\\ell} -$' + 'Theory', linestyle='--')\n",
    "# ax.errorbar(l_cl, np.exp(df_interp(np.log(l_cl))),  label = 'from th', linestyle='-',color='k')\n",
    "ax.set_xscale('log')\n",
    "ax.set_yscale('log')\n",
    "ax.set_xlim(1e1,5e3)\n",
    "ax.set_ylim(1e-22,1e-14)\n",
    "ax.set_ylabel(r'$N_{\\ell}$')\n",
    "ax.set_xlabel(r'$\\ell$')\n",
    "ax.legend()\n",
    "\n",
    "\n"
   ]
  },
  {
   "cell_type": "code",
   "execution_count": 36,
   "metadata": {},
   "outputs": [],
   "source": [
    "np.savetxt('/global/cfs/cdirs/des/shivamp/nl_cosmosis/cosmosis/ACTxDESY3/src/data/Planck/planck_yy_noise_first_miuns_last_by_4_beamed.txt',np.array([l_cl[0:5000], nly_pl[0:5000]/4]).T)     \n",
    "\n",
    "\n"
   ]
  },
  {
   "cell_type": "code",
   "execution_count": null,
   "metadata": {},
   "outputs": [],
   "source": []
  }
 ],
 "metadata": {
  "kernelspec": {
   "display_name": "myenv3-jp",
   "language": "python",
   "name": "myenv3-jp"
  },
  "language_info": {
   "codemirror_mode": {
    "name": "ipython",
    "version": 3
   },
   "file_extension": ".py",
   "mimetype": "text/x-python",
   "name": "python",
   "nbconvert_exporter": "python",
   "pygments_lexer": "ipython3",
   "version": "3.7.6"
  }
 },
 "nbformat": 4,
 "nbformat_minor": 4
}
