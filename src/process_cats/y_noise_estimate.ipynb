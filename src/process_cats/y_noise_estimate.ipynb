{
 "cells": [
  {
   "cell_type": "code",
   "execution_count": 23,
   "metadata": {},
   "outputs": [
    {
     "name": "stdin",
     "output_type": "stream",
     "text": [
      "Once deleted, variables cannot be recovered. Proceed (y/[n])?  y\n"
     ]
    }
   ],
   "source": [
    "%reset\n",
    "\n",
    "import numpy as np\n",
    "import pickle as pk\n",
    "import matplotlib.pyplot as pl\n",
    "from astropy import units\n",
    "from astropy import constants\n",
    "import matplotlib\n",
    "from astropy.io import fits\n",
    "# %pylab inline\n",
    "from pixell import enmap\n",
    "import numpy as np\n",
    "import matplotlib.pyplot as plt\n",
    "import healpy as hp\n",
    "from pixell import reproject\n",
    "# Color = ['#0072b1','#009d73','#d45e00','k', 'grey','yellow']\n",
    "import healpy as hp\n",
    "Color = ['k', '#000075', '#a9a9a9','#9A6324', '#808000','#aaffc3', '#fffac8'  ,'#800000', '#ffd8b1',]\n",
    "\n",
    "font = {'size'   : 18}\n",
    "matplotlib.rc('font', **font)\n",
    "# # Latex stuff\n",
    "pl.rc('text', usetex=False)\n",
    "pl.rc('font', family='serif')\n",
    "\n",
    "# %matplotlib inline\n",
    "\n",
    "\n"
   ]
  },
  {
   "cell_type": "code",
   "execution_count": 3,
   "metadata": {},
   "outputs": [],
   "source": [
    "ply = fits.open('/global/cfs/cdirs/des/shivamp/actxdes/data_set/planck_data/pl2015/nilc_ymaps.fits')  \n",
    "\n",
    "\n"
   ]
  },
  {
   "cell_type": "code",
   "execution_count": 5,
   "metadata": {},
   "outputs": [
    {
     "data": {
      "text/plain": [
       "XTENSION= 'BINTABLE'           /Written by IDL:  Sun Feb  1 15:05:26 2015       \n",
       "BITPIX  =                    8 /                                                \n",
       "NAXIS   =                    2 /Binary table                                    \n",
       "NAXIS1  =                   16 /Number of bytes per row                         \n",
       "NAXIS2  =             50331648 /Number of rows                                  \n",
       "PCOUNT  =                    0 /Random parameter count                          \n",
       "GCOUNT  =                    1 /Group count                                     \n",
       "TFIELDS =                    4 /Number of columns                               \n",
       "COMMENT                                                                         \n",
       "COMMENT  *** End of mandatory fields ***                                        \n",
       "COMMENT                                                                         \n",
       "EXTVER  =                    1 /Extension version                               \n",
       "DATE    = '2015-02-01'         /Creation date                                   \n",
       "COMMENT                                                                         \n",
       "COMMENT  *** Column names ***                                                   \n",
       "COMMENT                                                                         \n",
       "TTYPE1  = 'FULL    '           /                                                \n",
       "TTYPE2  = 'FIRST   '           /                                                \n",
       "TTYPE3  = 'LAST    '           /                                                \n",
       "TTYPE4  = 'MASK    '           /                                                \n",
       "COMMENT                                                                         \n",
       "COMMENT  *** Column formats ***                                                 \n",
       "COMMENT                                                                         \n",
       "TFORM1  = 'E       '           /                                                \n",
       "TFORM2  = 'E       '           /                                                \n",
       "TFORM3  = 'E       '           /                                                \n",
       "TFORM4  = 'J       '           /                                                \n",
       "COMMENT                                                                         \n",
       "COMMENT  *** Column units ***                                                   \n",
       "COMMENT                                                                         \n",
       "COMMENT  *** Planck params ***                                                  \n",
       "COMMENT                                                                         \n",
       "TUNIT1  = 'y full  '           /                                                \n",
       "TUNIT2  = 'y first '           /                                                \n",
       "TUNIT3  = 'y last  '           /                                                \n",
       "TUNIT4  = 'mask    '           /                                                \n",
       "EXTNAME = 'Y-MAP   '           / Extension name                                 \n",
       "PIXTYPE = 'HEALPIX '           /                                                \n",
       "COORDSYS= 'GALACTIC'           / Coordinate system                              \n",
       "ORDERING= 'RING    '           / Healpix ordering                               \n",
       "NSIDE   =                 2048 / Healpix Nside                                  \n",
       "FIRSTPIX=                    0 / First pixel # (0 based)                        \n",
       "LASTPIX =             50331647 / Last pixel # (0 based)                         \n",
       "FILENAME= 'nilc_ymaps.fits'    / FITS filename                                  \n",
       "BAD_DATA=         -1.63750E+30 / bad pixel value                                \n",
       "COMMENT                                                                         \n",
       "COMMENT ------------------------------------------------------------------------\n",
       "COMMENT For further details see Planck Explanatory Supplement at:               \n",
       "COMMENT   http://www.cosmos.esa.int/wikiSI/planckpla                            \n",
       "COMMENT ------------------------------------------------------------------------"
      ]
     },
     "execution_count": 5,
     "metadata": {},
     "output_type": "execute_result"
    }
   ],
   "source": [
    "ply[1].header\n"
   ]
  },
  {
   "cell_type": "code",
   "execution_count": 6,
   "metadata": {},
   "outputs": [],
   "source": [
    "ply_f = ply[1].data['FIRST']\n",
    "ply_l = ply[1].data['LAST']\n",
    "\n"
   ]
  },
  {
   "cell_type": "code",
   "execution_count": 7,
   "metadata": {},
   "outputs": [],
   "source": [
    "ply_diff = ply_f - ply_l\n",
    "\n"
   ]
  },
  {
   "cell_type": "code",
   "execution_count": 24,
   "metadata": {},
   "outputs": [],
   "source": [
    "import healpy as hp\n",
    "nly_pl = hp.anafast(ply_diff, lmax=6000)\n",
    "\n"
   ]
  },
  {
   "cell_type": "code",
   "execution_count": 25,
   "metadata": {},
   "outputs": [],
   "source": [
    "l_cl = np.arange(len(nly_pl))\n",
    "\n",
    "\n",
    "\n"
   ]
  },
  {
   "cell_type": "code",
   "execution_count": 26,
   "metadata": {},
   "outputs": [],
   "source": [
    "df = np.loadtxt('/global/cfs/cdirs/des/shivamp/nl_cosmosis/cosmosis/ACTxDESY3/src/data/Planck/planck_yy_noise_full_full_beamed.txt')\n",
    "\n"
   ]
  },
  {
   "cell_type": "code",
   "execution_count": 27,
   "metadata": {},
   "outputs": [],
   "source": [
    "import scipy.interpolate as interpolate\n"
   ]
  },
  {
   "cell_type": "code",
   "execution_count": null,
   "metadata": {},
   "outputs": [],
   "source": []
  },
  {
   "cell_type": "code",
   "execution_count": 35,
   "metadata": {},
   "outputs": [
    {
     "data": {
      "text/plain": [
       "<matplotlib.legend.Legend at 0x2aac26154710>"
      ]
     },
     "execution_count": 35,
     "metadata": {},
     "output_type": "execute_result"
    },
    {
     "data": {
      "image/png": "[encoded data removed]",
      "text/plain": [
       "<Figure size 576x432 with 1 Axes>"
      ]
     },
     "metadata": {
      "needs_background": "light"
     },
     "output_type": "display_data"
    }
   ],
   "source": [
    "fig, ax = pl.subplots(1,1)\n",
    "fig.set_size_inches((8,6))  \n",
    "ax.errorbar(l_cl, nly_pl/4,  label = r'$\\sigma$' + '(First - Last)/4', linestyle='-')\n",
    "df_interp = interpolate.interp1d(np.log(df[:,0]),np.log(df[:,1]),fill_value='extrapolate')  \n",
    "ax.errorbar(df[:,0], df[:,1],  label = r'$C^{yy}_{\\ell} -$' + 'Theory', linestyle='--')\n",
    "# ax.errorbar(l_cl, np.exp(df_interp(np.log(l_cl))),  label = 'from th', linestyle='-',color='k')\n",
    "ax.set_xscale('log')\n",
    "ax.set_yscale('log')\n",
    "ax.set_xlim(1e1,5e3)\n",
    "ax.set_ylim(1e-22,1e-14)\n",
    "ax.set_ylabel(r'$N_{\\ell}$')\n",
    "ax.set_xlabel(r'$\\ell$')\n",
    "ax.legend()\n",
    "\n",
    "\n"
   ]
  },
  {
   "cell_type": "code",
   "execution_count": 36,
   "metadata": {},
   "outputs": [],
   "source": [
    "np.savetxt('/global/cfs/cdirs/des/shivamp/nl_cosmosis/cosmosis/ACTxDESY3/src/data/Planck/planck_yy_noise_first_miuns_last_by_4_beamed.txt',np.array([l_cl[0:5000], nly_pl[0:5000]/4]).T)     \n",
    "\n",
    "\n"
   ]
  },
  {
   "cell_type": "code",
   "execution_count": 4,
   "metadata": {},
   "outputs": [
    {
     "name": "stderr",
     "output_type": "stream",
     "text": [
      "/global/u1/s/spandey/self_module_ini/myenv3/lib/python3.7/site-packages/healpy/sphtfunc.py:824: UserWarning: Sigma is 0.000000 arcmin (0.000000 rad) \n",
      "  sigma * 60 * 180 / np.pi, sigma\n",
      "/global/u1/s/spandey/self_module_ini/myenv3/lib/python3.7/site-packages/healpy/sphtfunc.py:829: UserWarning: -> fwhm is 0.000000 arcmin\n",
      "  sigma * 60 * 180 / np.pi * (2.0 * np.sqrt(2.0 * np.log(2.0)))\n"
     ]
    }
   ],
   "source": [
    "nside_out = 2048\n",
    "lmax = 3*nside_out - 1\n",
    "\n",
    "filename = '/global/cscratch1/sd/msyriac/data/depot/tilec/v1.2.0_20200324/map_v1.2.0_joint_deep56/tilec_single_tile_deep56_comptony_deprojects_cib_map_v1.2.0_joint_noise.fits'  \n",
    "\n",
    "act_ymap_car = enmap.read_map(filename)\n",
    "\n",
    "act_ymap_hp = reproject.healpix_from_enmap(act_ymap_car, lmax, nside_out)\n",
    "\n"
   ]
  },
  {
   "cell_type": "code",
   "execution_count": 12,
   "metadata": {},
   "outputs": [
    {
     "data": {
      "text/plain": [
       "ndmap([[           nan 3.82023911e-09 3.82557355e-09 ... 3.83080247e-09\n",
       "  3.82557355e-09 3.82023911e-09]\n",
       " [5.63519484e-16 5.52374701e-16 5.22397192e-16 ... 4.82281136e-16\n",
       "  5.22397192e-16 5.52374701e-16]\n",
       " [3.55065493e-16 3.52891638e-16 3.46673348e-16 ... 3.37209445e-16\n",
       "  3.46673348e-16 3.52891638e-16]\n",
       " ...\n",
       " [2.69467829e-16 2.68759595e-16 2.66681037e-16 ... 2.63362312e-16\n",
       "  2.66681037e-16 2.68759595e-16]\n",
       " [3.55065493e-16 3.52891638e-16 3.46673348e-16 ... 3.37209445e-16\n",
       "  3.46673348e-16 3.52891638e-16]\n",
       " [5.63519484e-16 5.52374701e-16 5.22397192e-16 ... 4.82281136e-16\n",
       "  5.22397192e-16 5.52374701e-16]],car:{cdelt:[-0.008333,0.008333],crval:[15.47,0],crpix:[3598,1108]})"
      ]
     },
     "execution_count": 12,
     "metadata": {},
     "output_type": "execute_result"
    }
   ],
   "source": [
    "act_ymap_car\n"
   ]
  },
  {
   "cell_type": "code",
   "execution_count": 11,
   "metadata": {},
   "outputs": [
    {
     "data": {
      "text/plain": [
       "SIMPLE  =                    T / conforms to FITS standard                      \n",
       "BITPIX  =                  -64 / array data type                                \n",
       "NAXIS   =                    2 / number of array dimensions                     \n",
       "NAXIS1  =                 6825                                                  \n",
       "NAXIS2  =                 1820                                                  \n",
       "WCSAXES =                    2 / Number of coordinate axes                      \n",
       "CRPIX1  =               3598.0 / Pixel coordinate of reference point            \n",
       "CRPIX2  =               1108.0 / Pixel coordinate of reference point            \n",
       "CDELT1  =    -0.00833333333333 / [deg] Coordinate increment at reference point  \n",
       "CDELT2  =     0.00833333333333 / [deg] Coordinate increment at reference point  \n",
       "CUNIT1  = 'deg'                / Units of coordinate increment and value        \n",
       "CUNIT2  = 'deg'                / Units of coordinate increment and value        \n",
       "CTYPE1  = 'RA---CAR'           / Right ascension, plate caree projection        \n",
       "CTYPE2  = 'DEC--CAR'           / Declination, plate caree projection            \n",
       "CRVAL1  =        15.4666666667 / [deg] Coordinate value at reference point      \n",
       "CRVAL2  =                  0.0 / [deg] Coordinate value at reference point      \n",
       "LONPOLE =                  0.0 / [deg] Native longitude of celestial pole       \n",
       "LATPOLE =                 90.0 / [deg] Native latitude of celestial pole        \n",
       "RADESYS = 'ICRS'               / Equatorial coordinate system                   "
      ]
     },
     "execution_count": 11,
     "metadata": {},
     "output_type": "execute_result"
    }
   ],
   "source": [
    "df = fits.open(filename)\n",
    "df[0].header\n",
    "\n",
    "\n"
   ]
  },
  {
   "cell_type": "code",
   "execution_count": 5,
   "metadata": {},
   "outputs": [],
   "source": [
    "import healpy as hp\n",
    "nly_act = hp.anafast(act_ymap_hp, lmax=6000)\n",
    "l_cl = np.arange(len(nly_act))\n",
    "\n"
   ]
  },
  {
   "cell_type": "code",
   "execution_count": 8,
   "metadata": {},
   "outputs": [
    {
     "data": {
      "text/plain": [
       "array([nan, nan, nan, ..., nan, nan, nan])"
      ]
     },
     "execution_count": 8,
     "metadata": {},
     "output_type": "execute_result"
    }
   ],
   "source": [
    "act_ymap_hp\n"
   ]
  },
  {
   "cell_type": "code",
   "execution_count": null,
   "metadata": {},
   "outputs": [],
   "source": [
    "nlf = np.loadtxt('/global/cfs/cdirs/des/shivamp/nl_cosmosis/cosmosis/ACTxDESY3/src/data/ACT/act_yy_noise_full_full_beamed.txt')\n",
    "\n",
    "\n"
   ]
  },
  {
   "cell_type": "code",
   "execution_count": 6,
   "metadata": {},
   "outputs": [
    {
     "data": {
      "text/plain": [
       "<matplotlib.legend.Legend at 0x2aabef61ca90>"
      ]
     },
     "execution_count": 6,
     "metadata": {},
     "output_type": "execute_result"
    },
    {
     "data": {
      "image/png": "[encoded data removed]",
      "text/plain": [
       "<Figure size 576x432 with 1 Axes>"
      ]
     },
     "metadata": {
      "needs_background": "light"
     },
     "output_type": "display_data"
    }
   ],
   "source": []
  },
  {
   "cell_type": "code",
   "execution_count": 3,
   "metadata": {},
   "outputs": [
    {
     "name": "stderr",
     "output_type": "stream",
     "text": [
      "/global/u1/s/spandey/self_module_ini/myenv3/lib/python3.7/site-packages/healpy/fitsfunc.py:391: UserWarning: NSIDE = 4096\n",
      "  warnings.warn(\"NSIDE = {0:d}\".format(nside))\n",
      "/global/u1/s/spandey/self_module_ini/myenv3/lib/python3.7/site-packages/healpy/fitsfunc.py:400: UserWarning: ORDERING = RING in fits file\n",
      "  warnings.warn(\"ORDERING = {0:s} in fits file\".format(ordering))\n",
      "/global/u1/s/spandey/self_module_ini/myenv3/lib/python3.7/site-packages/healpy/fitsfunc.py:428: UserWarning: INDXSCHM = IMPLICIT\n",
      "  warnings.warn(\"INDXSCHM = {0:s}\".format(schm))\n"
     ]
    }
   ],
   "source": [
    "yf = hp.read_map('/global/project/projectdirs/des/shivamp/ACTxDESY3_data/act_ymap_releases/v1.0.0/tilec_single_tile_deep56_comptony_map_v1.0.0_rc_joint_healpix.fits')  \n",
    "\n",
    "\n"
   ]
  },
  {
   "cell_type": "code",
   "execution_count": 4,
   "metadata": {},
   "outputs": [],
   "source": [
    "nly_act = hp.anafast(yf)\n",
    "l_cl = np.arange(len(nly_act))\n",
    "\n",
    "\n"
   ]
  },
  {
   "cell_type": "code",
   "execution_count": 5,
   "metadata": {},
   "outputs": [],
   "source": [
    "np.savetxt('/global/cfs/cdirs/des/shivamp/nl_cosmosis/cosmosis/ACTxDESY3/src/data/ACT/act_yy_total_full.txt',np.array([l_cl, nly_act]).T)   \n",
    "\n",
    "\n"
   ]
  },
  {
   "cell_type": "code",
   "execution_count": 6,
   "metadata": {},
   "outputs": [
    {
     "data": {
      "text/plain": [
       "<matplotlib.legend.Legend at 0x2aabe97e0f90>"
      ]
     },
     "execution_count": 6,
     "metadata": {},
     "output_type": "execute_result"
    },
    {
     "data": {
      "image/png": "[encoded data removed]",
      "text/plain": [
       "<Figure size 576x432 with 1 Axes>"
      ]
     },
     "metadata": {
      "needs_background": "light"
     },
     "output_type": "display_data"
    }
   ],
   "source": [
    "fig, ax = pl.subplots(1,1)\n",
    "fig.set_size_inches((8,6))  \n",
    "ax.errorbar(l_cl, nly_act,  label = r'Noise y-map', linestyle='-')\n",
    "\n",
    "ax.set_xscale('log')\n",
    "ax.set_yscale('log')\n",
    "ax.set_xlim(1e1,5e3)\n",
    "ax.set_ylim(1e-22,1e-14)\n",
    "ax.set_ylabel(r'$N_{\\ell}$')\n",
    "ax.set_xlabel(r'$\\ell$')\n",
    "ax.legend()\n",
    "\n",
    "\n",
    "\n",
    "\n",
    "\n"
   ]
  },
  {
   "cell_type": "code",
   "execution_count": null,
   "metadata": {},
   "outputs": [
    {
     "name": "stderr",
     "output_type": "stream",
     "text": [
      "/global/u1/s/spandey/self_module_ini/myenv3/lib/python3.7/site-packages/healpy/fitsfunc.py:369: UserWarning: If you are not specifying the input dtype and using the default np.float64 dtype of read_map(), please consider that it will change in a future version to None as to keep the same dtype of the input file: please explicitly set the dtype if it is important to you.\n",
      "  \"If you are not specifying the input dtype and using the default \"\n",
      "/global/u1/s/spandey/self_module_ini/myenv3/lib/python3.7/site-packages/healpy/fitsfunc.py:391: UserWarning: NSIDE = 4096\n",
      "  warnings.warn(\"NSIDE = {0:d}\".format(nside))\n",
      "/global/u1/s/spandey/self_module_ini/myenv3/lib/python3.7/site-packages/healpy/fitsfunc.py:400: UserWarning: ORDERING = RING in fits file\n",
      "  warnings.warn(\"ORDERING = {0:s} in fits file\".format(ordering))\n",
      "/global/u1/s/spandey/self_module_ini/myenv3/lib/python3.7/site-packages/healpy/fitsfunc.py:428: UserWarning: INDXSCHM = IMPLICIT\n",
      "  warnings.warn(\"INDXSCHM = {0:s}\".format(schm))\n"
     ]
    }
   ],
   "source": [
    "import pymaster as nmt\n",
    "import healpy as hp\n",
    "nside = 4096\n",
    "\n",
    "mask = hp.read_map('/global/cfs/cdirs/des/shivamp/ACTxDESY3_data/act_ymap_releases/v1.0.0/tilec_mask_healpix.fits')\n",
    "mask = nmt.mask_apodization(mask,\n",
    "                            1.0, apotype=\"Smooth\")\n",
    "\n",
    "\n"
   ]
  },
  {
   "cell_type": "code",
   "execution_count": null,
   "metadata": {},
   "outputs": [],
   "source": [
    "hp.mollview(mask)\n",
    "\n"
   ]
  },
  {
   "cell_type": "code",
   "execution_count": null,
   "metadata": {},
   "outputs": [],
   "source": [
    "f_0 = nmt.NmtField(mask, [hp.read_map('/global/project/projectdirs/des/shivamp/ACTxDESY3_data/act_ymap_releases/v1.0.0/tilec_single_tile_deep56_comptony_map_v1.0.0_rc_joint_healpix.fits')])  \n",
    "b = nmt.NmtBin.from_nside_linear(nside, 1)\n",
    "cl_00 = nmt.compute_full_master(f_0, f_0, b)\n",
    "\n",
    "\n"
   ]
  },
  {
   "cell_type": "code",
   "execution_count": null,
   "metadata": {},
   "outputs": [],
   "source": [
    "import numpy as np\n",
    "ell_arr = b.get_effective_ells()\n",
    "np.savetxt('/global/cfs/cdirs/des/shivamp/nl_cosmosis/cosmosis/ACTxDESY3/src/data/ACT/act_yy_total_full2.txt',np.array([ell_arr, cl_00[0]]).T)   \n",
    "\n"
   ]
  },
  {
   "cell_type": "code",
   "execution_count": 3,
   "metadata": {},
   "outputs": [
    {
     "data": {
      "text/plain": [
       "(12288, 2)"
      ]
     },
     "execution_count": 3,
     "metadata": {},
     "output_type": "execute_result"
    }
   ],
   "source": [
    "clf = np.loadtxt('/global/cfs/cdirs/des/shivamp/nl_cosmosis/cosmosis/ACTxDESY3/src/data/ACT/act_yy_total_full.txt')\n",
    "clf.shape\n",
    "\n"
   ]
  },
  {
   "cell_type": "code",
   "execution_count": 4,
   "metadata": {},
   "outputs": [
    {
     "data": {
      "text/plain": [
       "array([0.00000000e+00, 1.43633671e-18, 1.63820752e-17, ...,\n",
       "       8.56213016e-12, 7.99793633e-12, 7.98654104e-12])"
      ]
     },
     "execution_count": 4,
     "metadata": {},
     "output_type": "execute_result"
    }
   ],
   "source": [
    "(1./(2*np.pi))*(clf[:,0])*(clf[:,0])*clf[:,1]\n"
   ]
  },
  {
   "cell_type": "code",
   "execution_count": 5,
   "metadata": {},
   "outputs": [],
   "source": [
    "import pickle as pk\n",
    "dfp = pk.load(open('/global/cfs/cdirs/des/shivamp/nl_cosmosis/cosmosis/ACTxDESY3/src/data/cls_20200602_measure_DESxACT-maglim-redmagic-alldeprojy_nside4096.pickle','rb'))  \n",
    "\n"
   ]
  },
  {
   "cell_type": "code",
   "execution_count": 6,
   "metadata": {},
   "outputs": [],
   "source": [
    "ellp = dfp['ell']\n",
    "\n",
    "yellp = dfp[('ymap_no_deproj', 'ymap_no_deproj')][('y', 'y')]['data']\n"
   ]
  },
  {
   "cell_type": "code",
   "execution_count": 7,
   "metadata": {},
   "outputs": [
    {
     "data": {
      "text/plain": [
       "array([ 199.5,  399.5,  599.5,  799.5,  999.5, 1199.5, 1399.5, 1599.5,\n",
       "       1799.5, 1999.5, 2199.5, 2399.5, 2599.5, 2799.5, 2999.5, 3199.5,\n",
       "       3399.5, 3599.5, 3799.5, 3999.5, 4199.5, 4399.5, 4599.5, 4799.5])"
      ]
     },
     "execution_count": 7,
     "metadata": {},
     "output_type": "execute_result"
    }
   ],
   "source": [
    "ellp\n"
   ]
  },
  {
   "cell_type": "code",
   "execution_count": 8,
   "metadata": {},
   "outputs": [],
   "source": [
    "sig_beam = 1.6 * (1. / 60.) * (np.pi / 180.) * (1. / np.sqrt(8. * np.log(2)))\n",
    "Bl = (np.exp(-1. * ellp * (ellp+ 1) * (sig_beam ** 2) / 2.))**(2)\n"
   ]
  },
  {
   "cell_type": "code",
   "execution_count": 18,
   "metadata": {},
   "outputs": [],
   "source": [
    "import scipy.interpolate as interpolate\n",
    "yell_interp = interpolate.interp1d(np.log(ellp), np.log((1./(2*np.pi)) * (ellp ** 2) * Bl * yellp),fill_value='extrapolate')\n",
    "\n",
    "\n"
   ]
  },
  {
   "cell_type": "code",
   "execution_count": 22,
   "metadata": {},
   "outputs": [
    {
     "data": {
      "text/plain": [
       "Text(0.5, 0, '$\\\\ell$')"
      ]
     },
     "execution_count": 22,
     "metadata": {},
     "output_type": "execute_result"
    },
    {
     "data": {
      "image/png": "[encoded data removed]",
      "text/plain": [
       "<Figure size 576x432 with 1 Axes>"
      ]
     },
     "metadata": {
      "needs_background": "light"
     },
     "output_type": "display_data"
    }
   ],
   "source": [
    "fig, ax = pl.subplots(1,1)\n",
    "fig.set_size_inches((8,6))  \n",
    "ax.errorbar(clf[:,0], (1./(2*np.pi)) * (clf[:,0]) * (clf[:,0]) * clf[:,1],   linestyle=':')\n",
    "# ax.errorbar(clf[:,0], np.exp(yell_interp(np.log(clf[:,0]))),  label = r'Noise y-map', linestyle='-')\n",
    "\n",
    "# ax.set_xscale('log')\n",
    "ax.set_yscale('log')\n",
    "# ax.set_xlim(0,1e4)\n",
    "ax.set_xlim(0,6000)\n",
    "ax.grid()\n",
    "ax.set_ylim(1e-13,5e-11)\n",
    "# ax.set_ylim(1e-12,1.2e-11)\n",
    "ax.set_ylabel(r'${\\ell^2}C_{\\ell}/2\\pi$')\n",
    "ax.set_xlabel(r'$\\ell$')\n",
    "# ax.legend()\n",
    "\n",
    "\n",
    "\n",
    "\n",
    "\n",
    "\n",
    "\n",
    "\n",
    "\n"
   ]
  },
  {
   "cell_type": "code",
   "execution_count": 30,
   "metadata": {},
   "outputs": [],
   "source": [
    "np.savetxt('/global/cfs/cdirs/des/shivamp/nl_cosmosis/cosmosis/ACTxDESY3/src/data/ACT/act_yy_total_full.txt',np.array([clf[:,0], 85*clf[:,1]]).T)   \n",
    "\n"
   ]
  },
  {
   "cell_type": "code",
   "execution_count": null,
   "metadata": {},
   "outputs": [],
   "source": []
  }
 ],
 "metadata": {
  "kernelspec": {
   "display_name": "myenv3-jp",
   "language": "python",
   "name": "myenv3-jp"
  },
  "language_info": {
   "codemirror_mode": {
    "name": "ipython",
    "version": 3
   },
   "file_extension": ".py",
   "mimetype": "text/x-python",
   "name": "python",
   "nbconvert_exporter": "python",
   "pygments_lexer": "ipython3",
   "version": "3.7.6"
  }
 },
 "nbformat": 4,
 "nbformat_minor": 4
}
