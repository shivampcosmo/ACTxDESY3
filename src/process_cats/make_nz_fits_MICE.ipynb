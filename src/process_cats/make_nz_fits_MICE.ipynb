{
 "cells": [
  {
   "cell_type": "code",
   "execution_count": 1,
   "metadata": {},
   "outputs": [
    {
     "name": "stdin",
     "output_type": "stream",
     "text": [
      "Once deleted, variables cannot be recovered. Proceed (y/[n])?  y\n"
     ]
    }
   ],
   "source": [
    "%reset\n",
    "\n",
    "import numpy as np\n",
    "import pickle as pk\n",
    "import matplotlib.pyplot as pl\n",
    "from astropy import units\n",
    "from astropy import constants\n",
    "import matplotlib\n",
    "from astropy.io import fits\n",
    "# %pylab inline\n",
    "\n",
    "# Color = ['#0072b1','#009d73','#d45e00','k', 'grey','yellow']\n",
    "\n",
    "Color = ['k', '#000075', '#a9a9a9','#9A6324', '#808000','#aaffc3', '#fffac8'  ,'#800000', '#ffd8b1',]\n",
    "\n",
    "font = {'size'   : 18}\n",
    "matplotlib.rc('font', **font)\n",
    "# # Latex stuff\n",
    "pl.rc('text', usetex=False)\n",
    "pl.rc('font', family='serif')\n",
    "\n",
    "# %matplotlib inline\n",
    "\n"
   ]
  },
  {
   "cell_type": "code",
   "execution_count": 2,
   "metadata": {},
   "outputs": [],
   "source": [
    "def corr_mat(cov):\n",
    "    dims = cov.shape\n",
    "    corr = np.zeros(dims)\n",
    "    for ii in range(0,dims[0]):\n",
    "        for jj in range(0,dims[1]):\n",
    "            corr[ii,jj] = cov[ii,jj]/np.sqrt(cov[ii,ii]*cov[jj,jj])\n",
    "\n",
    "    return corr\n",
    "\n",
    "import math\n",
    "import numpy as np\n",
    "\n",
    "the_gold_standard = { 0: (203.0/255.0, 15.0/255.0, 40.0/255.0),\n",
    "                      1: (255.0/255.0, 165.0/255.0, 0.0),\n",
    "                      2: (42.0/255.0, 46.0/255.0, 139.0/255.0),\n",
    "                      3: (0.0/255.0, 153.0/255.0, 204.0/255.0),\n",
    "                      4: (0.0/255.0, 221.0/255.0, 52.0/255.0),\n",
    "                      5: (0.0, 0.75, 0.75),\n",
    "                      6: (0.0, 0.0, 0.0),\n",
    "                    }\n",
    "\n",
    "# ******************************************************************************\n",
    "# definition of color interpolation utilities:\n",
    "\n",
    "def color_linear_interpolation( rgb_1, rgb_2, alpha ):\n",
    "    \"\"\"\n",
    "    This function performs a linear color interpolation in RGB space.\n",
    "    alpha has to go from zero to one and is the coordinate.\n",
    "    \"\"\"\n",
    "    _out_color = []\n",
    "    for _a,_b in zip(rgb_1,rgb_2):\n",
    "        _out_color.append( float(_a +(_b-_a)*alpha) )\n",
    "    return tuple(_out_color)\n",
    "\n",
    "\n",
    "def nice_colors( num, colormap='the_gold_standard', interpolation_method='linear', output_format='RGB' ):\n",
    "    \"\"\"\n",
    "    This function returns a color from a colormap defined above, according to the\n",
    "    number entered.\n",
    "\n",
    "    :param num: input number. Can be an integer or float.\n",
    "        If the number is integer the function returns one of the colors in the\n",
    "        colormap. If the number is a float returns the shade combining the two\n",
    "        neighbouring colors.\n",
    "    :type num: :class:`int` or :class:`float`\n",
    "\n",
    "    :param colormap: a string containing the name of the colormap.\n",
    "    :type colormap: :class:`string`\n",
    "\n",
    "    :param interpolation_method: the method to interpolate between colors.\n",
    "        Legal choices are:\n",
    "            interpolation_method='linear', linear interpolation;\n",
    "        Further interpolation methods will be added in the future.\n",
    "    :type interpolation_method: :class:`string`\n",
    "\n",
    "    :param output_format: output format of the color.\n",
    "        Legal choices are:\n",
    "            output_format='HEX'\n",
    "            output_format='RGB' (default)\n",
    "    :type output_format: :class:`string`\n",
    "\n",
    "    :return: string with HEX color or tuple with RGB coordinates\n",
    "\n",
    "    \"\"\"\n",
    "    # get the colormap:\n",
    "    try:\n",
    "        _cmap = globals()[str(colormap)]\n",
    "    except:\n",
    "        raise ValueError('Requested color map ('+str(colormap)+') does not exist.')\n",
    "    # get the indexes of the color map:\n",
    "    _idx_low = int( math.floor(num%len(_cmap)) )\n",
    "    _idx_up  = int( math.floor((_idx_low+1)%len(_cmap)) )\n",
    "    # perform color interpolation:\n",
    "    if interpolation_method=='linear':\n",
    "        _t = num%len(_cmap)-_idx_low\n",
    "        _out_color = color_linear_interpolation(_cmap[_idx_low],_cmap[_idx_up],_t)\n",
    "    else:\n",
    "        raise ValueError('Requested color interpolation method ('+str(interpolation_method)+') does not exist.')\n",
    "    # choose the output format:\n",
    "    if output_format=='HEX':\n",
    "        _out_color = '#%02x%02x%02x' % tuple( [ int(_c*255.) for _c in _out_color] )\n",
    "        _out_color = str(_out_color)\n",
    "    elif output_format=='RGB':\n",
    "        pass\n",
    "    else:\n",
    "        raise ValueError('Requested output format ('+str(output_format)+') does not exist.')\n",
    "    #\n",
    "    return _out_color\n",
    "\n",
    "\n",
    "\n"
   ]
  },
  {
   "cell_type": "code",
   "execution_count": 3,
   "metadata": {},
   "outputs": [],
   "source": [
    "cat = 'halos'\n",
    "\n",
    "if cat == 'maglim':\n",
    "    fname = '/global/cfs/cdirs/des/shivamp/ACTxDESY3_data/MICE_data/mice_maglim_data.fits'\n",
    "    df = fits.open(fname)\n",
    "    datapoint_z_all = df[1].data['z_dnf_mean_sof']\n",
    "    datapoint_zmc_all = df[1].data['z_dnf_mc_sof']\n",
    "    datapoint_ra_all = df[1].data['ra_gal']\n",
    "    datapoint_dec_all = df[1].data['dec_gal']\n",
    "\n",
    "if cat == 'halos':\n",
    "    logMmin = 13.0\n",
    "    logMmax = 13.5\n",
    "    fname = '/global/cfs/cdirs/des/shivamp/ACTxDESY3_data/MICE_data/mice_all_halos.fits'\n",
    "    df = fits.open(fname)\n",
    "    datapoint_z_all = df[1].data['z_cgal']\n",
    "    datapoint_ra_all = df[1].data['ra_gal']\n",
    "    datapoint_dec_all = df[1].data['dec_gal']\n",
    "    datapoint_M_all = df[1].data['lmhalo']\n",
    "    ind_sel = np.where((datapoint_M_all > logMmin) & (datapoint_M_all < logMmax))[0]\n",
    "    datapoint_ra_all, datapoint_dec_all, datapoint_z_all = datapoint_ra_all[ind_sel], datapoint_dec_all[ind_sel], datapoint_z_all[ind_sel]\n",
    "    \n",
    "zmin_bins = np.array([0.20, 0.40, 0.55, 0.70, 0.85, 0.95])\n",
    "zmax_bins = np.array([0.40, 0.55, 0.70, 0.85, 0.95, 1.05 ])\n",
    "\n",
    "\n",
    "\n",
    "\n"
   ]
  },
  {
   "cell_type": "code",
   "execution_count": 5,
   "metadata": {},
   "outputs": [],
   "source": [
    "csf = '/global/cfs/cdirs/des/shivamp/nl_cosmosis/cosmosis/ACTxDESY3/src/data/MICE_maglim_nz_fidfile.fits'\n",
    "\n",
    "csfd = fits.open(csf)\n",
    "# csfd['nz_lens'].header\n",
    "\n",
    "\n"
   ]
  },
  {
   "cell_type": "code",
   "execution_count": 6,
   "metadata": {},
   "outputs": [],
   "source": [
    "z_min, z_max = 0.0, 2.5\n",
    "nzbins_total = 250\n",
    "zarray_all = np.linspace(z_min, z_max, nzbins_total)\n",
    "zarray_edges = np.append(csfd['nz_lens'].data['Z_LOW'],csfd['nz_lens'].data['Z_HIGH'][-1])\n",
    "zarray = csfd['nz_lens'].data['Z_MID']\n",
    "\n",
    "\n",
    "    \n",
    "    "
   ]
  },
  {
   "cell_type": "code",
   "execution_count": 8,
   "metadata": {},
   "outputs": [
    {
     "name": "stdout",
     "output_type": "stream",
     "text": [
      "doing z bin:0\n",
      "num in selection =  (135424,)\n",
      "doing z bin:1\n",
      "num in selection =  (195320,)\n",
      "doing z bin:2\n",
      "num in selection =  (262908,)\n",
      "doing z bin:3\n",
      "num in selection =  (305196,)\n",
      "doing z bin:4\n",
      "num in selection =  (220279,)\n",
      "doing z bin:5\n",
      "num in selection =  (222702,)\n"
     ]
    }
   ],
   "source": [
    "import scipy.integrate as integrate\n",
    "nz_norm_all = np.zeros((len(zmin_bins),len(zarray)))\n",
    "for jz in range(len(zmin_bins)):\n",
    "\n",
    "    print('doing z bin:' + str(jz))\n",
    "    minz = zmin_bins[jz]\n",
    "    maxz = zmax_bins[jz]\n",
    "    # Restrict to datapoint selection\n",
    "    selection_z = np.where((datapoint_z_all > minz) & (datapoint_z_all < maxz))[0]\n",
    "    print(\"num in selection = \", selection_z.shape)\n",
    "    data_zmc_sel = datapoint_z_all[selection_z]\n",
    "    nz_unnorm, z_edge = np.histogram(data_zmc_sel, zarray_edges)\n",
    "    nz_norm = nz_unnorm/integrate.simps(nz_unnorm,zarray)\n",
    "    nz_norm_all[jz,:] = nz_norm\n",
    "    \n",
    "\n",
    "\n",
    "\n",
    "\n",
    "\n"
   ]
  },
  {
   "cell_type": "code",
   "execution_count": 9,
   "metadata": {},
   "outputs": [
    {
     "data": {
      "text/plain": [
       "(0, 1.3)"
      ]
     },
     "execution_count": 9,
     "metadata": {},
     "output_type": "execute_result"
    },
    {
     "data": {
      "image/png": "[encoded data removed]",
      "text/plain": [
       "<Figure size 576x432 with 1 Axes>"
      ]
     },
     "metadata": {
      "needs_background": "light"
     },
     "output_type": "display_data"
    }
   ],
   "source": [
    "fig, ax = pl.subplots(1,1)\n",
    "fig.set_size_inches((8,6)) \n",
    "\n",
    "for jz in range(len(zmin_bins)):\n",
    "    ax.errorbar(zarray,nz_norm_all[jz,:],color=nice_colors(jz),ls='-',label='Bin ' + str(jz+1))\n",
    "\n",
    "# ax.errorbar(theta_array, xi_w1,  label = labels[j], linestyle=linestyles[j])\n",
    "# ax.set_xscale('log')\n",
    "# ax.set_yscale('log')\n",
    "ax.set_xlim(0,1.3)\n",
    "# ax.set_ylim(-1e-7,2e-7)\n",
    "# ax.set_ylabel(r'$\\ell (\\ell + 1) C_{\\ell} / 2\\pi$')\n",
    "# ax.set_xlabel(r'$\\ell$')\n",
    "# ax.legend()\n",
    "# # ax.set_title('ACT v1 x Redmagic Y3')\n",
    "# ax.set_title('ACT v1 x Maglim Y3')\n",
    "\n",
    "\n",
    "\n",
    "\n",
    "\n",
    "\n",
    "\n"
   ]
  },
  {
   "cell_type": "code",
   "execution_count": 10,
   "metadata": {},
   "outputs": [],
   "source": [
    "zlow = zarray_edges[:-1]\n",
    "zhigh = zarray_edges[1:]\n",
    "zmid = zarray\n",
    "\n",
    "if cat == 'maglim':\n",
    "    fname = '/global/cfs/cdirs/des/shivamp/nl_cosmosis/cosmosis/ACTxDESY3/src/data/MICE_maglim_nz_fidfile.fits'\n",
    "    \n",
    "if cat == 'halos':\n",
    "    fname = '/global/cfs/cdirs/des/shivamp/nl_cosmosis/cosmosis/ACTxDESY3/src/data/MICE_halos_nz_fidfile.fits'\n",
    "\n",
    "with fits.open(fname, mode='update') as hdul:  \n",
    "    hdul['nz_lens'].data['Z_LOW'] = zlow\n",
    "    hdul['nz_lens'].data['Z_MID'] = zmid\n",
    "    hdul['nz_lens'].data['Z_HIGH'] = zhigh\n",
    "    bins_array = [1,2,3,4,5,6]\n",
    "    jz = 0\n",
    "    for bins in bins_array:\n",
    "        hdul['nz_lens'].data['BIN' + str(bins)] = nz_norm_all[jz,:]\n",
    "        jz += 1\n",
    "    hdul.flush()\n",
    "\n",
    "    \n",
    "    "
   ]
  },
  {
   "cell_type": "code",
   "execution_count": null,
   "metadata": {},
   "outputs": [],
   "source": []
  }
 ],
 "metadata": {
  "kernelspec": {
   "display_name": "myenv3-jp",
   "language": "python",
   "name": "myenv3-jp"
  },
  "language_info": {
   "codemirror_mode": {
    "name": "ipython",
    "version": 3
   },
   "file_extension": ".py",
   "mimetype": "text/x-python",
   "name": "python",
   "nbconvert_exporter": "python",
   "pygments_lexer": "ipython3",
   "version": "3.7.6"
  }
 },
 "nbformat": 4,
 "nbformat_minor": 4
}
