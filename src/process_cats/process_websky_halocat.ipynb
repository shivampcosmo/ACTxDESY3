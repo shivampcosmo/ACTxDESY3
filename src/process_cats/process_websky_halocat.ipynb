{
 "cells": [
  {
   "cell_type": "code",
   "execution_count": 1,
   "metadata": {},
   "outputs": [
    {
     "name": "stdin",
     "output_type": "stream",
     "text": [
      "Once deleted, variables cannot be recovered. Proceed (y/[n])?  y\n"
     ]
    }
   ],
   "source": [
    "%reset\n",
    "import numpy as np\n",
    "import healpy as hp\n",
    "import sys\n",
    "from scipy import interpolate\n",
    "import os\n",
    "import pdb\n",
    "import kmeans_radec\n",
    "import pickle as pk\n",
    "from astropy.io import fits\n",
    "\n",
    "\n"
   ]
  },
  {
   "cell_type": "code",
   "execution_count": 15,
   "metadata": {},
   "outputs": [],
   "source": [
    "from scipy.interpolate import *\n",
    "import numpy as np\n",
    "\n",
    "omegab = 0.049\n",
    "omegac = 0.261\n",
    "omegam = omegab + omegac\n",
    "h      = 0.68\n",
    "ns     = 0.965\n",
    "sigma8 = 0.81\n",
    "\n",
    "c = 3e5\n",
    "\n",
    "H0 = 100*h\n",
    "nz = 100000\n",
    "z1 = 0.0\n",
    "z2 = 6.0\n",
    "za = np.linspace(z1,z2,nz)\n",
    "dz = za[1]-za[0]\n",
    "\n",
    "H      = lambda z: H0*np.sqrt(omegam*(1+z)**3+1-omegam)\n",
    "dchidz = lambda z: c/H(z)\n",
    "\n",
    "chia = np.cumsum(dchidz(za))*dz\n",
    "\n",
    "zofchi = interp1d(chia,za)\n",
    "\n",
    "chiofz = interp1d(za,chia)\n",
    "\n"
   ]
  },
  {
   "cell_type": "code",
   "execution_count": 21,
   "metadata": {},
   "outputs": [],
   "source": [
    "import healpy as hp\n",
    "from   cosmology import *\n",
    "\n",
    "rho = 2.775e11*omegam*h**2 # Msun/Mpc^3\n",
    "\n",
    "f=open('/global/project/projectdirs/des/shivamp/actxdes/data_set/cita_sims/halos-light.pksc')\n",
    "N=np.fromfile(f,count=3,dtype=np.int32)[0]\n",
    "\n",
    "# only take first five entries for testing (there are ~8e8 halos total...)\n",
    "# comment the following line to read in all halos\n",
    "N = 1000000\n",
    "\n",
    "catalog=np.fromfile(f,count=N*10,dtype=np.float32)\n",
    "catalog=np.reshape(catalog,(N,10))\n",
    "\n",
    "x  = catalog[:,0];  y = catalog[:,1];  z = catalog[:,2] # Mpc (comoving)\n",
    "vx = catalog[:,3]; vy = catalog[:,4]; vz = catalog[:,5] # km/sec\n",
    "R  = catalog[:,6] # Mpc\n",
    "\n",
    "# convert to mass, comoving distance, radial velocity, redshfit, RA and DEc\n",
    "M200m    = 4*np.pi/3.*rho*R**3        # this is M200m (mean density 200 times mean) in Msun\n",
    "chi      = np.sqrt(x**2+y**2+z**2)    # Mpc\n",
    "vrad     = (x*vx + y*vy + z*vz) / chi # km/sec\n",
    "redshift = zofchi(chi)\n",
    "\n",
    "\n"
   ]
  },
  {
   "cell_type": "code",
   "execution_count": 19,
   "metadata": {},
   "outputs": [
    {
     "data": {
      "text/plain": [
       "array([-8.7495624e+02,  4.4539118e+00, -7.3393867e+03, -5.0009705e+02,\n",
       "       -8.4370898e+02,  3.8154209e+00, -7.3436382e+03, -5.7742072e+02,\n",
       "       -8.3129315e+02,  3.8590510e+00], dtype=float32)"
      ]
     },
     "execution_count": 19,
     "metadata": {},
     "output_type": "execute_result"
    }
   ],
   "source": [
    "catalog[3,:]\n",
    "\n"
   ]
  },
  {
   "cell_type": "code",
   "execution_count": 16,
   "metadata": {},
   "outputs": [
    {
     "name": "stdout",
     "output_type": "stream",
     "text": [
      "\n",
      "Nhalo =  100\n"
     ]
    },
    {
     "ename": "ValueError",
     "evalue": "A value in x_new is above the interpolation range.",
     "output_type": "error",
     "traceback": [
      "\u001b[0;31m\u001b[0m",
      "\u001b[0;31mValueError\u001b[0mTraceback (most recent call last)",
      "\u001b[0;32m<ipython-input-16-3d988c66bb75>\u001b[0m in \u001b[0;36m<module>\u001b[0;34m()\u001b[0m\n\u001b[1;32m     31\u001b[0m \u001b[0mr_interp\u001b[0m \u001b[0;34m=\u001b[0m \u001b[0mcosmo\u001b[0m\u001b[0;34m.\u001b[0m\u001b[0mcomoving_distance\u001b[0m\u001b[0;34m(\u001b[0m\u001b[0mz_array\u001b[0m\u001b[0;34m)\u001b[0m\u001b[0;34m\u001b[0m\u001b[0m\n\u001b[1;32m     32\u001b[0m \u001b[0mz_interp_func\u001b[0m \u001b[0;34m=\u001b[0m \u001b[0mintrp\u001b[0m\u001b[0;34m.\u001b[0m\u001b[0minterp1d\u001b[0m\u001b[0;34m(\u001b[0m\u001b[0mr_interp\u001b[0m\u001b[0;34m.\u001b[0m\u001b[0mvalue\u001b[0m\u001b[0;34m,\u001b[0m \u001b[0mz_array\u001b[0m\u001b[0;34m)\u001b[0m\u001b[0;34m\u001b[0m\u001b[0m\n\u001b[0;32m---> 33\u001b[0;31m \u001b[0mz\u001b[0m \u001b[0;34m=\u001b[0m \u001b[0mz_interp_func\u001b[0m\u001b[0;34m(\u001b[0m\u001b[0mr\u001b[0m\u001b[0;34m)\u001b[0m\u001b[0;34m\u001b[0m\u001b[0m\n\u001b[0m\u001b[1;32m     34\u001b[0m \u001b[0;34m\u001b[0m\u001b[0m\n\u001b[1;32m     35\u001b[0m \u001b[0;34m\u001b[0m\u001b[0m\n",
      "\u001b[0;32m/global/u1/s/spandey/myenv_new/lib/python2.7/site-packages/scipy/interpolate/polyint.pyc\u001b[0m in \u001b[0;36m__call__\u001b[0;34m(self, x)\u001b[0m\n\u001b[1;32m     77\u001b[0m         \"\"\"\n\u001b[1;32m     78\u001b[0m         \u001b[0mx\u001b[0m\u001b[0;34m,\u001b[0m \u001b[0mx_shape\u001b[0m \u001b[0;34m=\u001b[0m \u001b[0mself\u001b[0m\u001b[0;34m.\u001b[0m\u001b[0m_prepare_x\u001b[0m\u001b[0;34m(\u001b[0m\u001b[0mx\u001b[0m\u001b[0;34m)\u001b[0m\u001b[0;34m\u001b[0m\u001b[0m\n\u001b[0;32m---> 79\u001b[0;31m         \u001b[0my\u001b[0m \u001b[0;34m=\u001b[0m \u001b[0mself\u001b[0m\u001b[0;34m.\u001b[0m\u001b[0m_evaluate\u001b[0m\u001b[0;34m(\u001b[0m\u001b[0mx\u001b[0m\u001b[0;34m)\u001b[0m\u001b[0;34m\u001b[0m\u001b[0m\n\u001b[0m\u001b[1;32m     80\u001b[0m         \u001b[0;32mreturn\u001b[0m \u001b[0mself\u001b[0m\u001b[0;34m.\u001b[0m\u001b[0m_finish_y\u001b[0m\u001b[0;34m(\u001b[0m\u001b[0my\u001b[0m\u001b[0;34m,\u001b[0m \u001b[0mx_shape\u001b[0m\u001b[0;34m)\u001b[0m\u001b[0;34m\u001b[0m\u001b[0m\n\u001b[1;32m     81\u001b[0m \u001b[0;34m\u001b[0m\u001b[0m\n",
      "\u001b[0;32m/global/u1/s/spandey/myenv_new/lib/python2.7/site-packages/scipy/interpolate/interpolate.pyc\u001b[0m in \u001b[0;36m_evaluate\u001b[0;34m(self, x_new)\u001b[0m\n\u001b[1;32m    662\u001b[0m         \u001b[0my_new\u001b[0m \u001b[0;34m=\u001b[0m \u001b[0mself\u001b[0m\u001b[0;34m.\u001b[0m\u001b[0m_call\u001b[0m\u001b[0;34m(\u001b[0m\u001b[0mself\u001b[0m\u001b[0;34m,\u001b[0m \u001b[0mx_new\u001b[0m\u001b[0;34m)\u001b[0m\u001b[0;34m\u001b[0m\u001b[0m\n\u001b[1;32m    663\u001b[0m         \u001b[0;32mif\u001b[0m \u001b[0;32mnot\u001b[0m \u001b[0mself\u001b[0m\u001b[0;34m.\u001b[0m\u001b[0m_extrapolate\u001b[0m\u001b[0;34m:\u001b[0m\u001b[0;34m\u001b[0m\u001b[0m\n\u001b[0;32m--> 664\u001b[0;31m             \u001b[0mbelow_bounds\u001b[0m\u001b[0;34m,\u001b[0m \u001b[0mabove_bounds\u001b[0m \u001b[0;34m=\u001b[0m \u001b[0mself\u001b[0m\u001b[0;34m.\u001b[0m\u001b[0m_check_bounds\u001b[0m\u001b[0;34m(\u001b[0m\u001b[0mx_new\u001b[0m\u001b[0;34m)\u001b[0m\u001b[0;34m\u001b[0m\u001b[0m\n\u001b[0m\u001b[1;32m    665\u001b[0m             \u001b[0;32mif\u001b[0m \u001b[0mlen\u001b[0m\u001b[0;34m(\u001b[0m\u001b[0my_new\u001b[0m\u001b[0;34m)\u001b[0m \u001b[0;34m>\u001b[0m \u001b[0;36m0\u001b[0m\u001b[0;34m:\u001b[0m\u001b[0;34m\u001b[0m\u001b[0m\n\u001b[1;32m    666\u001b[0m                 \u001b[0;31m# Note fill_value must be broadcast up to the proper size\u001b[0m\u001b[0;34m\u001b[0m\u001b[0;34m\u001b[0m\u001b[0m\n",
      "\u001b[0;32m/global/u1/s/spandey/myenv_new/lib/python2.7/site-packages/scipy/interpolate/interpolate.pyc\u001b[0m in \u001b[0;36m_check_bounds\u001b[0;34m(self, x_new)\u001b[0m\n\u001b[1;32m    694\u001b[0m                              \"range.\")\n\u001b[1;32m    695\u001b[0m         \u001b[0;32mif\u001b[0m \u001b[0mself\u001b[0m\u001b[0;34m.\u001b[0m\u001b[0mbounds_error\u001b[0m \u001b[0;32mand\u001b[0m \u001b[0mabove_bounds\u001b[0m\u001b[0;34m.\u001b[0m\u001b[0many\u001b[0m\u001b[0;34m(\u001b[0m\u001b[0;34m)\u001b[0m\u001b[0;34m:\u001b[0m\u001b[0;34m\u001b[0m\u001b[0m\n\u001b[0;32m--> 696\u001b[0;31m             raise ValueError(\"A value in x_new is above the interpolation \"\n\u001b[0m\u001b[1;32m    697\u001b[0m                              \"range.\")\n\u001b[1;32m    698\u001b[0m \u001b[0;34m\u001b[0m\u001b[0m\n",
      "\u001b[0;31mValueError\u001b[0m: A value in x_new is above the interpolation range."
     ]
    }
   ],
   "source": [
    "halo_file = '/global/project/projectdirs/des/shivamp/actxdes/data_set/cita_sims/halos-light.pksc'\n",
    "pkfile = open(halo_file, \"rb\")\n",
    "Nhalo=100\n",
    "# Nhalo = np.fromfile(pkfile, dtype=np.int64, count=1)[0]\n",
    "# RTHMAXin = np.fromfile(pkfile, dtype=np.float64, count=1)\n",
    "# redshiftbox = np.fromfile(pkfile, dtype=np.float64, count=1)\n",
    "print \"\\nNhalo = \", Nhalo\n",
    "\n",
    "nfloats_perhalo = 10\n",
    "npkdata = nfloats_perhalo * Nhalo\n",
    "peakdata = np.fromfile(pkfile, dtype=np.float64, count=npkdata)\n",
    "peakdata = np.reshape(peakdata, (Nhalo, nfloats_perhalo))\n",
    "\n",
    "xpos = peakdata[:, 0]\n",
    "ypos = peakdata[:, 1]\n",
    "zpos = peakdata[:, 2]\n",
    "vxpos = peakdata[:, 3]\n",
    "vypos = peakdata[:, 4]\n",
    "vzpos = peakdata[:, 5]\n",
    "Rth = peakdata[:, 6]\n",
    "Omega_M = 0.31\n",
    "h = 0.68\n",
    "rho = 2.775e11 * Omega_M * h ** 2\n",
    "M = 4.0 / 3 * np.pi * Rth ** 3 * rho\n",
    "r = np.sqrt(xpos ** 2. + ypos ** 2. + zpos ** 2.)\n",
    "from astropy.cosmology import FlatLambdaCDM\n",
    "from astropy import units as u\n",
    "from scipy import interpolate as intrp\n",
    "cosmo = FlatLambdaCDM(H0=h * 100, Om0=Omega_M)\n",
    "z_array = np.linspace(0., 6.0, num=3000)\n",
    "r_interp = cosmo.comoving_distance(z_array)\n",
    "z_interp_func = intrp.interp1d(r_interp.value, z_array)\n",
    "z = z_interp_func(r)\n",
    "\n",
    "\n"
   ]
  },
  {
   "cell_type": "code",
   "execution_count": 16,
   "metadata": {},
   "outputs": [],
   "source": [
    "\n",
    "hcato = fits.open('/global/project/projectdirs/des/shivamp/actxdes/data_set/cita_sims/halos_ds_10.fits')\n",
    "\n"
   ]
  },
  {
   "cell_type": "code",
   "execution_count": 17,
   "metadata": {},
   "outputs": [],
   "source": [
    "M200m = hcato[1].data['M']\n",
    "red = hcato[1].data['Z']\n",
    "ra = hcato[1].data['RA']\n",
    "dec = hcato[1].data['DEC']\n",
    "\n"
   ]
  },
  {
   "cell_type": "code",
   "execution_count": 18,
   "metadata": {},
   "outputs": [],
   "source": [
    "def ang2eq(theta, phi):\n",
    "    ra = phi * 180. / np.pi\n",
    "    dec = 90. - theta * 180. / np.pi\n",
    "    return ra, dec\n",
    "\n",
    "\n",
    "def eq2ang(ra, dec):\n",
    "    phi = ra * np.pi / 180.\n",
    "    theta = (np.pi / 2.) - dec * (np.pi / 180.)\n",
    "    return theta, phi\n",
    "\n",
    "\n"
   ]
  },
  {
   "cell_type": "code",
   "execution_count": 19,
   "metadata": {},
   "outputs": [],
   "source": [
    "theta, phi = eq2ang(ra, dec)\n",
    "\n",
    "\n"
   ]
  },
  {
   "cell_type": "code",
   "execution_count": 20,
   "metadata": {},
   "outputs": [],
   "source": [
    "vec_all = hp.ang2vec(theta,phi)\n",
    "\n",
    "\n"
   ]
  },
  {
   "cell_type": "code",
   "execution_count": 21,
   "metadata": {},
   "outputs": [],
   "source": [
    "\n",
    "x,y,z = vec_all[:,0],vec_all[:,1],vec_all[:,2]\n",
    "\n",
    "\n"
   ]
  },
  {
   "cell_type": "code",
   "execution_count": 22,
   "metadata": {},
   "outputs": [],
   "source": [
    "chi = chiofz(red)\n",
    "\n",
    "\n"
   ]
  },
  {
   "cell_type": "code",
   "execution_count": 26,
   "metadata": {},
   "outputs": [],
   "source": [
    "xt,yt,zt = x*chi, y*chi, z*chi\n",
    "\n"
   ]
  },
  {
   "cell_type": "code",
   "execution_count": 27,
   "metadata": {},
   "outputs": [
    {
     "name": "stderr",
     "output_type": "stream",
     "text": [
      "WARNING: AstropyDeprecationWarning: \"clobber\" was deprecated in version 2.0 and will be removed in a future version. Use argument \"overwrite\" instead. [astropy.utils.decorators]\n"
     ]
    }
   ],
   "source": [
    "c1 = fits.Column(name='PX', array=xt, format='E')\n",
    "c2 = fits.Column(name='PY', array=yt, format='E')\n",
    "c3 = fits.Column(name='PZ', array=zt, format='E')\n",
    "c4 = fits.Column(name='M200m', array=M200m, format='E')\n",
    "t = fits.BinTableHDU.from_columns([c1, c2, c3, c4])\n",
    "t.writeto('/global/project/projectdirs/des/shivamp/actxdes/data_set/cita_sims/halos_light_ds_10_xyz.fits', clobber=True)\n",
    "\n",
    "\n",
    "\n"
   ]
  },
  {
   "cell_type": "code",
   "execution_count": null,
   "metadata": {},
   "outputs": [],
   "source": []
  }
 ],
 "metadata": {
  "kernelspec": {
   "display_name": "myenv_new_jupyter",
   "language": "python",
   "name": "myenv_new_jupyter"
  },
  "language_info": {
   "codemirror_mode": {
    "name": "ipython",
    "version": 2
   },
   "file_extension": ".py",
   "mimetype": "text/x-python",
   "name": "python",
   "nbconvert_exporter": "python",
   "pygments_lexer": "ipython2",
   "version": "2.7.15"
  }
 },
 "nbformat": 4,
 "nbformat_minor": 4
}
