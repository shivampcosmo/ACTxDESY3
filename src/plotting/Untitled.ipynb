{
 "cells": [
  {
   "cell_type": "code",
   "execution_count": 1,
   "metadata": {},
   "outputs": [],
   "source": [
    "import GCRCatalogs \n"
   ]
  },
  {
   "cell_type": "code",
   "execution_count": 2,
   "metadata": {},
   "outputs": [],
   "source": [
    "cat_str = \"baseDC2_snapshot_z1.01_v0.1\"\n",
    "def get_catalog_cosmology(cat_str):\n",
    "    \"\"\"\n",
    "    Helper function to return catalog cosmology object and redshift\n",
    "    \"\"\"\n",
    "    cat = GCRCatalogs.load_catalog(cat_str)\n",
    "    return cat.cosmology\n",
    "COSMO = get_catalog_cosmology(cat_str)\n",
    "\n",
    "\n"
   ]
  },
  {
   "cell_type": "code",
   "execution_count": 2,
   "metadata": {},
   "outputs": [],
   "source": [
    "# Define helper function for keeping track of progress\n",
    "def progress_bar(cur_val, final_val):\n",
    "    \"\"\" \n",
    "    Function to keep track of progress during computations by displaying\n",
    "    a progress bar\n",
    "\n",
    "    Parameters:\n",
    "    cur_val (int/float): current iteration/value calculation is on\n",
    "    final_val (int/float): final iteration/value that calculation will take\n",
    "    \"\"\"\n",
    "\n",
    "    bar_length = 20\n",
    "    percent = float(cur_val) / final_val\n",
    "    arrow = '-' * int(round(percent * bar_length)-1) + '>'\n",
    "    spaces = ' ' * (bar_length - len(arrow))\n",
    "\n",
    "    sys.stdout.write(\"\\rProgress: [{0}]\"\n",
    "                     \" {1}%\".format(arrow + spaces, int(round(percent * 100))))\n",
    "    sys.stdout.flush()\n",
    "    "
   ]
  },
  {
   "cell_type": "code",
   "execution_count": 6,
   "metadata": {},
   "outputs": [
    {
     "ename": "OSError",
     "evalue": "/global/homes/s/spandey/genericio/python/../frontend/libpygio.so: cannot open shared object file: No such file or directory",
     "output_type": "error",
     "traceback": [
      "\u001b[0;31m---------------------------------------------------------------------------\u001b[0m",
      "\u001b[0;31mOSError\u001b[0m                                   Traceback (most recent call last)",
      "\u001b[0;32m<ipython-input-6-469660cb1535>\u001b[0m in \u001b[0;36m<module>\u001b[0;34m\u001b[0m\n\u001b[1;32m      7\u001b[0m \u001b[0msys\u001b[0m\u001b[0;34m.\u001b[0m\u001b[0mpath\u001b[0m\u001b[0;34m.\u001b[0m\u001b[0mappend\u001b[0m\u001b[0;34m(\u001b[0m\u001b[0mgenericio_path\u001b[0m\u001b[0;34m)\u001b[0m\u001b[0;34m\u001b[0m\u001b[0;34m\u001b[0m\u001b[0m\n\u001b[1;32m      8\u001b[0m \u001b[0msys\u001b[0m\u001b[0;34m.\u001b[0m\u001b[0mpath\u001b[0m\u001b[0;34m.\u001b[0m\u001b[0mappend\u001b[0m\u001b[0;34m(\u001b[0m\u001b[0mgcrcatalogs_path\u001b[0m\u001b[0;34m)\u001b[0m\u001b[0;34m\u001b[0m\u001b[0;34m\u001b[0m\u001b[0m\n\u001b[0;32m----> 9\u001b[0;31m \u001b[0;32mimport\u001b[0m \u001b[0mgenericio\u001b[0m\u001b[0;34m\u001b[0m\u001b[0;34m\u001b[0m\u001b[0m\n\u001b[0m\u001b[1;32m     10\u001b[0m \u001b[0mH0\u001b[0m \u001b[0;34m=\u001b[0m \u001b[0;36m71.\u001b[0m\u001b[0;34m\u001b[0m\u001b[0;34m\u001b[0m\u001b[0m\n\u001b[1;32m     11\u001b[0m \u001b[0mbmin\u001b[0m \u001b[0;34m=\u001b[0m \u001b[0;36m0.0\u001b[0m\u001b[0;34m\u001b[0m\u001b[0;34m\u001b[0m\u001b[0m\n",
      "\u001b[0;32m~/genericio/python/genericio.py\u001b[0m in \u001b[0;36m<module>\u001b[0;34m\u001b[0m\n\u001b[1;32m     45\u001b[0m \u001b[0;31m#Define where the library is and load it\u001b[0m\u001b[0;34m\u001b[0m\u001b[0;34m\u001b[0m\u001b[0;34m\u001b[0m\u001b[0m\n\u001b[1;32m     46\u001b[0m \u001b[0m_path\u001b[0m \u001b[0;34m=\u001b[0m \u001b[0mos\u001b[0m\u001b[0;34m.\u001b[0m\u001b[0mpath\u001b[0m\u001b[0;34m.\u001b[0m\u001b[0mdirname\u001b[0m\u001b[0;34m(\u001b[0m\u001b[0m__file__\u001b[0m\u001b[0;34m)\u001b[0m\u001b[0;34m\u001b[0m\u001b[0;34m\u001b[0m\u001b[0m\n\u001b[0;32m---> 47\u001b[0;31m \u001b[0mlibpygio\u001b[0m \u001b[0;34m=\u001b[0m \u001b[0mct\u001b[0m\u001b[0;34m.\u001b[0m\u001b[0mCDLL\u001b[0m\u001b[0;34m(\u001b[0m\u001b[0m_path\u001b[0m \u001b[0;34m+\u001b[0m \u001b[0;34m'/../frontend/libpygio.so'\u001b[0m\u001b[0;34m)\u001b[0m\u001b[0;34m\u001b[0m\u001b[0;34m\u001b[0m\u001b[0m\n\u001b[0m\u001b[1;32m     48\u001b[0m \u001b[0;31m#we need to define the return type (\"restype\") and\u001b[0m\u001b[0;34m\u001b[0m\u001b[0;34m\u001b[0m\u001b[0;34m\u001b[0m\u001b[0m\n\u001b[1;32m     49\u001b[0m \u001b[0;31m#the argument types\u001b[0m\u001b[0;34m\u001b[0m\u001b[0;34m\u001b[0m\u001b[0;34m\u001b[0m\u001b[0m\n",
      "\u001b[0;32m/global/common/software/lsst/common/miniconda/py3.7-4.7.12.1-v2/envs/desc/lib/python3.7/ctypes/__init__.py\u001b[0m in \u001b[0;36m__init__\u001b[0;34m(self, name, mode, handle, use_errno, use_last_error)\u001b[0m\n\u001b[1;32m    362\u001b[0m \u001b[0;34m\u001b[0m\u001b[0m\n\u001b[1;32m    363\u001b[0m         \u001b[0;32mif\u001b[0m \u001b[0mhandle\u001b[0m \u001b[0;32mis\u001b[0m \u001b[0;32mNone\u001b[0m\u001b[0;34m:\u001b[0m\u001b[0;34m\u001b[0m\u001b[0;34m\u001b[0m\u001b[0m\n\u001b[0;32m--> 364\u001b[0;31m             \u001b[0mself\u001b[0m\u001b[0;34m.\u001b[0m\u001b[0m_handle\u001b[0m \u001b[0;34m=\u001b[0m \u001b[0m_dlopen\u001b[0m\u001b[0;34m(\u001b[0m\u001b[0mself\u001b[0m\u001b[0;34m.\u001b[0m\u001b[0m_name\u001b[0m\u001b[0;34m,\u001b[0m \u001b[0mmode\u001b[0m\u001b[0;34m)\u001b[0m\u001b[0;34m\u001b[0m\u001b[0;34m\u001b[0m\u001b[0m\n\u001b[0m\u001b[1;32m    365\u001b[0m         \u001b[0;32melse\u001b[0m\u001b[0;34m:\u001b[0m\u001b[0;34m\u001b[0m\u001b[0;34m\u001b[0m\u001b[0m\n\u001b[1;32m    366\u001b[0m             \u001b[0mself\u001b[0m\u001b[0;34m.\u001b[0m\u001b[0m_handle\u001b[0m \u001b[0;34m=\u001b[0m \u001b[0mhandle\u001b[0m\u001b[0;34m\u001b[0m\u001b[0;34m\u001b[0m\u001b[0m\n",
      "\u001b[0;31mOSError\u001b[0m: /global/homes/s/spandey/genericio/python/../frontend/libpygio.so: cannot open shared object file: No such file or directory"
     ]
    }
   ],
   "source": [
    "import sys,os\n",
    "import h5py\n",
    "import numpy as np\n",
    "import pyccl\n",
    "genericio_path = r\"/global/homes/s/spandey/genericio/python/\"\n",
    "gcrcatalogs_path = r\"/global/homes/s/spandey/gcr-catalogs/\"\n",
    "sys.path.append(genericio_path)\n",
    "sys.path.append(gcrcatalogs_path)\n",
    "import genericio\n",
    "H0 = 71.\n",
    "bmin = 0.0\n",
    "bmax = 500.0\n",
    "\n",
    "def load_dark_matter_positions(file_str):\n",
    "    \"\"\"\n",
    "    Loads and applies preliminary filters to dark matter position data in Mpc\n",
    "    from a specified catalog and then applies a Gaussian kernel\n",
    "\n",
    "    Parameters:\n",
    "    file_str (string): location of file to load dark matter particles from\n",
    "    N (int):\n",
    "    \n",
    "    Returns:\n",
    "    pos_mat (N*N*N array): grid containing number of particles in box \n",
    "    \"\"\"\n",
    "    \n",
    "    # Load data from catalog using genericio\n",
    "    x_data = np.array(genericio.gio_read(file_str, \"x\")[0])\n",
    "    ind_selx = np.where((x_data > bmin) &  (x_data < bmax))\n",
    "    y_data = np.array(genericio.gio_read(file_str, \"y\")[0])\n",
    "    ind_sely = np.where((y_data > bmin) &  (y_data < bmax))\n",
    "    z_data = np.array(genericio.gio_read(file_str, \"z\")[0])\n",
    "    ind_selz = np.where((z_data > bmin) &  (z_data < bmax))\n",
    "    return np.vstack((x_data[ind_selx]*100/H0, y_data[ind_sely]*100/H0, z_data[ind_selz]*100/H0)).T\n",
    "\n",
    "\n",
    "        "
   ]
  },
  {
   "cell_type": "code",
   "execution_count": null,
   "metadata": {},
   "outputs": [],
   "source": [
    "dark_matter_file_str = (\"/global/projecta/projectdirs/lsst/groups/CS/\"\n",
    "                        \"cosmoDC2/Outer_snapshots/z1.01/m000.mpicosmo.247\")\n",
    "\n",
    "N_part = int(10765080312/216) # Number of total DM particles in the catalog (pre-determined)\n",
    "\n",
    "with h5py.File('/global/cfs/cdirs/m1727/shivamp_lsst/data_set/dc_matter/dm_cat_' + str(bmin) + '_' + str(bmax) + '.h5' , 'w') as ff:    \n",
    "    \n",
    "    pos = ff.create_dataset(\"Position\", dtype=(\"f8\"), shape=(N_part, 3))\n",
    "    cur_index = 0\n",
    "\n",
    "    # Iterate through all 256 DM catalog files \n",
    "    for i in range(256):\n",
    "\n",
    "        # Load positions\n",
    "        positional_data =  load_dark_matter_positions(dark_matter_file_str+\"#\"+str(i))\n",
    "        \n",
    "        # Save positions\n",
    "        n_pos = positional_data.shape[0]\n",
    "        if cur_index+n_pos < N_part:\n",
    "            pos[cur_index:cur_index+n_pos] = positional_data\n",
    "            cur_index += n_pos\n",
    "        else:\n",
    "            break\n",
    "        # Update progress\n",
    "        progress_bar(i, 256)\n",
    "\n"
   ]
  }
 ],
 "metadata": {
  "kernelspec": {
   "display_name": "desc-python",
   "language": "python",
   "name": "desc-python"
  },
  "language_info": {
   "codemirror_mode": {
    "name": "ipython",
    "version": 3
   },
   "file_extension": ".py",
   "mimetype": "text/x-python",
   "name": "python",
   "nbconvert_exporter": "python",
   "pygments_lexer": "ipython3",
   "version": "3.7.6"
  }
 },
 "nbformat": 4,
 "nbformat_minor": 4
}
