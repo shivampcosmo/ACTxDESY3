{
 "cells": [
  {
   "cell_type": "code",
   "execution_count": 1,
   "metadata": {},
   "outputs": [
    {
     "name": "stdin",
     "output_type": "stream",
     "text": [
      "Once deleted, variables cannot be recovered. Proceed (y/[n])?  y\n"
     ]
    }
   ],
   "source": [
    "%reset\n",
    "import sys, os\n",
    "import traceback\n",
    "import pdb\n",
    "import numpy as np\n",
    "import scipy as sp\n",
    "import scipy.special as spsp\n",
    "from scipy import interpolate\n",
    "import astropy.units as u\n",
    "from astropy import constants as const\n",
    "import colossus\n",
    "from colossus.cosmology import cosmology\n",
    "from colossus.lss import bias\n",
    "from colossus.lss import mass_function\n",
    "from colossus.halo import mass_so\n",
    "from colossus.halo import mass_defs\n",
    "from colossus.halo import concentration\n",
    "import copy\n",
    "import itertools\n",
    "sys.path.insert(0, '/global/cfs/cdirs/des/shivamp/nl_cosmosis/cosmosis/ACTxDESY3/src/cosmosis_code/')\n",
    "sys.path.insert(0, '/global/cfs/cdirs/des/shivamp/nl_cosmosis/cosmosis/ACTxDESY3/helper/')\n",
    "import mycosmo as cosmodef\n",
    "from twobessel import *\n",
    "import LSS_funcs as hmf\n",
    "import plot_funcs as pf\n",
    "import multiprocessing\n",
    "import time\n",
    "import pdb\n",
    "import pickle as pk\n",
    "import dill\n",
    "from mcfit import Hankel\n",
    "\n",
    "os.environ['COSMOSIS_SRC_DIR'] = '/global/cfs/cdirs/des/shivamp/nl_cosmosis/cosmosis'\n",
    "\n",
    "# sys.path.insert(0, '../../../helper/')\n",
    "# sys.path.insert(0, '../cosmosis_code/')\n",
    "\n",
    "from pressure import *\n",
    "from get_theory_interface import *\n",
    "from general_hm import *\n",
    "pi = np.pi\n",
    "\n",
    "\n",
    "\n",
    "\n",
    "class HOD2:\n",
    "    \"\"\"\n",
    "    Sets up the HOD class for the galaxies.\n",
    "    \"\"\"\n",
    "\n",
    "    def __init__(self, hod_params, other_params):\n",
    "        self.hod_params = hod_params\n",
    "        self.hod_type = hod_params['hod_type']\n",
    "        self.z_array = other_params['z_array']\n",
    "#         self.z_edges = np.array(other_params['z_edges'])\n",
    "#         self.zcen = 0.5*(self.z_edges[1:] + self.z_edges[:-1])\n",
    "#         self.binvl = other_params['binvl']\n",
    "        self.nz = len(self.z_array)\n",
    "        self.nm = len(other_params['M_array'])\n",
    "\n",
    "    # Average number of central galaxies\n",
    "    def get_Nc(self, M_val):\n",
    "        if self.hod_type == 'Halos':\n",
    "            Ncm = 0.5 * (np.sign((M_val - 10 ** self.hod_params['logMmin'])) + 1.)\n",
    "        elif self.hod_type in ['DESI', '2MRS']:\n",
    "            erfval = sp.special.erf((np.log10(M_val) - self.hod_params['logMmin']) / self.hod_params['sig_logM'])\n",
    "            Ncm = 0.5 * (1 + erfval)\n",
    "        elif self.hod_type == 'DES_MICE':\n",
    "            Ncm =  0.5 * self.hod_params['fcen'] * (1. + sp.special.erf((np.log10(M_val) - self.hod_params['logMmin']) / self.hod_params['sig_logM']))\n",
    "\n",
    "            # erfval = sp.special.erf((np.log10(M_val) - self.hod_params['logMmin']) / self.hod_params['sig_logM'])\n",
    "            # Ncm = self.hod_params['fmaxcen'] * (\n",
    "            #         1.0 - (1.0 - self.hod_params['fmincen'] / self.hod_params['fmaxcen']) / (1.0 + 10 ** (\n",
    "            #         (2.0 / self.hod_params['fcen_k']) * (\n",
    "            #         np.log10(M_val) - self.hod_params['log_mdrop'])))) * 0.5 * (1 + erfval)\n",
    "\n",
    "        elif self.hod_type == 'DES_MICE_exp':\n",
    "            exp_fac = (np.exp(-1.*((np.log10(M_val))/self.hod_params['logMstar'])**self.hod_params['n']))  \n",
    "            Ncm =  0.5 * exp_fac * (1. + sp.special.erf((np.log10(M_val) - self.hod_params['logMmin']) / self.hod_params['sig_logM']))\n",
    "\n",
    "        elif self.hod_type == 'DES_maglim_exp_zev':\n",
    "            # logmmin = self.hod_params['logMmin_z0'] * (((1. + self.z_array)/(1. + self.hod_params['zstar'] ) ** self.hod_params['logMmin_alpha_z'])) \n",
    "            # logmmin = np.tile(logmmin.reshape(self.nz, 1), (1, self.nm))\n",
    "            # siglogm = self.hod_params['sig_logM_z0'] * (((1. + self.z_array)/(1. + self.hod_params['zstar'] ) ** self.hod_params['sig_logM_alpha_z'])) \n",
    "            # siglogm = np.tile(siglogm.reshape(self.nz, 1), (1, self.nm))\n",
    "            # logmstar = self.hod_params['logMstar_z0'] * (((1. + self.z_array)/(1. + self.hod_params['zstar'] ) ** self.hod_params['logMstar_alpha_z'])) \n",
    "            # logmstar = np.tile(logmstar.reshape(self.nz, 1), (1, self.nm))\n",
    "            # n = self.hod_params['n_z0'] * (((1. + self.z_array)/(1. + self.hod_params['zstar'] ) ** self.hod_params['n_alpha_z'])) \n",
    "            # n = np.tile(n.reshape(self.nz, 1), (1, self.nm))\n",
    "\n",
    "            logmmin = self.hod_params['logMmin_z0'] * (((1. + self.zcen[self.binvl-1])/(1. + self.hod_params['zstar'])) ** self.hod_params['logMmin_alpha_z']) \n",
    "            # logmmin = np.tile(logmmin.reshape(self.nz, 1), (1, self.nm))\n",
    "            siglogm = self.hod_params['sig_logM_z0'] * (((1. + self.zcen[self.binvl-1])/(1. + self.hod_params['zstar'])) ** self.hod_params['sig_logM_alpha_z']) \n",
    "            # siglogm = np.tile(siglogm.reshape(self.nz, 1), (1, self.nm))\n",
    "            logmstar = self.hod_params['logMstar_z0'] * (((1. + self.zcen[self.binvl-1])/(1. + self.hod_params['zstar'])) ** self.hod_params['logMstar_alpha_z']) \n",
    "            # logmstar = np.tile(logmstar.reshape(self.nz, 1), (1, self.nm))\n",
    "            n = self.hod_params['n_z0'] * (((1. + self.zcen[self.binvl-1])/(1. + self.hod_params['zstar'])) ** self.hod_params['n_alpha_z']) \n",
    "            # n = np.tile(n.reshape(self.nz, 1), (1, self.nm))\n",
    "\n",
    "            exp_fac = (np.exp(-1.* np.power((np.log10(M_val) /logmstar),n)))\n",
    "            Ncm =  0.5 * exp_fac * (1. + sp.special.erf((np.log10(M_val) - logmmin)/siglogm))\n",
    "\n",
    "\n",
    "        elif self.hod_type == 'DES_GGL':\n",
    "            erfval = sp.special.erf((np.log10(M_val) - self.hod_params['logMmin']) / self.hod_params['sig_logM'])\n",
    "#             Ncm = self.hod_params['fcen'] * 0.5 * (1 + erfval)\n",
    "            Ncm = 0.5 * (1 + erfval)\n",
    "        elif self.hod_type == 'EVOLVE_HOD':\n",
    "            Ncm_interp = dill.load(open('/global/cfs/cdirs/des/shivamp/ACTxDESY3_data/MICE_data/mice_maglim_hod_zM_interp_zhres.pk','rb'))['fcen_interp']\n",
    "            Ncm = np.zeros_like(M_val)\n",
    "            for j in range(len(self.z_array)):\n",
    "                Ncm[j,:] = np.exp(Ncm_interp((self.z_array[j]), np.log(M_val[j,:]),grid=False))\n",
    "        else:\n",
    "            print('give correct HOD type')\n",
    "            sys.exit(1)\n",
    "        return Ncm\n",
    "\n",
    "    # Average number of satellite galaxies\n",
    "    def get_Ns(self, M_val):\n",
    "        Ncm = self.get_Nc(M_val)\n",
    "        if self.hod_type == 'Halos':\n",
    "            Nsm = np.zeros(M_val.shape)\n",
    "        elif self.hod_type in ['DESI', '2MRS']:\n",
    "            M0 = 10 ** (self.hod_params['logM0'])\n",
    "            M1 = 10 ** (self.hod_params['logM1'])\n",
    "            val = 0.5 * (np.sign((M_val - M0)) + 1.) * ((M_val - M0) / M1)\n",
    "            Nsm = Ncm * np.power(val, self.hod_params['alpha_g'])\n",
    "        elif self.hod_type == 'DES_MICE':\n",
    "            M1 = 10 ** (self.hod_params['logM1'])\n",
    "            Nsm = ((M_val / M1) ** self.hod_params['alpha_g'])\n",
    "            # removing the fcen factor from the definition of satellite galaxies\n",
    "            # Nsm *= Ncm/(self.hod_params['fcen'])\n",
    "            Nsm *= Ncm\n",
    "            # Nsm = (M_val / (10 ** (self.hod_params['logM1']))) ** self.hod_params['alpha_g'])\n",
    "            # erfval = sp.special.erf((np.log10(M_val) - self.hod_params['logMmin']) / self.hod_params['sig_logM'])\n",
    "            # Ncerf = 0.5 * (1 + erfval)\n",
    "            # Ncm = get_Nc(self, M_val)\n",
    "            # M1 = 10 ** (self.hod_params['logM1'])\n",
    "            # Nsm = (Ncerf / Ncm) * ((M_val / M1) ** self.hod_params['alpha_g'])\n",
    "\n",
    "        elif self.hod_type == 'DES_MICE_exp':\n",
    "            Ncm =  0.5 * (1. + sp.special.erf((np.log10(M_val) - self.hod_params['logMmin']) / self.hod_params['sig_logM']))\n",
    "            M1 = 10 ** (self.hod_params['logM1'])\n",
    "            Nsm = Ncm * ((M_val / M1) ** self.hod_params['alpha_g'])\n",
    "\n",
    "        elif self.hod_type == 'DES_maglim_exp_zev':\n",
    "            # logmmin = self.hod_params['logMmin_z0'] * (((1. + self.z_array)/(1. + self.hod_params['zstar'] ) ** self.hod_params['logMmin_alpha_z'])) \n",
    "            # logmmin = np.tile(logmmin.reshape(self.nz, 1), (1, self.nm))\n",
    "            # siglogm = self.hod_params['sig_logM_z0'] * (((1. + self.z_array)/(1. + self.hod_params['zstar'] ) ** self.hod_params['sig_logM_alpha_z'])) \n",
    "            # siglogm = np.tile(siglogm.reshape(self.nz, 1), (1, self.nm))\n",
    "            # logM1 = self.hod_params['logM1_z0'] * (((1. + self.z_array)/(1. + self.hod_params['zstar'] ) ** self.hod_params['logM1_alpha_z'])) \n",
    "            # logM1 = np.tile(logM1.reshape(self.nz, 1), (1, self.nm))\n",
    "            # alpha = self.hod_params['alpha_g_z0'] * (((1. + self.z_array)/(1. + self.hod_params['zstar'] ) ** self.hod_params['alpha_g_alpha_z'])) \n",
    "            # alpha = np.tile(alpha.reshape(self.nz, 1), (1, self.nm))\n",
    "\n",
    "\n",
    "            logmmin = self.hod_params['logMmin_z0'] * (((1. + self.zcen[self.binvl-1])/(1. + self.hod_params['zstar'])) ** self.hod_params['logMmin_alpha_z']) \n",
    "            # logmmin = np.tile(logmmin.reshape(self.nz, 1), (1, self.nm))\n",
    "            siglogm = self.hod_params['sig_logM_z0'] * (((1. + self.zcen[self.binvl-1])/(1. + self.hod_params['zstar'])) ** self.hod_params['sig_logM_alpha_z']) \n",
    "            # siglogm = np.tile(siglogm.reshape(self.nz, 1), (1, self.nm))\n",
    "            logM1 = self.hod_params['logM1_z0'] * (((1. + self.zcen[self.binvl-1])/(1. + self.hod_params['zstar'])) ** self.hod_params['logM1_alpha_z']) \n",
    "            # logM1 = np.tile(logM1.reshape(self.nz, 1), (1, self.nm))\n",
    "            alpha = self.hod_params['alpha_g_z0'] * (((1. + self.zcen[self.binvl-1])/(1. + self.hod_params['zstar'])) ** self.hod_params['alpha_g_alpha_z']) \n",
    "            # alpha = np.tile(alpha.reshape(self.nz, 1), (1, self.nm))\n",
    "            Ncm =  0.5 * (1. + sp.special.erf((np.log10(M_val) - logmmin)/siglogm))\n",
    "            Nsm = Ncm * ( M_val / 10**logM1)**alpha\n",
    "\n",
    "        elif self.hod_type == 'DES_GGL':\n",
    "            M1 = 10 ** (self.hod_params['logM1'])\n",
    "            Nsm = Ncm * ((M_val / M1) ** self.hod_params['alpha_g'])\n",
    "\n",
    "        elif self.hod_type == 'EVOLVE_HOD':\n",
    "            Nsm_interp = dill.load(open('/global/cfs/cdirs/des/shivamp/ACTxDESY3_data/MICE_data/mice_maglim_hod_zM_interp_zhres.pk', 'rb'))['fsat_interp']\n",
    "            Nsm = np.zeros_like(M_val)\n",
    "            for j in range(len(self.z_array)):\n",
    "                Nsm[j, :] = np.exp(Nsm_interp((self.z_array[j]), np.log(M_val[j, :]), grid=False))\n",
    "        else:\n",
    "            print('give correct HOD type')\n",
    "            sys.exit(1)\n",
    "        return Nsm\n",
    "\n",
    "    # total number of galaxies = (Ncm*(1+Nsm))\n",
    "    def get_Ntotal(self, M_val):\n",
    "        Ncm = self.get_Nc(M_val)\n",
    "        Nsm = self.get_Ns(M_val)\n",
    "        ntm = Ncm + Nsm\n",
    "        return ntm\n",
    "\n"
   ]
  },
  {
   "cell_type": "code",
   "execution_count": 2,
   "metadata": {},
   "outputs": [
    {
     "name": "stdout",
     "output_type": "stream",
     "text": [
      "Note: redshifts have been re-sorted (earliest first)\n"
     ]
    }
   ],
   "source": [
    "import matplotlib\n",
    "import matplotlib.pyplot as pl\n",
    "font = {'size'   : 18}\n",
    "matplotlib.rc('font', **font)\n",
    "# # Latex stuff\n",
    "pl.rc('text', usetex=True)\n",
    "pl.rc('font', family='serif')\n",
    "\n",
    "\n",
    "import pickle as pk\n",
    "import numpy as np\n",
    "import pickle as pk\n",
    "import matplotlib\n",
    "import matplotlib.pyplot as pl\n",
    "from astropy import units\n",
    "from astropy import constants\n",
    "# import matplotlib\n",
    "from astropy.io import fits\n",
    "import sys, os\n",
    "import dill\n",
    "# %pylab inline\n",
    "\n",
    "\n",
    "def replace_values(params_dict, pressure_params_orig, sec_name='theory_yx'):\n",
    "    pressure_params_dict = copy.deepcopy(pressure_params_orig)\n",
    "    for key in params_dict.keys():\n",
    "        key_sp = key.split('--')\n",
    "        if key_sp[0] == sec_name:\n",
    "            param_val = key_sp[1]\n",
    "            for pressure_keys in pressure_params_dict.keys():\n",
    "                if param_val == pressure_keys.lower():\n",
    "                    pressure_params_dict[pressure_keys] = params_dict[key]\n",
    "\n",
    "    return pressure_params_dict\n",
    "\n",
    "def weighted_percentile(data_mat, percents, weights=None):\n",
    "    weighted_mat = np.zeros(data_mat.shape[1])\n",
    "    for mj in range(data_mat.shape[1]):\n",
    "        data = data_mat[:, mj]\n",
    "        if weights is None:\n",
    "            return np.percentile(data, percents)\n",
    "        ind=np.argsort(data)\n",
    "        d=data[ind]\n",
    "        w=weights[ind]\n",
    "        p=1.*w.cumsum()/w.sum()*100\n",
    "        y=np.interp(percents, p, d)\n",
    "        weighted_mat[mj] = y\n",
    "    return weighted_mat\n",
    "\n",
    "        \n",
    "ini_info = read_ini('/global/cfs/cdirs/des/shivamp/nl_cosmosis/cosmosis/ACTxDESY3/src/params_files/params_DES_cg_cm.ini', ini_def='/global/cfs/cdirs/des/shivamp/nl_cosmosis/cosmosis/ACTxDESY3/src/params_files/params_default.ini')\n",
    "other_params_dict = copy.deepcopy(ini_info['other_params_dict'])\n",
    "cosmo_params_dict = copy.deepcopy(ini_info['cosmo_params_dict'])\n",
    "pressure_params_dict = copy.deepcopy(ini_info['pressure_params_dict'])\n",
    "hod_params_dict = copy.deepcopy(ini_info['hod_params_dict'])\n",
    "cosmology.addCosmology('mock_cosmo', cosmo_params_dict)\n",
    "cosmo_colossus = cosmology.setCosmology('mock_cosmo')\n",
    "other_params_dict['pressure_fid'] = pressure_params_dict\n",
    "\n",
    "\n"
   ]
  },
  {
   "cell_type": "code",
   "execution_count": 3,
   "metadata": {},
   "outputs": [
    {
     "data": {
      "text/plain": [
       "{'hod_type': 'DES_GGL',\n",
       " 'logMmin': 12.2,\n",
       " 'sig_logM': 0.5,\n",
       " 'logM1': 12.6,\n",
       " 'alpha_g': 1.1,\n",
       " 'fcen': 0.9,\n",
       " 'rmax_r200c': 4.39,\n",
       " 'rmax_rvir': 1.0,\n",
       " 'rsg_rs': 1.17,\n",
       " 'mass_def_for_rmax': 'vir',\n",
       " 'eta_mb': 1.0,\n",
       " 'lncmis': -1.1,\n",
       " 'fmis': 0.0,\n",
       " 'sig_lnM': 0.1}"
      ]
     },
     "execution_count": 3,
     "metadata": {},
     "output_type": "execute_result"
    }
   ],
   "source": [
    "hod_params_dict\n"
   ]
  },
  {
   "cell_type": "code",
   "execution_count": 4,
   "metadata": {},
   "outputs": [],
   "source": [
    "# # get the halo mass function and halo bias using the colossus module\n",
    "# def get_dndm_bias(M_mat,z_array, mdef):\n",
    "\n",
    "#     dndm_array_Mz, bm_array_Mz = np.zeros(M_mat.shape), np.zeros(M_mat.shape)\n",
    "\n",
    "#     for j in range(len(z_array)):\n",
    "#         M_array = M_mat[j, :]\n",
    "\n",
    "#         dndm_array_Mz[j, :] = (1. / M_array) * mass_function.massFunction(M_array, z_array[j],\n",
    "#                                                                           mdef=mdef, model='tinker08',\n",
    "#                                                                           q_out='dndlnM')\n",
    "\n",
    "#         bm_array_Mz[j, :] = bias.haloBias(M_array, z_array[j], model='tinker10', mdef=mdef)\n",
    "\n",
    "#     return dndm_array_Mz, bm_array_Mz\n",
    "\n"
   ]
  },
  {
   "cell_type": "code",
   "execution_count": 20,
   "metadata": {},
   "outputs": [],
   "source": [
    "# from general_hm import *\n",
    "\n",
    "class Powerspec2:\n",
    "    \n",
    "    def __init__(self, cosmo_params, hod_params, pressure_params, other_params):\n",
    "        cosmology.addCosmology('mock_cosmo', cosmo_params)\n",
    "        self.cosmo_colossus = cosmology.setCosmology('mock_cosmo')\n",
    "#        self.cosmo_colossus = cosmology.setCosmology('planck18')\n",
    "        h = cosmo_params['H0'] / 100.\n",
    "        cosmo_func = cosmodef.mynew_cosmo(h, cosmo_params['Om0'], cosmo_params['Ob0'], cosmo_params['ns'],\n",
    "                                          cosmo_params['sigma8'])\n",
    "        self.cosmo = cosmo_func\n",
    "\n",
    "        self.M_array, self.z_array, self.x_array = other_params['M_array'], other_params['z_array'], other_params[\n",
    "            'x_array']\n",
    "\n",
    "        self.verbose = other_params['verbose']\n",
    "\n",
    "        self.nm, self.nz = len(self.M_array), len(self.z_array)\n",
    "        M_mat_mdef = np.tile(self.M_array.reshape(1, self.nm), (self.nz, 1))\n",
    "        self.M_mat = M_mat_mdef\n",
    "\n",
    "        if hod_params['hod_type'] == 'Halos':\n",
    "            self.use_only_halos = True\n",
    "        else:\n",
    "            self.use_only_halos = False\n",
    "\n",
    "        self.mdef_analysis = other_params['mdef_analysis']\n",
    "        self.dndm_model = other_params['dndm_model']\n",
    "        self.bias_model = other_params['bias_model']\n",
    "\n",
    "        self.eta_mb = hod_params['eta_mb']\n",
    "        self.sig_lnM = hod_params['sig_lnM']\n",
    "        self.rho_crit_array = self.cosmo_colossus.rho_c(self.z_array) * (1000 ** 3)\n",
    "        # default output is in (Msun * h ** 2) / (kpc ** 3)\n",
    "        # rho_crit converted to (Msun * h ** 2) / (Mpc ** 3)\n",
    "        self.rho_vir_array = (mass_so.deltaVir(self.z_array)) * self.rho_crit_array\n",
    "\n",
    "        if self.verbose:\n",
    "            print('setting up hod')\n",
    "        self.hod = HOD2(hod_params,other_params)\n",
    "\n",
    "        if self.verbose:\n",
    "            print('setting up general hmf')\n",
    "        self.ghmf = general_hm(cosmo_params, pressure_params, other_params)\n",
    "\n",
    "        if 'dndm_array' not in other_params.keys():\n",
    "            if self.verbose:\n",
    "                print('getting dndm and bm at', self.mdef_analysis)\n",
    "            self.dndm_array, self.bm_array = self.ghmf.get_dndm_bias(M_mat_mdef, self.mdef_analysis)\n",
    "            if self.verbose:\n",
    "                print('getting halo conc at ', self.mdef_analysis)\n",
    "            self.halo_conc_mdef = self.ghmf.get_halo_conc_Mz(M_mat_mdef, self.mdef_analysis)\n",
    "        else:\n",
    "            self.dndm_array, self.bm_array = other_params['dndm_array'], other_params['bm_array']\n",
    "            self.halo_conc_mdef = other_params['halo_conc_mdef']\n",
    "\n",
    "\n",
    "        # trying to test only single mdef\n",
    "        M_mat_vir = M_mat_mdef\n",
    "        self.r_vir_mat = hmf.get_R_from_M_mat(M_mat_mdef, 200 * self.rho_crit_array)\n",
    "        self.halo_conc_vir = self.halo_conc_mdef\n",
    "\n",
    "\n",
    "        if not self.use_only_halos:\n",
    "            self.rmax_r200c = hod_params['rmax_r200c']\n",
    "            self.rmax_rvir = hod_params['rmax_rvir']\n",
    "            self.rsg_rs = hod_params['rsg_rs']\n",
    "            self.mass_def_for_rmax = hod_params['mass_def_for_rmax']\n",
    "            if self.mass_def_for_rmax == 'vir':\n",
    "                self.r_max_mat = self.r_vir_mat * self.rmax_rvir\n",
    "            elif self.mass_def_for_rmax == '200c':\n",
    "                if self.verbose:\n",
    "                    print('changing mdef to 200c for extent')\n",
    "                M_mat_200c, R_mat_200c_kpc_h, halo_conc_200c = np.zeros(M_mat_mdef.shape), np.zeros(\n",
    "                    M_mat_mdef.shape), np.zeros(M_mat_mdef.shape)\n",
    "                for j in range(self.nz):\n",
    "                    M_mat_200c[j, :], R_mat_200c_kpc_h[j, :], halo_conc_200c[j, :] = mass_defs.changeMassDefinition(\n",
    "                        M_mat_mdef[j, :], self.halo_conc_mdef[j, :], self.z_array[j], self.mdef_analysis, '200c')\n",
    "                self.r_200c_mat = R_mat_200c_kpc_h / 1000.\n",
    "                self.halo_conc_200c = halo_conc_200c\n",
    "                self.r_max_mat = self.r_200c_mat * self.rmax_r200c\n",
    "            else:\n",
    "                self.r_max_mat = None\n",
    "\n",
    "        self.Nc_mat = self.hod.get_Nc(M_mat_vir)\n",
    "        self.Ns_mat = self.hod.get_Ns(M_mat_vir)\n",
    "        self.Ntotal_mat = self.hod.get_Ntotal(M_mat_vir)\n",
    "        self.M_mat_vir = M_mat_vir\n",
    "\n",
    "        self.mass_bias_type = other_params['mass_bias_type']\n",
    "\n",
    "        z_mat = np.tile(self.z_array.reshape(self.nz, 1), (1, self.nm))\n",
    "        self.z_mat_cond_inbin = np.logical_and(z_mat >= other_params['zmin_tracer'],\n",
    "                                               z_mat <= other_params['zmax_tracer'])\n",
    "\n",
    "        self.z_array_cond_inbin = np.logical_and(self.z_array >= other_params['zmin_tracer'],\n",
    "                                                 self.z_array <= other_params['zmax_tracer'])\n",
    "\n",
    "        if self.mass_bias_type == 'limits':\n",
    "            self.M_mat_cond_inbin = np.logical_and(\n",
    "                self.M_mat >= self.eta_mb * (10 ** other_params['log_M_min_tracer']),\n",
    "                self.M_mat <= self.eta_mb * (10 ** other_params['log_M_max_tracer']))\n",
    "\n",
    "        else:\n",
    "            self.M_mat_cond_inbin = np.logical_and(self.M_mat >= (10 ** other_params['log_M_min_tracer']),\n",
    "                                                   self.M_mat <= (10 ** other_params['log_M_max_tracer']))\n",
    "\n",
    "        if self.mass_bias_type == 'weighted':\n",
    "            xL = (np.log(self.eta_mb * (10 ** other_params['log_M_min_tracer'])) - np.log(M_mat_vir)) / (\n",
    "                    2 * (self.sig_lnM ** 2))\n",
    "            xH = (np.log(self.eta_mb * (10 ** other_params['log_M_max_tracer'])) - np.log(M_mat_vir)) / (\n",
    "                    2 * (self.sig_lnM ** 2))\n",
    "            self.int_prob = 0.5 * (spsp.erf(xL) - spsp.erf(xH))\n",
    "            self.M_mat_cond_inbin = np.ones(self.M_mat_cond_inbin.shape)\n",
    "        else:\n",
    "            self.int_prob = np.ones(self.Ntotal_mat.shape)\n",
    "\n",
    "        if self.use_only_halos:\n",
    "            self.nbar = hmf.get_nbar_z(self.M_array, self.dndm_array, self.int_prob, self.M_mat_cond_inbin)\n",
    "        else:\n",
    "            self.nbar = hmf.get_nbar_z(self.M_array, self.dndm_array, self.Ntotal_mat, self.M_mat_cond_inbin)\n",
    "        self.nbar_mat = np.tile(self.nbar.reshape(self.nz, 1), (1, self.nm))\n",
    "\n",
    "        ng_zarray = other_params['ng_zarray']\n",
    "        ng_value = other_params['ng_value']\n",
    "        # import ipdb; ipdb.set_trace() # BREAKPOINT\n",
    "\n",
    "        ng_interp = interpolate.interp1d(ng_zarray, np.log(ng_value + 1e-100), fill_value='extrapolate')\n",
    "\n",
    "        self.chi_array = hmf.get_Dcom_array(self.z_array, cosmo_params['Om0'])\n",
    "        self.DA_array = self.chi_array / (1. + self.z_array)\n",
    "        self.ng_array = np.exp(ng_interp(self.z_array))\n",
    "        self.dchi_dz_array = (const.c.to(u.km / u.s)).value / (hmf.get_Hz(self.z_array, cosmo_params['Om0']))\n",
    "\n",
    "        H0 = 100. * (u.km / (u.s * u.Mpc))\n",
    "        G_new = const.G.to(u.Mpc ** 3 / ((u.s ** 2) * u.M_sun))\n",
    "        self.rho_m_bar = ((cosmo_params['Om0'] * 3 * (H0 ** 2) / (8 * np.pi * G_new)).to(u.M_sun / (u.Mpc ** 3))).value\n",
    "\n",
    "\n",
    "        if 'pkzlin_interp' not in other_params.keys():\n",
    "            if self.verbose:\n",
    "                print('getting pkzlin interp')\n",
    "            self.pkzlin_interp = self.ghmf.get_Pklin_zk_interp()\n",
    "        else:\n",
    "            self.pkzlin_interp = other_params['pkzlin_interp']\n",
    "\n",
    "        if 'pkznl_interp' in other_params.keys():\n",
    "            self.pkznl_interp = other_params['pkznl_interp']\n",
    "        else:\n",
    "            self.pkznl_interp = self.ghmf.get_PkNL_zk_interp()\n",
    "\n",
    "        self.suppress_1halo = other_params['suppress_1halo']\n",
    "        self.kstar = other_params['kstar']\n",
    "\n",
    "    def get_Pkcm1h_zM(self, k_array, logM_min=np.log10(1.5e14), logM_max=np.log10(5e16)):\n",
    "        nk = len(k_array)\n",
    "        M_mat_cond_inbin = np.logical_and(\n",
    "            self.M_mat >= ((10 ** logM_min)),\n",
    "            self.M_mat <= ((10 ** logM_max)))\n",
    "        int_prob = np.ones(self.Ntotal_mat.shape)\n",
    "        nbar = hmf.get_nbar_z(self.M_array, self.dndm_array, int_prob, M_mat_cond_inbin)        \n",
    "        \n",
    "        nbar_mat = np.tile(nbar.reshape(self.nz, 1), (1, nk))\n",
    "\n",
    "        norm_mat = np.tile((self.M_mat/self.rho_m_bar).reshape(self.nz, 1, self.nm), (1, nk, 1))\n",
    "        val = np.ones(norm_mat.shape)\n",
    "        toint_M_multfac = np.tile(M_mat_cond_inbin.reshape(self.nz, 1, self.nm), (1, nk, 1))\n",
    "        ukzm_mat = hmf.get_ukmz_g_kmat(self.r_max_mat, k_array, self.halo_conc_vir, self.rsg_rs)\n",
    "        dndm_mat = np.tile(self.dndm_array.reshape(self.nz, 1, self.nm), (1, nk, 1))\n",
    "        Pk1h = (1./nbar_mat) * sp.integrate.simps((val * ukzm_mat * norm_mat * toint_M_multfac) * dndm_mat, self.M_array)\n",
    "\n",
    "        return Pk1h\n",
    "\n",
    "\n",
    "    def get_Pkcm2h_zM(self, k_array, logM_min=np.log10(1.5e14), logM_max=np.log10(5e16)):\n",
    "        nk = len(k_array)\n",
    "        ukzm_mat = hmf.get_ukmz_g_kmat(self.r_max_mat, k_array, self.halo_conc_vir, self.rsg_rs)\n",
    "\n",
    "        dndm_mat = np.tile(self.dndm_array.reshape(self.nz, 1, self.nm), (1, nk, 1))\n",
    "        bM_mat = np.tile(self.bm_array.reshape(self.nz, 1, self.nm), (1, nk, 1))\n",
    "\n",
    "        M_mat_cond_inbin = np.logical_and(\n",
    "            self.M_mat >= ((10 ** logM_min)),\n",
    "            self.M_mat <= ((10 ** logM_max)))\n",
    "        toint_M_multfac = np.tile(M_mat_cond_inbin.reshape(self.nz, 1, self.nm), (1, nk, 1))\n",
    "        int_prob = np.ones(toint_M_multfac.shape)\n",
    "        nbar = hmf.get_nbar_z(self.M_array, self.dndm_array, np.ones(M_mat_cond_inbin.shape), M_mat_cond_inbin)        \n",
    "        \n",
    "        nbar_mat = np.tile(nbar.reshape(self.nz, 1), (1, nk))\n",
    "        toint = dndm_mat * (np.ones(dndm_mat.shape)) * bM_mat * toint_M_multfac * int_prob \n",
    "\n",
    "        val = sp.integrate.simps(toint, self.M_array)\n",
    "\n",
    "        coeff = (1./nbar_mat)\n",
    "        Pnl_kz = np.exp(self.pkznl_interp((self.z_array), np.log(k_array), grid=True))\n",
    "        Plin_kz = np.exp(self.pkzlin_interp((self.z_array), np.log(k_array), grid=True))\n",
    "        return coeff * val * Pnl_kz, coeff * val * Plin_kz, coeff*val\n",
    "\n",
    "    def get_Pkcg1h_zM(self, k_array, logM_min=np.log10(1.5e14), logM_max=np.log10(5e16)):\n",
    "        nk = len(k_array)\n",
    "        ukzm_mat = hmf.get_ukmz_g_kmat(self.r_max_mat, k_array, self.halo_conc_vir, self.rsg_rs)\n",
    "\n",
    "        dndm_mat = np.tile(self.dndm_array.reshape(self.nz, 1, self.nm), (1, nk, 1))\n",
    "        Ns_mat = np.tile(self.Ns_mat.reshape(self.nz, 1, self.nm), (1, nk, 1))\n",
    "        Nc_mat = np.tile(self.Nc_mat.reshape(self.nz, 1, self.nm), (1, nk, 1))\n",
    "\n",
    "        M_mat_cond_inbin = np.logical_and(\n",
    "            self.M_mat >= ((10 ** logM_min)),\n",
    "            self.M_mat <= ((10 ** logM_max)))\n",
    "        int_prob = np.ones(self.Ntotal_mat.shape)\n",
    "        nbarc = hmf.get_nbar_z(self.M_array, self.dndm_array, int_prob, M_mat_cond_inbin)        \n",
    "        nbarc_mat = np.tile(nbarc.reshape(self.nz, 1), (1, nk))\n",
    "\n",
    "        nbarg = hmf.get_nbar_z(self.M_array, self.dndm_array, self.Ns_mat+self.Nc_mat, np.ones_like(M_mat_cond_inbin))        \n",
    "        nbarg_mat = np.tile(nbarg.reshape(self.nz, 1), (1, nk))\n",
    "        \n",
    "        val = (Ns_mat * ukzm_mat + Nc_mat) \n",
    "        toint_M_multfac = np.tile(M_mat_cond_inbin.reshape(self.nz, 1, self.nm), (1, nk, 1))\n",
    "        Pk1h = (1./(nbarg_mat*nbarc_mat)) * sp.integrate.simps((val * toint_M_multfac) * dndm_mat, self.M_array)\n",
    "\n",
    "        return Pk1h, nbarg\n",
    "\n",
    "\n",
    "    def get_Pkcg2h_zM(self, k_array, logM_min=np.log10(1.5e14), logM_max=np.log10(5e16)):\n",
    "        nk = len(k_array)\n",
    "        ukzm_mat = hmf.get_ukmz_g_kmat(self.r_max_mat, k_array, self.halo_conc_vir, self.rsg_rs)\n",
    "        \n",
    "        dndm_mat = np.tile(self.dndm_array.reshape(self.nz, 1, self.nm), (1, nk, 1))\n",
    "        Ns_mat = np.tile(self.Ns_mat.reshape(self.nz, 1, self.nm), (1, nk, 1))\n",
    "        Nc_mat = np.tile(self.Nc_mat.reshape(self.nz, 1, self.nm), (1, nk, 1))\n",
    "        bM_mat = np.tile(self.bm_array.reshape(self.nz, 1, self.nm), (1, nk, 1))\n",
    "\n",
    "        M_mat_cond_inbin = np.logical_and(\n",
    "            self.M_mat >= ((10 ** logM_min)),\n",
    "            self.M_mat <= ((10 ** logM_max)))\n",
    "        toint_M_multfac = np.tile(M_mat_cond_inbin.reshape(self.nz, 1, self.nm), (1, nk, 1))\n",
    "        int_prob = np.ones(toint_M_multfac.shape)\n",
    "        int_prob = np.ones(self.Ntotal_mat.shape)\n",
    "        nbarc = hmf.get_nbar_z(self.M_array, self.dndm_array, int_prob, M_mat_cond_inbin)        \n",
    "        nbarc_mat = np.tile(nbarc.reshape(self.nz, 1), (1, nk))\n",
    "\n",
    "        nbarg = hmf.get_nbar_z(self.M_array, self.dndm_array, self.Ns_mat+self.Nc_mat, np.ones_like(M_mat_cond_inbin))        \n",
    "        nbarg_mat = np.tile(nbarg.reshape(self.nz, 1), (1, nk))\n",
    "        \n",
    "        val = (Ns_mat * ukzm_mat + Nc_mat) \n",
    "        tointc = dndm_mat * (np.ones(dndm_mat.shape)) * bM_mat * toint_M_multfac   \n",
    "        tointg = dndm_mat * (val) * bM_mat      \n",
    "\n",
    "        valc = sp.integrate.simps(tointc, self.M_array)\n",
    "        valg = sp.integrate.simps(tointg, self.M_array)\n",
    "\n",
    "        coeffc = (1./nbarc_mat)\n",
    "        coeffg = (1./nbarg_mat)\n",
    "        Pnl_kz = np.exp(self.pkznl_interp((self.z_array), np.log(k_array), grid=True))\n",
    "        Plin_kz = np.exp(self.pkzlin_interp((self.z_array), np.log(k_array), grid=True))\n",
    "        \n",
    "        return coeffc*coeffg * valc * valg * Pnl_kz, coeffc*coeffg * valc * valg * Plin_kz   \n",
    "    \n",
    "    "
   ]
  },
  {
   "cell_type": "code",
   "execution_count": 21,
   "metadata": {},
   "outputs": [
    {
     "name": "stdout",
     "output_type": "stream",
     "text": [
      "setting up hod\n",
      "setting up general hmf\n",
      "Note: redshifts have been re-sorted (earliest first)\n"
     ]
    }
   ],
   "source": [
    "PS = Powerspec2(cosmo_params_dict, hod_params_dict, pressure_params_dict, other_params_dict)\n",
    "\n",
    "\n"
   ]
  },
  {
   "cell_type": "code",
   "execution_count": 7,
   "metadata": {},
   "outputs": [],
   "source": [
    "k_array = np.logspace(-6,3,500)\n",
    "Pk1h = PS.get_Pkcm1h_zM(k_array)\n",
    "\n",
    "\n"
   ]
  },
  {
   "cell_type": "code",
   "execution_count": 22,
   "metadata": {},
   "outputs": [],
   "source": [
    "Pk2h_nl, Pk2h_lin, bc_kz = PS.get_Pkcm2h_zM(k_array)\n",
    "\n",
    "\n"
   ]
  },
  {
   "cell_type": "code",
   "execution_count": 9,
   "metadata": {},
   "outputs": [],
   "source": [
    "Pk1h_cg, nbarg_array = PS.get_Pkcg1h_zM(k_array)\n",
    "\n"
   ]
  },
  {
   "cell_type": "code",
   "execution_count": 10,
   "metadata": {},
   "outputs": [],
   "source": [
    "Pk2h_cg_nl, Pk2h_cg_lin = PS.get_Pkcg2h_zM(k_array)\n",
    "\n",
    "\n"
   ]
  },
  {
   "cell_type": "code",
   "execution_count": 23,
   "metadata": {},
   "outputs": [
    {
     "data": {
      "text/plain": [
       "array([[3.50547627, 3.50547627, 3.50547627, ..., 3.50547627, 3.50547627,\n",
       "        3.50547627],\n",
       "       [3.52315766, 3.52315766, 3.52315766, ..., 3.52315766, 3.52315766,\n",
       "        3.52315766],\n",
       "       [3.54120509, 3.54120509, 3.54120509, ..., 3.54120509, 3.54120509,\n",
       "        3.54120509],\n",
       "       ...,\n",
       "       [5.99592187, 5.99592187, 5.99592187, ..., 5.99592187, 5.99592187,\n",
       "        5.99592187],\n",
       "       [6.0299506 , 6.0299506 , 6.0299506 , ..., 6.0299506 , 6.0299506 ,\n",
       "        6.0299506 ],\n",
       "       [6.0641588 , 6.0641588 , 6.0641588 , ..., 6.0641588 , 6.0641588 ,\n",
       "        6.0641588 ]])"
      ]
     },
     "execution_count": 23,
     "metadata": {},
     "output_type": "execute_result"
    }
   ],
   "source": [
    "bc_kz\n"
   ]
  },
  {
   "cell_type": "code",
   "execution_count": 11,
   "metadata": {},
   "outputs": [
    {
     "name": "stderr",
     "output_type": "stream",
     "text": [
      "No handles with labels found to put in legend.\n"
     ]
    },
    {
     "data": {
      "image/png": "[encoded data removed]",
      "text/plain": [
       "<Figure size 504x432 with 1 Axes>"
      ]
     },
     "metadata": {
      "needs_background": "light"
     },
     "output_type": "display_data"
    }
   ],
   "source": [
    "fig, ax = pl.subplots(1,1, figsize = (7,6))\n",
    "indz = np.where(PS.z_array > 0.5)[0][0]\n",
    "ax.plot(k_array,Pk1h[indz,:], color='b',lw=2,ls='--')\n",
    "ax.plot(k_array,Pk2h_lin[indz,:], color='b',lw=2,ls=':')\n",
    "ax.plot(k_array,Pk2h_nl[indz,:], color='r',lw=2,ls=':')\n",
    "ax.plot(k_array,(Pk1h+Pk2h_lin)[indz,:], color='b',lw=2,ls='-')\n",
    "ax.plot(k_array,(Pk1h+Pk2h_nl)[indz,:], color='r',lw=2,ls='-')\n",
    "\n",
    "ax.set_xscale('log')\n",
    "ax.set_yscale('log')\n",
    "ax.set_xlabel(r'$k$', size = 18)\n",
    "ax.set_ylabel(r'$P(k)$', size = 20)\n",
    "ax.set_ylim(1e-2,1e5)\n",
    "# ax.set_xlim(0.0,1.0)\n",
    "ax.tick_params(axis='both', which='major', labelsize=15)\n",
    "ax.tick_params(axis='both', which='minor', labelsize=15)\n",
    "ax.legend(fontsize = 18, frameon = False)\n",
    "pl.tight_layout()\n",
    "\n",
    "\n"
   ]
  },
  {
   "cell_type": "code",
   "execution_count": 12,
   "metadata": {},
   "outputs": [
    {
     "name": "stderr",
     "output_type": "stream",
     "text": [
      "No handles with labels found to put in legend.\n"
     ]
    },
    {
     "data": {
      "image/png": "[encoded data removed]",
      "text/plain": [
       "<Figure size 504x432 with 1 Axes>"
      ]
     },
     "metadata": {
      "needs_background": "light"
     },
     "output_type": "display_data"
    }
   ],
   "source": [
    "fig, ax = pl.subplots(1,1, figsize = (7,6))\n",
    "indz = np.where(PS.z_array > 0.5)[0][0]\n",
    "# ax.plot(k_array,Pk1h_cg[indz,:], color='b',lw=2,ls='--')\n",
    "# ax.plot(k_array,Pk2h_lin[indz,:], color='b',lw=2,ls=':')\n",
    "# ax.plot(k_array,Pk2h_nl[indz,:], color='r',lw=2,ls=':')\n",
    "ax.plot(k_array,(Pk1h+Pk2h_lin)[indz,:], color='b',lw=2,ls='-')\n",
    "ax.plot(k_array,(Pk1h_cg+Pk2h_cg_lin)[indz,:] - Pk1h_cg[indz,-1], color='r',lw=2,ls='-')\n",
    "ax.plot(k_array,np.maximum(Pk1h_cg[indz,:] - Pk1h_cg[indz,-1],Pk2h_cg_nl[indz,:]), color='k',lw=2,ls='-')\n",
    "\n",
    "# ax.plot(k_array,(Pk1h+Pk2h_nl)[indz,:], color='r',lw=2,ls='-')\n",
    "\n",
    "ax.set_xscale('log')\n",
    "ax.set_yscale('log')\n",
    "ax.set_xlabel(r'$k$', size = 18)\n",
    "ax.set_ylabel(r'$P(k)$', size = 20)\n",
    "# ax.set_ylim(1e-2,1e6)\n",
    "# ax.set_ylim(95,96)\n",
    "# ax.set_xlim(10,1001)\n",
    "# ax.set_xlim(0.0,1.0)\n",
    "ax.tick_params(axis='both', which='major', labelsize=15)\n",
    "ax.tick_params(axis='both', which='minor', labelsize=15)\n",
    "ax.legend(fontsize = 18, frameon = False)\n",
    "pl.tight_layout()\n",
    "\n",
    "\n",
    "\n"
   ]
  },
  {
   "cell_type": "code",
   "execution_count": 13,
   "metadata": {},
   "outputs": [
    {
     "name": "stderr",
     "output_type": "stream",
     "text": [
      "No handles with labels found to put in legend.\n"
     ]
    },
    {
     "data": {
      "image/png": "[encoded data removed]",
      "text/plain": [
       "<Figure size 504x432 with 1 Axes>"
      ]
     },
     "metadata": {
      "needs_background": "light"
     },
     "output_type": "display_data"
    }
   ],
   "source": [
    "fig, ax = pl.subplots(1,1, figsize = (7,6))\n",
    "indz = np.where(PS.z_array > 0.5)[0][0]\n",
    "# ax.plot(k_array,Pk1h_cg[indz,:], color='b',lw=2,ls='--')\n",
    "# ax.plot(k_array,Pk2h_lin[indz,:], color='b',lw=2,ls=':')\n",
    "# ax.plot(k_array,Pk2h_nl[indz,:], color='r',lw=2,ls=':')\n",
    "ax.plot(k_array,((Pk1h_cg+Pk2h_cg_lin)[indz,:] - Pk1h_cg[indz,-1])/(Pk1h+Pk2h_lin)[indz,:], color='b',lw=2,ls='-')\n",
    "# ax.plot(k_array,(Pk1h_cg+Pk2h_cg_lin)[indz,:], color='r',lw=2,ls='-')\n",
    "# ax.plot(k_array,(Pk1h+Pk2h_nl)[indz,:], color='r',lw=2,ls='-')\n",
    "\n",
    "ax.set_xscale('log')\n",
    "# ax.set_yscale('log')\n",
    "ax.set_xlabel(r'$k$', size = 18)\n",
    "ax.set_ylabel(r'$P(k)$', size = 20)\n",
    "# ax.set_ylim(1.1,1.6)\n",
    "# ax.set_xlim(0.0,1.0)\n",
    "ax.tick_params(axis='both', which='major', labelsize=15)\n",
    "ax.tick_params(axis='both', which='minor', labelsize=15)\n",
    "ax.legend(fontsize = 18, frameon = False)\n",
    "pl.tight_layout()\n",
    "\n",
    "\n",
    "\n"
   ]
  },
  {
   "cell_type": "code",
   "execution_count": 14,
   "metadata": {},
   "outputs": [
    {
     "name": "stderr",
     "output_type": "stream",
     "text": [
      "/global/u1/s/spandey/self_module_ini/myenv3/lib/python3.7/site-packages/mcfit/mcfit.py:126: UserWarning: The default value of lowring has been changed to False, set it to True if you cannot reproduce previous results\n",
      "  warnings.warn(\"The default value of lowring has been changed to False, \"\n",
      "/global/u1/s/spandey/self_module_ini/myenv3/lib/python3.7/site-packages/mcfit/mcfit.py:217: UserWarning: The default value of extrap has been changed to False, set it to True if you cannot reproduce previous results\n",
      "  warnings.warn(\"The default value of extrap has been changed to False, \"\n"
     ]
    }
   ],
   "source": [
    "from mcfit import P2xi\n",
    "from mcfit import xi2P\n",
    "import scipy.interpolate as interpolate\n",
    "\n",
    "k_array_hres = np.logspace(-6,3,100000)\n",
    "# xi1h_mat = np.zeros((Pk1h.shape[0], len(k_array_hres)))\n",
    "# xi2h_lin_mat = np.zeros((Pk1h.shape[0], len(k_array_hres)))\n",
    "# xi2h_nl_mat = np.zeros((Pk1h.shape[0], len(k_array_hres)))\n",
    "# xitot_lin_mat = np.zeros((Pk1h.shape[0], len(k_array_hres)))\n",
    "xitot_lin_mat = np.zeros((Pk1h.shape[0], len(k_array)))\n",
    "\n",
    "for jz in range(len(PS.z_array)):\n",
    "#     Pk_intp = interpolate.interp1d(np.log(k_array), np.log(Pk1h[jz,:]), fill_value='extrapolate')\n",
    "#     Pk = np.exp(Pk_intp(np.log(k_array_hres)))\n",
    "#     r, xi = P2xi(k_array_hres)(Pk)\n",
    "#     xi1h_mat[jz,:] = xi\n",
    "#     Pk_intp = interpolate.interp1d(np.log(k_array), np.log(Pk2h_lin[jz,:]), fill_value='extrapolate')\n",
    "#     Pk = np.exp(Pk_intp(np.log(k_array_hres)))\n",
    "#     r, xi = P2xi(k_array_hres)(Pk)\n",
    "#     xi2h_lin_mat[jz,:] = xi\n",
    "#     Pk_intp = interpolate.interp1d(np.log(k_array), np.log(Pk2h_nl[jz,:]), fill_value='extrapolate')\n",
    "#     Pk = np.exp(Pk_intp(np.log(k_array_hres)))\n",
    "#     r, xi = P2xi(k_array_hres)(Pk)\n",
    "#     xi2h_nl_mat[jz,:] = xi\n",
    "\n",
    "#     Pk_intp = interpolate.interp1d(np.log(k_array), np.log(Pk1h[jz,:] + Pk2h_lin[jz,:]), fill_value='extrapolate')\n",
    "#     Pk = np.exp(Pk_intp(np.log(k_array_hres)))\n",
    "#     r, xi = P2xi(k_array_hres)(Pk)\n",
    "    r, xi = P2xi(k_array)(Pk1h[jz,:] + Pk2h_lin[jz,:])\n",
    "    xitot_lin_mat[jz,:] = xi\n",
    "    \n"
   ]
  },
  {
   "cell_type": "code",
   "execution_count": null,
   "metadata": {},
   "outputs": [],
   "source": [
    "\n"
   ]
  },
  {
   "cell_type": "code",
   "execution_count": 15,
   "metadata": {},
   "outputs": [],
   "source": [
    "from mcfit import P2xi\n",
    "from mcfit import xi2P\n",
    "import scipy.interpolate as interpolate\n",
    "\n",
    "k_array_hres = np.logspace(-4.8,np.log10(1000),100000)\n",
    "# xi1h_cg_mat = np.zeros((Pk1h_cg.shape[0], len(k_array_hres)))\n",
    "# xi2h_cg_lin_mat = np.zeros((Pk1h_cg.shape[0], len(k_array_hres)))\n",
    "# xi2h_cg_nl_mat = np.zeros((Pk1h_cg.shape[0], len(k_array_hres)))\n",
    "# xitot_cg_lin_mat = np.zeros((Pk1h_cg.shape[0], len(k_array_hres)))\n",
    "xitot_cg_lin_mat = np.zeros((Pk1h_cg.shape[0], len(k_array)))\n",
    "\n",
    "for jz in range(len(PS.z_array)):\n",
    "#     print(jz)\n",
    "#     Pk_intp = interpolate.interp1d(np.log(k_array), np.log(Pk1h_cg[jz,:] - Pk1h_cg[jz,-1]), fill_value='extrapolate')\n",
    "#     Pk = np.exp(Pk_intp(np.log(k_array_hres)))\n",
    "#     r, xi = P2xi(k_array_hres)(Pk)\n",
    "#     xi1h_cg_mat[jz,:] = xi\n",
    "#     Pk_intp = interpolate.interp1d(np.log(k_array), np.log(Pk2h_cg_lin[jz,:]), fill_value='extrapolate')\n",
    "#     Pk = np.exp(Pk_intp(np.log(k_array_hres)))\n",
    "#     r, xi = P2xi(k_array_hres)(Pk)\n",
    "#     xi2h_cg_lin_mat[jz,:] = xi\n",
    "#     Pk_intp = interpolate.interp1d(np.log(k_array), np.log(Pk2h_cg_nl[jz,:]), fill_value='extrapolate')\n",
    "#     Pk = np.exp(Pk_intp(np.log(k_array_hres)))\n",
    "#     r, xi = P2xi(k_array_hres)(Pk)\n",
    "#     xi2h_cg_nl_mat[jz,:] = xi\n",
    "\n",
    "#     Pk_intp = interpolate.interp1d(np.log(k_array), np.log(Pk1h_cg[jz,:] + Pk2h_cg_lin[jz,:]), fill_value='extrapolate')\n",
    "#     Pk = np.exp(Pk_intp(np.log(k_array_hres)))\n",
    "#     r, xi = P2xi(k_array_hres)(Pk)\n",
    "    r, xi = P2xi(k_array)(Pk1h_cg[jz,:] + Pk2h_cg_lin[jz,:] - Pk1h_cg[jz,-1])\n",
    "    xitot_cg_lin_mat[jz,:] = xi    \n",
    "\n",
    "    "
   ]
  },
  {
   "cell_type": "code",
   "execution_count": 16,
   "metadata": {},
   "outputs": [],
   "source": [
    "from mcfit import P2xi\n",
    "from mcfit import xi2P\n",
    "import scipy.interpolate as interpolate\n",
    "\n",
    "k_array_hres = np.logspace(-4.8,np.log10(1000),100000)\n",
    "alpha = 0.7\n",
    "xitot_cg_lin_mat_smooth = np.zeros((Pk1h_cg.shape[0], len(k_array)))\n",
    "\n",
    "for jz in range(len(PS.z_array)):\n",
    "\n",
    "    r, xi = P2xi(k_array)( ((Pk1h_cg[jz,:] - Pk1h_cg[jz,-1])**(alpha) + (Pk2h_cg_lin[jz,:])**(alpha))**(1/alpha) )\n",
    "    xitot_cg_lin_mat_smooth[jz,:] = xi    \n",
    "\n",
    "    "
   ]
  },
  {
   "cell_type": "code",
   "execution_count": 17,
   "metadata": {},
   "outputs": [],
   "source": [
    "from mcfit import P2xi\n",
    "from mcfit import xi2P\n",
    "import scipy.interpolate as interpolate\n",
    "\n",
    "k_array_hres = np.logspace(-4.8,np.log10(1000),100000)\n",
    "alpha = 0.5\n",
    "xitot_cg_lin_mat_smooth2 = np.zeros((Pk1h_cg.shape[0], len(k_array)))\n",
    "\n",
    "for jz in range(len(PS.z_array)):\n",
    "\n",
    "    r, xi = P2xi(k_array)( ((Pk1h_cg[jz,:] - Pk1h_cg[jz,-1])**(alpha) + (Pk2h_cg_lin[jz,:])**(alpha))**(1/alpha) )\n",
    "    xitot_cg_lin_mat_smooth2[jz,:] = xi    \n",
    "\n",
    "    "
   ]
  },
  {
   "cell_type": "code",
   "execution_count": 18,
   "metadata": {},
   "outputs": [],
   "source": [
    "from mcfit import P2xi\n",
    "from mcfit import xi2P\n",
    "import scipy.interpolate as interpolate\n",
    "\n",
    "k_array_hres = np.logspace(-4.8,np.log10(1000),100000)\n",
    "alpha = 0.5\n",
    "xitot_cg_lin_mat_maxfp = np.zeros((Pk1h_cg.shape[0], len(k_array)))\n",
    "\n",
    "for jz in range(len(PS.z_array)):\n",
    "    Pk_tot = np.maximum(Pk1h_cg[jz,:] - Pk1h_cg[jz,-1],Pk2h_cg_nl[jz,:])\n",
    "    r, xi = P2xi(k_array)(Pk_tot)\n",
    "    xitot_cg_lin_mat_maxfp[jz,:] = xi    \n",
    "\n",
    "    "
   ]
  },
  {
   "cell_type": "code",
   "execution_count": 19,
   "metadata": {},
   "outputs": [
    {
     "data": {
      "image/png": "[encoded data removed]",
      "text/plain": [
       "<Figure size 504x432 with 1 Axes>"
      ]
     },
     "metadata": {
      "needs_background": "light"
     },
     "output_type": "display_data"
    }
   ],
   "source": [
    "fig, ax = pl.subplots(1,1, figsize = (7,6))\n",
    "indz = np.where(PS.z_array > 0.1)[0][0]\n",
    "# ax.plot(r,xi1h_mat[indz,:], color='b',lw=2,ls='--')\n",
    "# ax.plot(r,xi2h_lin_mat[indz,:], color='b',lw=2,ls=':')\n",
    "# ax.plot(r,xi2h_nl_mat[indz,:], color='r',lw=2,ls=':')\n",
    "# ax.plot(r,(xi1h_mat+xi2h_lin_mat)[indz,:], color='b',lw=2,ls='-')\n",
    "ax.plot(r,(xitot_lin_mat)[indz,:], color='r',lw=2,ls='-',label=r'$\\xi_{cm}$')\n",
    "ax.plot(r,(xitot_cg_lin_mat)[indz,:], color='b',lw=2,ls='-',label=r'$\\xi_{cg}$')\n",
    "\n",
    "ax.set_xscale('log')\n",
    "ax.set_yscale('log')\n",
    "ax.set_xlabel(r'$r$', size = 18)\n",
    "ax.set_ylabel(r'$\\xi$', size = 20)\n",
    "ax.set_ylim(1e-3,1e6)\n",
    "ax.set_xlim(0.1,100)\n",
    "ax.tick_params(axis='both', which='major', labelsize=15)\n",
    "ax.tick_params(axis='both', which='minor', labelsize=15)\n",
    "ax.legend(fontsize = 18, frameon = False)\n",
    "pl.tight_layout()\n",
    "\n",
    "\n",
    "\n"
   ]
  },
  {
   "cell_type": "code",
   "execution_count": 204,
   "metadata": {},
   "outputs": [
    {
     "data": {
      "image/png": "[encoded data removed]",
      "text/plain": [
       "<Figure size 504x432 with 1 Axes>"
      ]
     },
     "metadata": {
      "needs_background": "light"
     },
     "output_type": "display_data"
    }
   ],
   "source": [
    "fig, ax = pl.subplots(1,1, figsize = (7,6))\n",
    "indz = np.where(PS.z_array > 0.5)[0][0]\n",
    "\n",
    "ax.plot(r,(xitot_cg_lin_mat)[indz,:], color='b',lw=2,ls='-',label=r'$\\alpha=1$')\n",
    "ax.plot(r,(xitot_cg_lin_mat_smooth)[indz,:], color='r',lw=2,ls='-',label=r'$\\alpha=0.7$')\n",
    "ax.plot(r,(xitot_cg_lin_mat_smooth2)[indz,:], color='k',lw=2,ls='-',label=r'$\\alpha=0.5$')\n",
    "ax.set_xscale('log')\n",
    "ax.set_yscale('log')\n",
    "ax.set_xlabel(r'$r$', size = 18)\n",
    "ax.set_ylabel(r'$\\xi_{\\rm cg}$', size = 20)\n",
    "ax.set_ylim(1e-2,1e5)\n",
    "ax.set_xlim(0.1,100)\n",
    "ax.tick_params(axis='both', which='major', labelsize=15)\n",
    "ax.tick_params(axis='both', which='minor', labelsize=15)\n",
    "ax.legend(fontsize = 18, frameon = False)\n",
    "pl.tight_layout()\n",
    "\n"
   ]
  },
  {
   "cell_type": "code",
   "execution_count": 210,
   "metadata": {},
   "outputs": [
    {
     "data": {
      "image/png": "[encoded data removed]",
      "text/plain": [
       "<Figure size 504x432 with 1 Axes>"
      ]
     },
     "metadata": {
      "needs_background": "light"
     },
     "output_type": "display_data"
    }
   ],
   "source": [
    "fig, ax = pl.subplots(1,1, figsize = (7,6))\n",
    "indz = np.where(PS.z_array > 0.5)[0][0]\n",
    "\n",
    "ax.plot(r,(xitot_cg_lin_mat)[indz,:], color='b',lw=2,ls='-',label=r'$\\alpha=1$')\n",
    "ax.plot(r,(xitot_cg_lin_mat_maxfp)[indz,:], color='k',lw=2,ls='-',label=r'$\\alpha=0.5$')\n",
    "ax.set_xscale('log')\n",
    "ax.set_yscale('log')\n",
    "ax.set_xlabel(r'$r$', size = 18)\n",
    "ax.set_ylabel(r'$\\xi_{\\rm cg}$', size = 20)\n",
    "ax.set_ylim(1e-2,1e5)\n",
    "ax.set_xlim(0.1,100)\n",
    "ax.tick_params(axis='both', which='major', labelsize=15)\n",
    "ax.tick_params(axis='both', which='minor', labelsize=15)\n",
    "ax.legend(fontsize = 18, frameon = False)\n",
    "pl.tight_layout()\n",
    "\n"
   ]
  },
  {
   "cell_type": "code",
   "execution_count": 33,
   "metadata": {},
   "outputs": [
    {
     "data": {
      "image/png": "[encoded data removed]",
      "text/plain": [
       "<Figure size 504x432 with 1 Axes>"
      ]
     },
     "metadata": {
      "needs_background": "light"
     },
     "output_type": "display_data"
    }
   ],
   "source": [
    "fig, ax = pl.subplots(1,1, figsize = (7,6))\n",
    "indz = np.where(PS.z_array > 0.5)[0][0]\n",
    "# ax.plot(r,xi1h_mat[indz,:], color='b',lw=2,ls='--')\n",
    "# ax.plot(r,xi2h_lin_mat[indz,:], color='b',lw=2,ls=':')\n",
    "# ax.plot(r,xi2h_nl_mat[indz,:], color='r',lw=2,ls=':')\n",
    "ax.plot(r,(xitot_lin_mat)[indz,:], color='b',lw=2,ls='-',label=r'$\\xi_{cm}$')\n",
    "ax.plot(r,(xitot_cg_lin_mat)[indz,:], color='r',lw=2,ls='-',label=r'$\\xi_{cg}$')\n",
    "# ax.plot(k_array,(Pk1h+Pk2h_nl)[indz,:], color='r',lw=2,ls='-')\n",
    "\n",
    "ax.set_xscale('log')\n",
    "ax.set_yscale('log')\n",
    "ax.set_xlabel(r'$r$', size = 18)\n",
    "ax.set_ylabel(r'$\\xi$', size = 20)\n",
    "ax.set_ylim(6e-2,1e5)\n",
    "ax.set_xlim(0.1,50)\n",
    "ax.tick_params(axis='both', which='major', labelsize=15)\n",
    "ax.tick_params(axis='both', which='minor', labelsize=15)\n",
    "ax.legend(fontsize = 18, frameon = False)\n",
    "pl.tight_layout()\n",
    "\n",
    "\n",
    "\n"
   ]
  },
  {
   "cell_type": "code",
   "execution_count": 380,
   "metadata": {},
   "outputs": [
    {
     "name": "stderr",
     "output_type": "stream",
     "text": [
      "No handles with labels found to put in legend.\n"
     ]
    },
    {
     "data": {
      "image/png": "[encoded data removed]",
      "text/plain": [
       "<Figure size 504x432 with 1 Axes>"
      ]
     },
     "metadata": {
      "needs_background": "light"
     },
     "output_type": "display_data"
    }
   ],
   "source": [
    "fig, ax = pl.subplots(1,1, figsize = (7,6))\n",
    "indz = np.where(PS.z_array > 0.5)[0][0]\n",
    "# ax.plot(r,xi1h_mat[indz,:], color='b',lw=2,ls='--')\n",
    "# ax.plot(r,xi2h_lin_mat[indz,:], color='b',lw=2,ls=':')\n",
    "# ax.plot(r,xi2h_nl_mat[indz,:], color='r',lw=2,ls=':')\n",
    "ax.plot(r,((xitot_cg_lin_mat)[indz,:])/(xitot_lin_mat)[indz,:], color='b',lw=2,ls='-')\n",
    "# ax.plot(r,, color='r',lw=2,ls='-')\n",
    "# ax.plot(k_array,(Pk1h+Pk2h_nl)[indz,:], color='r',lw=2,ls='-')\n",
    "\n",
    "ax.set_xscale('log')\n",
    "# ax.set_yscale('log')\n",
    "ax.set_xlabel(r'$r$', size = 18)\n",
    "ax.set_ylabel(r'$\\xi_{cg}/\\xi_{cm}$', size = 20)\n",
    "# ax.set_ylim(1e-3,1e6)\n",
    "ax.set_ylim(1.2,7.2)\n",
    "ax.set_xlim(0.1,90)\n",
    "ax.tick_params(axis='both', which='major', labelsize=15)\n",
    "ax.tick_params(axis='both', which='minor', labelsize=15)\n",
    "ax.legend(fontsize = 18, frameon = False)\n",
    "pl.tight_layout()\n",
    "\n",
    "\n",
    "\n"
   ]
  },
  {
   "cell_type": "code",
   "execution_count": 319,
   "metadata": {},
   "outputs": [
    {
     "data": {
      "text/plain": [
       "0.08520374456380249"
      ]
     },
     "execution_count": 319,
     "metadata": {},
     "output_type": "execute_result"
    }
   ],
   "source": [
    "PS.rho_m_bar/1e12\n"
   ]
  },
  {
   "cell_type": "code",
   "execution_count": 320,
   "metadata": {},
   "outputs": [],
   "source": [
    "from mcfit import P2xi\n",
    "from mcfit import xi2P\n",
    "import scipy.interpolate as interpolate\n",
    "from mcfit import Hankel\n",
    "k_array_hres = np.logspace(-4.8,np.log10(1000),100000)\n",
    "\n",
    "wprp_tot_mat = np.zeros((Pk1h.shape[0], len(k_array) - 1))\n",
    "Deltawprp_tot_mat = np.zeros((Pk1h.shape[0], len(k_array) - 1))\n",
    "units = PS.rho_m_bar\n",
    "\n",
    "for jz in range(len(PS.z_array)):\n",
    "    rp_out, wprp_out = Hankel(k_array, nu=0, q=1.0)(Pk1h[jz,:] + Pk2h_lin[jz,:], extrap=True)\n",
    "    wprp_out *= (1 / (2 * np.pi))\n",
    "    drp_out = rp_out[1:] - rp_out[:-1]\n",
    "    rp_cen = 0.5*(rp_out[1:] + rp_out[:-1])\n",
    "    \n",
    "    wprp_cen = 0.5*(wprp_out[1:] + wprp_out[:-1])*(PS.rho_m_bar/1e12)\n",
    "    wprp_tot_mat[jz,:] = wprp_cen\n",
    "    \n",
    "    wprp_ltr = (2./(rp_cen**2))*np.cumsum(drp_out * rp_cen * wprp_cen)\n",
    "    Deltawprp_tot_mat[jz,:] = wprp_ltr - wprp_cen\n",
    "\n",
    "    "
   ]
  },
  {
   "cell_type": "code",
   "execution_count": 321,
   "metadata": {},
   "outputs": [
    {
     "data": {
      "text/plain": [
       "0.01"
      ]
     },
     "execution_count": 321,
     "metadata": {},
     "output_type": "execute_result"
    }
   ],
   "source": [
    "1e4/(1e6)\n",
    "\n",
    "\n"
   ]
  },
  {
   "cell_type": "code",
   "execution_count": 294,
   "metadata": {},
   "outputs": [],
   "source": [
    "from mcfit import P2xi\n",
    "from mcfit import xi2P\n",
    "import scipy.interpolate as interpolate\n",
    "from mcfit import Hankel\n",
    "k_array_hres = np.logspace(-4.8,np.log10(1000),100000)\n",
    "\n",
    "# wprp_tot_mat = np.zeros((Pk1h.shape[0], len(k_array) - 1))\n",
    "Sigmag_tot_mat = np.zeros((Pk1h.shape[0], len(k_array) - 1))\n",
    "# units = PS.rho_m_bar\n",
    "\n",
    "for jz in range(len(PS.z_array)):\n",
    "    rp_out, wprp_out = Hankel(k_array, nu=0, q=1.0)(Pk1h_cg[jz,:] + Pk2h_cg_lin[jz,:] - Pk1h_cg[jz,-1], extrap=True)\n",
    "    wprp_out *= (1 / (2 * np.pi))\n",
    "    drp_out = rp_out[1:] - rp_out[:-1]\n",
    "    rp_cen = 0.5*(rp_out[1:] + rp_out[:-1])\n",
    "    \n",
    "    wprp_cen = 0.5*(wprp_out[1:] + wprp_out[:-1])\n",
    "    Sigmag_tot_mat[jz,:] = wprp_cen * nbarg_array[jz]\n",
    "    \n",
    "    \n",
    "    "
   ]
  },
  {
   "cell_type": "code",
   "execution_count": 295,
   "metadata": {},
   "outputs": [],
   "source": [
    "from mcfit import P2xi\n",
    "from mcfit import xi2P\n",
    "import scipy.interpolate as interpolate\n",
    "from mcfit import Hankel\n",
    "k_array_hres = np.logspace(-4.8,np.log10(1000),100000)\n",
    "alpha1=0.7\n",
    "alpha2 = 0.5\n",
    "Sigmag_tot_mat_smooth1 = np.zeros((Pk1h.shape[0], len(k_array) - 1))\n",
    "Sigmag_tot_mat_smooth2 = np.zeros((Pk1h.shape[0], len(k_array) - 1))\n",
    "\n",
    "for jz in range(len(PS.z_array)):\n",
    "    rp_out, wprp_out = Hankel(k_array, nu=0, q=1.0)( ((Pk1h_cg[jz,:] - Pk1h_cg[jz,-1])**(alpha1) + (Pk2h_cg_lin[jz,:])**(alpha1))**(1/alpha1) , extrap=True)\n",
    "    wprp_out *= (1 / (2 * np.pi))\n",
    "    drp_out = rp_out[1:] - rp_out[:-1]\n",
    "    rp_cen = 0.5*(rp_out[1:] + rp_out[:-1])\n",
    "    \n",
    "    wprp_cen = 0.5*(wprp_out[1:] + wprp_out[:-1])\n",
    "    Sigmag_tot_mat_smooth1[jz,:] = wprp_cen * nbarg_array[jz]\n",
    "    \n",
    "    rp_out, wprp_out = Hankel(k_array, nu=0, q=1.0)( ((Pk1h_cg[jz,:] - Pk1h_cg[jz,-1])**(alpha2) + (Pk2h_cg_lin[jz,:])**(alpha2))**(1/alpha2) , extrap=True)\n",
    "    wprp_out *= (1 / (2 * np.pi))\n",
    "    drp_out = rp_out[1:] - rp_out[:-1]\n",
    "    rp_cen = 0.5*(rp_out[1:] + rp_out[:-1])\n",
    "    \n",
    "    wprp_cen = 0.5*(wprp_out[1:] + wprp_out[:-1])\n",
    "    Sigmag_tot_mat_smooth2[jz,:] = wprp_cen * nbarg_array[jz]   \n",
    "    \n",
    "    \n",
    "    "
   ]
  },
  {
   "cell_type": "code",
   "execution_count": 296,
   "metadata": {},
   "outputs": [],
   "source": [
    "from mcfit import P2xi\n",
    "from mcfit import xi2P\n",
    "import scipy.interpolate as interpolate\n",
    "from mcfit import Hankel\n",
    "k_array_hres = np.logspace(-4.8,np.log10(1000),100000)\n",
    "\n",
    "# wprp_tot_mat = np.zeros((Pk1h.shape[0], len(k_array) - 1))\n",
    "Sigmag_tot_mat_1h = np.zeros((Pk1h.shape[0], len(k_array) - 1))\n",
    "Sigmag_tot_mat_2h = np.zeros((Pk1h.shape[0], len(k_array) - 1))\n",
    "# units = PS.rho_m_bar\n",
    "\n",
    "for jz in range(len(PS.z_array)):\n",
    "    rp_out, wprp_out = Hankel(k_array, nu=0, q=1.0)(Pk1h_cg[jz,:] - Pk1h_cg[jz,-1], extrap=True)\n",
    "    wprp_out *= (1 / (2 * np.pi))\n",
    "    drp_out = rp_out[1:] - rp_out[:-1]\n",
    "    rp_cen = 0.5*(rp_out[1:] + rp_out[:-1])\n",
    "    \n",
    "    wprp_cen = 0.5*(wprp_out[1:] + wprp_out[:-1])\n",
    "    Sigmag_tot_mat_1h[jz,:] = wprp_cen* nbarg_array[jz]  \n",
    "\n",
    "    rp_out, wprp_out = Hankel(k_array, nu=0, q=1.0)(Pk2h_cg_nl[jz,:] , extrap=True)\n",
    "    wprp_out *= (1 / (2 * np.pi))\n",
    "    drp_out = rp_out[1:] - rp_out[:-1]\n",
    "    rp_cen = 0.5*(rp_out[1:] + rp_out[:-1])\n",
    "    \n",
    "    wprp_cen = 0.5*(wprp_out[1:] + wprp_out[:-1])\n",
    "    Sigmag_tot_mat_2h[jz,:] = wprp_cen    * nbarg_array[jz]  \n",
    "    \n",
    "    "
   ]
  },
  {
   "cell_type": "code",
   "execution_count": 151,
   "metadata": {},
   "outputs": [
    {
     "name": "stderr",
     "output_type": "stream",
     "text": [
      "No handles with labels found to put in legend.\n"
     ]
    },
    {
     "data": {
      "image/png": "[encoded data removed]",
      "text/plain": [
       "<Figure size 504x432 with 1 Axes>"
      ]
     },
     "metadata": {
      "needs_background": "light"
     },
     "output_type": "display_data"
    }
   ],
   "source": [
    "dfc = np.load('advact_SNRgt4_z0.15-0.7_redshifts.npz')\n",
    "# list(dfc.keys())\n",
    "bin_min = 0.0\n",
    "bin_max = 1.0\n",
    "nbins_hist = 30\n",
    "delta_bin = (bin_max - bin_min) / nbins_hist\n",
    "bin_centers_all = np.linspace(bin_min, bin_max, nbins_hist)\n",
    "bin_edges = (bin_centers_all[1:] + bin_centers_all[:-1])/2.\n",
    "bin_centers = bin_centers_all[1:-1]\n",
    "\n",
    "nz_hist, z_edges = np.histogram(dfc['z'], bins=bin_edges)\n",
    "\n",
    "fig, ax = pl.subplots(1,1, figsize = (7,6))\n",
    "\n",
    "ax.plot(bin_centers,nz_hist, color='b',lw=2,ls='-')\n",
    "# ax.set_xscale('log')\n",
    "# ax.set_yscale('log')\n",
    "ax.set_xlabel(r'$z$', size = 18)\n",
    "ax.set_ylabel(r'$n(z)$', size = 20)\n",
    "# ax.set_ylim(1e-3,1e6)\n",
    "# ax.set_ylim(1.2,1.8)\n",
    "# ax.set_xlim(0.01,100)\n",
    "ax.tick_params(axis='both', which='major', labelsize=15)\n",
    "ax.tick_params(axis='both', which='minor', labelsize=15)\n",
    "ax.legend(fontsize = 18, frameon = False)\n",
    "pl.tight_layout()\n",
    "\n",
    "\n"
   ]
  },
  {
   "cell_type": "code",
   "execution_count": 322,
   "metadata": {},
   "outputs": [],
   "source": [
    "nz_interp = interpolate.interp1d(bin_centers,nz_hist)\n",
    "nz_array = nz_interp(PS.z_array)\n",
    "nz_mat = np.tile(nz_array.reshape(len(PS.z_array),1),(1,len(k_array) - 1))\n",
    "\n",
    "DeltaSigma_cm_tot_norm = sp.integrate.simps((nz_mat*Deltawprp_tot_mat).T,PS.z_array )/sp.integrate.simps((nz_mat).T,PS.z_array)\n",
    "\n",
    "# \n",
    "\n",
    "\n"
   ]
  },
  {
   "cell_type": "code",
   "execution_count": 298,
   "metadata": {},
   "outputs": [],
   "source": [
    "Sigma_cg_tot_norm = sp.integrate.simps((nz_mat*Sigmag_tot_mat).T,PS.z_array )/sp.integrate.simps((nz_mat).T,PS.z_array)\n",
    "\n",
    "Sigma_cg_tot_norm_smooth1 = sp.integrate.simps((nz_mat*Sigmag_tot_mat_smooth1).T,PS.z_array )/sp.integrate.simps((nz_mat).T,PS.z_array)\n",
    "\n",
    "Sigma_cg_tot_norm_smooth2 = sp.integrate.simps((nz_mat*Sigmag_tot_mat_smooth2).T,PS.z_array )/sp.integrate.simps((nz_mat).T,PS.z_array)\n",
    "\n",
    "\n"
   ]
  },
  {
   "cell_type": "code",
   "execution_count": 299,
   "metadata": {},
   "outputs": [],
   "source": [
    "Sigma_cg_tot_norm_1h = sp.integrate.simps((nz_mat*Sigmag_tot_mat_1h).T,PS.z_array )/sp.integrate.simps((nz_mat).T,PS.z_array)\n",
    "\n",
    "Sigma_cg_tot_norm_2h = sp.integrate.simps((nz_mat*Sigmag_tot_mat_2h).T,PS.z_array )/sp.integrate.simps((nz_mat).T,PS.z_array)\n",
    "\n",
    "Sigma_cg_tot_maxr = np.maximum(Sigmag_tot_mat_2h,Sigmag_tot_mat_1h)\n",
    "Sigma_cg_tot_norm_tot_maxr = sp.integrate.simps((nz_mat*Sigma_cg_tot_maxr).T,PS.z_array )/sp.integrate.simps((nz_mat).T,PS.z_array)\n",
    "\n"
   ]
  },
  {
   "cell_type": "code",
   "execution_count": 153,
   "metadata": {},
   "outputs": [
    {
     "data": {
      "text/plain": [
       "['boost', 'cov']"
      ]
     },
     "execution_count": 153,
     "metadata": {},
     "output_type": "execute_result"
    }
   ],
   "source": [
    "df1 = np.load('/global/cfs/cdirs/des/shivamp/nl_cosmosis/cosmosis/ACTxDESY3/src/plotting/dsigma_advact_SNRgt4_z0.15-0.70_NR18_0.2-60.0_bpz.npz')  \n",
    "df2 = np.load('/global/cfs/cdirs/des/shivamp/nl_cosmosis/cosmosis/ACTxDESY3/src/plotting/boost_advact_SNRgt4_z0.15-0.70_NR18_0.2-60.0_bpz.npz')\n",
    "\n",
    "list(df2.keys())\n",
    "\n"
   ]
  },
  {
   "cell_type": "code",
   "execution_count": 154,
   "metadata": {},
   "outputs": [],
   "source": [
    "# list(df2.keys())\n",
    "# df1['dsigma'].shape, df1['boost'].shape, df2['boost'].shape\n",
    "\n",
    "dsig_data = df1['dsigma']*df2['boost']\n",
    "rp_data = np.logspace(np.log10(0.2),np.log10(60),18)\n",
    "sig_data = np.sqrt(np.diag(df1['cov'] + df2['cov']))\n",
    "\n"
   ]
  },
  {
   "cell_type": "code",
   "execution_count": 219,
   "metadata": {},
   "outputs": [
    {
     "data": {
      "text/plain": [
       "(20, 4)"
      ]
     },
     "execution_count": 219,
     "metadata": {},
     "output_type": "execute_result"
    }
   ],
   "source": [
    "df2 = np.loadtxt('NHOD_0.60_1.200_-13.70_0.90_1.20_0.00_0.00_1.00_1.00_10.00_0.83_-5.52_0.40_0.00_67.3_0.template_param.ave.delsig_cm.del8g.txt')\n",
    "\n",
    "df2.shape\n"
   ]
  },
  {
   "cell_type": "code",
   "execution_count": 384,
   "metadata": {},
   "outputs": [
    {
     "data": {
      "image/png": "[encoded data removed]",
      "text/plain": [
       "<Figure size 504x432 with 1 Axes>"
      ]
     },
     "metadata": {
      "needs_background": "light"
     },
     "output_type": "display_data"
    }
   ],
   "source": [
    "fig, ax = pl.subplots(1,1, figsize = (7,6))\n",
    "# indz = np.where(PS.z_array > 0.7)[0][0]\n",
    "# ax.plot(rp_cen,(wprp_tot_mat)[indz,:], color='r',lw=2,ls='-')\n",
    "ax.plot(rp_cen,(DeltaSigma_cm_tot_norm), color='r',lw=2,ls='-',label='Theory')\n",
    "ax.errorbar(rp_data,dsig_data, sig_data,color='b',lw=2,ls='',marker='o',ms=3.0,label='Data')\n",
    "# ax.plot(0.5*(df2[:,0] + df2[:,1]),1.5*df2[:,3], color='k',lw=2,ls='-')\n",
    "ax.set_xscale('log')\n",
    "ax.set_yscale('log')\n",
    "ax.set_xlabel(r'$r_p$ (Mpc/h)', size = 18)\n",
    "ax.set_ylabel(r'$\\Delta \\Sigma$', size = 20)\n",
    "ax.set_ylim(1e-1,1e3)\n",
    "ax.set_xlim(0.1,80)\n",
    "ax.tick_params(axis='both', which='major', labelsize=15)\n",
    "ax.tick_params(axis='both', which='minor', labelsize=15)\n",
    "ax.legend(fontsize = 18, frameon = False)\n",
    "pl.tight_layout()\n",
    "\n",
    "\n",
    "\n"
   ]
  },
  {
   "cell_type": "code",
   "execution_count": 399,
   "metadata": {},
   "outputs": [
    {
     "data": {
      "image/png": "[encoded data removed]",
      "text/plain": [
       "<Figure size 504x432 with 1 Axes>"
      ]
     },
     "metadata": {
      "needs_background": "light"
     },
     "output_type": "display_data"
    }
   ],
   "source": [
    "fig, ax = pl.subplots(1,1, figsize = (7,6))\n",
    "indz = np.where(PS.z_array > 0.1)[0][0]\n",
    "ax.plot(r,(xitot_lin_mat)[indz,:], color='r',lw=2,ls='-',label=r'$z=0.1$')\n",
    "indz = np.where(PS.z_array > 0.5)[0][0]\n",
    "ax.plot(r,(xitot_lin_mat)[indz,:], color='b',lw=2,ls='-',label=r'$z=0.5$')\n",
    "indz = np.where(PS.z_array > 0.79)[0][0]\n",
    "ax.plot(r,(xitot_lin_mat)[indz,:], color='k',lw=2,ls='-',label=r'$z=0.8$')\n",
    "\n",
    "ax.set_xscale('log')\n",
    "ax.set_yscale('log')\n",
    "ax.set_xlabel(r'$r$ (Mpc/h)', size = 18)\n",
    "ax.set_ylabel(r'$\\xi^{\\rm 3D}_{\\rm cm}$', size = 20)\n",
    "ax.set_ylim(1e-2,4e4)\n",
    "ax.set_xlim(0.1,70)\n",
    "ax.tick_params(axis='both', which='major', labelsize=15)\n",
    "ax.tick_params(axis='both', which='minor', labelsize=15)\n",
    "ax.legend(fontsize = 18, frameon = False)\n",
    "pl.tight_layout()\n",
    "\n",
    "\n",
    "\n"
   ]
  },
  {
   "cell_type": "code",
   "execution_count": 183,
   "metadata": {},
   "outputs": [
    {
     "data": {
      "text/plain": [
       "['cov_Xi', 'Xi', 'Sigma', 'cov']"
      ]
     },
     "execution_count": 183,
     "metadata": {},
     "output_type": "execute_result"
    }
   ],
   "source": [
    "df1 = np.load('Sig_advact_all_SNRgt4.0_nR25_0.14-85.71_z0.15-0.70_maglim22.5.npz')\n",
    "rp_data2 = np.logspace(np.log10(0.1),np.log10(60),25)\n",
    "list(df1.keys())\n",
    "# sig_cg_data = df1['Sigma']\n",
    "# xi_cg_data = df1['Xi']\n"
   ]
  },
  {
   "cell_type": "code",
   "execution_count": 182,
   "metadata": {},
   "outputs": [
    {
     "data": {
      "text/plain": [
       "KeysView(<numpy.lib.npyio.NpzFile object at 0x2aaae35da510>)"
      ]
     },
     "execution_count": 182,
     "metadata": {},
     "output_type": "execute_result"
    }
   ],
   "source": [
    "df1.keys()\n"
   ]
  },
  {
   "cell_type": "code",
   "execution_count": 279,
   "metadata": {},
   "outputs": [
    {
     "data": {
      "image/png": "[encoded data removed]",
      "text/plain": [
       "<Figure size 504x432 with 1 Axes>"
      ]
     },
     "metadata": {
      "needs_background": "light"
     },
     "output_type": "display_data"
    }
   ],
   "source": [
    "fig, ax = pl.subplots(1,1, figsize = (7,6))\n",
    "# indz = np.where(PS.z_array > 0.7)[0][0]\n",
    "# ax.plot(rp_cen,(wprp_tot_mat)[indz,:], color='r',lw=2,ls='-')\n",
    "ax.plot(rp_cen,(Sigma_cg_tot_norm), color='b',lw=2,ls='-',label=r'$\\alpha=1$')\n",
    "ax.plot(rp_cen,(Sigma_cg_tot_norm_smooth1), color='r',lw=2,ls='-',label=r'$\\alpha=0.7$')\n",
    "ax.plot(rp_cen,(Sigma_cg_tot_norm_smooth2), color='k',lw=2,ls='-',label=r'$\\alpha=0.5$')\n",
    "# ax.errorbar(rp_data2,xi_cg_data,color='b',lw=2,ls='',marker='o',ms=3.0)\n",
    "ax.errorbar(rp_data2,sig_cg_data, np.sqrt(np.diag(df1['cov'])),color='k',lw=2,ls='',marker='o',ms=3.0)\n",
    "\n",
    "\n",
    "ax.set_xscale('log')\n",
    "ax.set_yscale('log')\n",
    "ax.set_xlabel(r'$r_p$ (Mpc/h)', size = 18)\n",
    "ax.set_ylabel(r'$\\Sigma_g$', size = 20)\n",
    "ax.set_ylim(1e-2,2e2)\n",
    "ax.set_xlim(0.1,80)\n",
    "ax.tick_params(axis='both', which='major', labelsize=15)\n",
    "ax.tick_params(axis='both', which='minor', labelsize=15)\n",
    "ax.legend(fontsize = 18, frameon = False)\n",
    "pl.tight_layout()\n",
    "\n",
    "\n",
    "\n"
   ]
  },
  {
   "cell_type": "code",
   "execution_count": 280,
   "metadata": {},
   "outputs": [
    {
     "data": {
      "image/png": "[encoded data removed]",
      "text/plain": [
       "<Figure size 504x432 with 1 Axes>"
      ]
     },
     "metadata": {
      "needs_background": "light"
     },
     "output_type": "display_data"
    }
   ],
   "source": [
    "fig, ax = pl.subplots(1,1, figsize = (7,6))\n",
    "# indz = np.where(PS.z_array > 0.7)[0][0]\n",
    "# ax.plot(rp_cen,(wprp_tot_mat)[indz,:], color='r',lw=2,ls='-')\n",
    "ax.plot(rp_cen,(Sigma_cg_tot_norm), color='b',lw=2,ls='-',label=r'1h + 2h')\n",
    "ax.plot(rp_cen,(Sigma_cg_tot_norm_tot_maxr), color='r',lw=2,ls='-',label=r'max(1h,2h)')\n",
    "# ax.plot(rp_cen,(1/80)*(Sigma_cg_tot_norm_smooth2), color='k',lw=2,ls='-',label=r'$\\alpha=0.5$')\n",
    "# ax.errorbar(rp_data2,xi_cg_data,color='b',lw=2,ls='',marker='o',ms=3.0)\n",
    "ax.errorbar(rp_data2,sig_cg_data, np.sqrt(np.diag(df1['cov'])),color='k',lw=2,ls='',marker='o',ms=3.0)\n",
    "\n",
    "\n",
    "ax.set_xscale('log')\n",
    "ax.set_yscale('log')\n",
    "ax.set_xlabel(r'$r_p$ (Mpc/h)', size = 18)\n",
    "ax.set_ylabel(r'$\\Sigma_g$', size = 20)\n",
    "ax.set_ylim(1e-2,2e2)\n",
    "ax.set_xlim(0.1,80)\n",
    "ax.tick_params(axis='both', which='major', labelsize=15)\n",
    "ax.tick_params(axis='both', which='minor', labelsize=15)\n",
    "ax.legend(fontsize = 18, frameon = False)\n",
    "pl.tight_layout()\n",
    "\n",
    "\n",
    "\n"
   ]
  },
  {
   "cell_type": "code",
   "execution_count": 381,
   "metadata": {},
   "outputs": [],
   "source": [
    "from mcfit import P2xi\n",
    "from mcfit import xi2P\n",
    "import scipy.interpolate as interpolate\n",
    "from mcfit import Hankel\n",
    "k_array_hres = np.logspace(-4.8,np.log10(1000),100000)\n",
    "\n",
    "# wprp_tot_mat = np.zeros((Pk1h.shape[0], len(k_array) - 1))\n",
    "num_mat = np.zeros(((len(k_array) - 1),Pk1h.shape[0]))\n",
    "# units = PS.rho_m_bar\n",
    "nz_array = nz_interp(PS.z_array)/sp.integrate.simps(nz_interp(PS.z_array),PS.z_array)\n",
    "for jz in range(len(PS.z_array)):\n",
    "    rp_out, wprp_out = Hankel(k_array, nu=0, q=1.0)(Pk1h_cg[jz,:] + Pk2h_cg_lin[jz,:] - Pk1h_cg[jz,-1], extrap=True)\n",
    "    wprp_out *= (1 / (2 * np.pi))\n",
    "    drp_out = rp_out[1:] - rp_out[:-1]\n",
    "    rp_cen = 0.5*(rp_out[1:] + rp_out[:-1])\n",
    "    \n",
    "    wprp_cen = 0.5*(wprp_out[1:] + wprp_out[:-1])\n",
    "    num_mat[:,jz] = wprp_cen * nbarg_array[jz] * (PS.chi_array[jz] ** 2) * (nz_array[jz])\n",
    "\n",
    "num_final = sp.integrate.simps(num_mat,PS.z_array)\n",
    "denom_final = sp.integrate.simps(nbarg_array,PS.chi_array)\n",
    "N_tot = sp.integrate.simps(nbarg_array * (PS.chi_array[jz] ** 2),PS.chi_array )\n",
    "Sigma_g_measure = num_final*denom_final/N_tot\n",
    "\n",
    "\n",
    "    "
   ]
  },
  {
   "cell_type": "code",
   "execution_count": 382,
   "metadata": {},
   "outputs": [
    {
     "data": {
      "image/png": "[encoded data removed]",
      "text/plain": [
       "<Figure size 504x432 with 1 Axes>"
      ]
     },
     "metadata": {
      "needs_background": "light"
     },
     "output_type": "display_data"
    }
   ],
   "source": [
    "fig, ax = pl.subplots(1,1, figsize = (7,6))\n",
    "# indz = np.where(PS.z_array > 0.7)[0][0]\n",
    "# ax.plot(rp_cen,(wprp_tot_mat)[indz,:], color='r',lw=2,ls='-')\n",
    "ax.plot(rp_cen,(Sigma_g_measure), color='b',lw=2,ls='-',label=r'1h + 2h')\n",
    "# ax.plot(rp_cen,(Sigma_cg_tot_norm_tot_maxr), color='r',lw=2,ls='-',label=r'max(1h,2h)')\n",
    "# ax.plot(rp_cen,(1/80)*(Sigma_cg_tot_norm_smooth2), color='k',lw=2,ls='-',label=r'$\\alpha=0.5$')\n",
    "# ax.errorbar(rp_data2,xi_cg_data,color='b',lw=2,ls='',marker='o',ms=3.0)\n",
    "ax.errorbar(rp_data2,sig_cg_data, np.sqrt(np.diag(df1['cov'])),color='k',lw=2,ls='',marker='o',ms=3.0)\n",
    "\n",
    "\n",
    "ax.set_xscale('log')\n",
    "ax.set_yscale('log')\n",
    "ax.set_xlabel(r'$r_p$ (Mpc/h)', size = 18)\n",
    "ax.set_ylabel(r'$\\Sigma_g$', size = 20)\n",
    "ax.set_ylim(1e-2,2e2)\n",
    "ax.set_xlim(0.1,80)\n",
    "ax.tick_params(axis='both', which='major', labelsize=15)\n",
    "ax.tick_params(axis='both', which='minor', labelsize=15)\n",
    "ax.legend(fontsize = 18, frameon = False)\n",
    "pl.tight_layout()\n",
    "\n",
    "\n",
    "\n"
   ]
  },
  {
   "cell_type": "code",
   "execution_count": 68,
   "metadata": {},
   "outputs": [],
   "source": [
    "nx = 50\n",
    "nm = 80\n",
    "nz = 1\n",
    "x_array = np.linspace(0.1,4,nx)\n",
    "M_array = np.logspace(10,16,nm)\n",
    "Mmat = np.array([M_array])\n",
    "zarr = np.array([0.193])\n",
    "rho_crit = cosmo_colossus.rho_c(zarr) * (1000 ** 3)\n",
    "R_mat = hmf.get_R_from_M_mat(Mmat,200*rho_crit)\n",
    "\n",
    "y3d_mat = Pfid.get_y3d(Mmat, x_array, zarr, R_mat, M200c_mat=Mmat, mdef_M_mat='200c')\n",
    "\n",
    "# nz, nm, nx = 1, 1, len(x_array)\n",
    "x_mat = np.tile(x_array.reshape(1, 1, nx), (nz, nm, 1))\n",
    "\n",
    "chi_array = hmf.get_Dcom_array(zarr, cosmo_params_dict['Om0'])\n",
    "DA_array = chi_array / (1. + zarr)\n",
    "\n",
    "DA_mat_coeff = np.tile(DA_array.reshape(nz, 1), (1, nm))\n",
    "rmdefP_mat_coeff = R_mat\n",
    "lmdefP_mat_coeff = DA_mat_coeff / rmdefP_mat_coeff\n",
    "\n",
    "x_mat_lmdefP_mat = x_mat / np.tile(lmdefP_mat_coeff.reshape(nz, nm, 1), (1, 1, nx))\n",
    "coeff_mat_y = 4 * np.pi * rmdefP_mat_coeff / (lmdefP_mat_coeff ** 2)\n",
    "\n",
    "x_mat2_y3d_mat = (x_mat ** 2) * y3d_mat\n",
    "# ghmf = general_hm(cosmo_params_dict, pressure_params_dict, other_params_dict)\n",
    "dndm_array, bm_array = get_dndm_bias(Mmat,zarr, '200c')\n",
    "\n"
   ]
  },
  {
   "cell_type": "code",
   "execution_count": 79,
   "metadata": {},
   "outputs": [
    {
     "data": {
      "text/plain": [
       "(1, 80, 50)"
      ]
     },
     "execution_count": 79,
     "metadata": {},
     "output_type": "execute_result"
    }
   ],
   "source": [
    "y3d_mat.shape\n"
   ]
  },
  {
   "cell_type": "code",
   "execution_count": 69,
   "metadata": {},
   "outputs": [],
   "source": [
    "k_array = np.logspace(-5,2,100)\n",
    "byk_array = np.zeros(len(k_array))\n",
    "for jk in range(len(k_array)):\n",
    "    lv = k_array[jk] * chi_array - 0.5\n",
    "#     print(lv.shape)\n",
    "#     temp_mat = k_array[jk] * (x_array * )\n",
    "#     uyk_array_jk = sp.integrate.simps(x_mat2_y3d_mat * ) * \n",
    "    byk_array[jk] = sp.integrate.simps(dndm_array * bm_array, uyk_array_jk,M_array)\n",
    "    \n",
    "    \n",
    "    "
   ]
  },
  {
   "cell_type": "code",
   "execution_count": 70,
   "metadata": {},
   "outputs": [],
   "source": [
    "# other_params_dict.keys()\n",
    "\n",
    "pklin = np.exp(other_params_dict['pkzlin_interp'].ev(zarr, np.log(k_array))) \n"
   ]
  },
  {
   "cell_type": "code",
   "execution_count": 71,
   "metadata": {},
   "outputs": [],
   "source": [
    "Mh = np.array([np.array([1e15])])\n",
    "_, bmh = get_dndm_bias(Mh,zarr, '200c')\n",
    "P_hy_2h = bmh * byk_array * pklin\n",
    "\n"
   ]
  },
  {
   "cell_type": "code",
   "execution_count": 72,
   "metadata": {},
   "outputs": [],
   "source": [
    "from mcfit import P2xi\n",
    "# r, xi = P2xi(k)(P)\n",
    "\n",
    "rv, xi_hy_2h = P2xi(k_array)(P_hy_2h)\n",
    "\n"
   ]
  },
  {
   "cell_type": "code",
   "execution_count": 74,
   "metadata": {},
   "outputs": [],
   "source": [
    "x_array = np.linspace(0.1,10,100)\n",
    "# Mmat = np.array([np.array([1e15])])\n",
    "# zarr = np.array([0.193])\n",
    "# rho_crit = cosmo_colossus.rho_c(zarr) * (1000 ** 3)\n",
    "Rh = hmf.get_R_from_M_mat(Mh,200*rho_crit)\n",
    "\n",
    "y3dh = Pfid.get_y3d(Mh, x_array, zarr, Rh, M200c_mat=Mh, mdef_M_mat='200c')\n",
    "\n"
   ]
  },
  {
   "cell_type": "code",
   "execution_count": 75,
   "metadata": {},
   "outputs": [
    {
     "data": {
      "text/plain": [
       "array([[[1.49200099e-04, 5.77088618e-05, 2.66971515e-05, 1.37513379e-05,\n",
       "         7.65034036e-06, 4.51676971e-06, 2.79719780e-06, 1.80200460e-06,\n",
       "         1.20012856e-06, 8.22345914e-07, 5.77544849e-07, 4.14465477e-07,\n",
       "         3.03157647e-07, 2.25536157e-07, 1.70359148e-07, 1.30456388e-07,\n",
       "         1.01148045e-07, 7.93157173e-08, 6.28420697e-08, 5.02646974e-08,\n",
       "         4.05576406e-08, 3.29907350e-08, 2.70374202e-08, 2.23132997e-08,\n",
       "         1.85345628e-08, 1.54894461e-08, 1.30183847e-08, 1.10000372e-08,\n",
       "         9.34133289e-09, 7.97030663e-09, 6.83088886e-09, 5.87908099e-09,\n",
       "         5.08012286e-09, 4.40637700e-09, 3.83573588e-09, 3.35041378e-09,\n",
       "         2.93602375e-09, 2.58086769e-09, 2.27538685e-09, 2.01173373e-09,\n",
       "         1.78343679e-09, 1.58513628e-09, 1.41237497e-09, 1.26143162e-09,\n",
       "         1.12918778e-09, 1.01302064e-09, 9.10716664e-10, 8.20401475e-10,\n",
       "         7.40482808e-10, 6.69603885e-10, 6.06605157e-10, 5.50492802e-10,\n",
       "         5.00412690e-10, 4.55628794e-10, 4.15505235e-10, 3.79491290e-10,\n",
       "         3.47108846e-10, 3.17941864e-10, 2.91627507e-10, 2.67848650e-10,\n",
       "         2.46327538e-10, 2.26820401e-10, 2.09112873e-10, 1.93016087e-10,\n",
       "         1.78363324e-10, 1.65007160e-10, 1.52816995e-10, 1.41676941e-10,\n",
       "         1.31483992e-10, 1.22146445e-10, 1.13582530e-10, 1.05719226e-10,\n",
       "         9.84912233e-11, 9.18400289e-11, 8.57131783e-11, 8.00635500e-11,\n",
       "         7.48487650e-11, 7.00306594e-11, 6.55748211e-11, 6.14501825e-11,\n",
       "         5.76286613e-11, 5.40848435e-11, 5.07957031e-11, 4.77403540e-11,\n",
       "         4.48998305e-11, 4.22568917e-11, 3.97958481e-11, 3.75024075e-11,\n",
       "         3.53635370e-11, 3.33673406e-11, 3.15029491e-11, 2.97604224e-11,\n",
       "         2.81306615e-11, 2.66053298e-11, 2.51767820e-11, 2.38380014e-11,\n",
       "         2.25825420e-11, 2.14044775e-11, 2.02983548e-11, 1.92591522e-11]]])"
      ]
     },
     "execution_count": 75,
     "metadata": {},
     "output_type": "execute_result"
    }
   ],
   "source": [
    "y3dh\n"
   ]
  },
  {
   "cell_type": "code",
   "execution_count": null,
   "metadata": {},
   "outputs": [],
   "source": []
  }
 ],
 "metadata": {
  "kernelspec": {
   "display_name": "myenv3-jp",
   "language": "python",
   "name": "myenv3-jp"
  },
  "language_info": {
   "codemirror_mode": {
    "name": "ipython",
    "version": 3
   },
   "file_extension": ".py",
   "mimetype": "text/x-python",
   "name": "python",
   "nbconvert_exporter": "python",
   "pygments_lexer": "ipython3",
   "version": "3.7.6"
  }
 },
 "nbformat": 4,
 "nbformat_minor": 4
}
