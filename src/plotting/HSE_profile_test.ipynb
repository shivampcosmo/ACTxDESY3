{
 "cells": [
  {
   "cell_type": "code",
   "execution_count": 2,
   "metadata": {},
   "outputs": [
    {
     "name": "stdin",
     "output_type": "stream",
     "text": [
      "Once deleted, variables cannot be recovered. Proceed (y/[n])?  y\n"
     ]
    }
   ],
   "source": [
    "%reset\n",
    "\n",
    "import numpy as np\n",
    "import pickle as pk\n",
    "\n",
    "from astropy import units as u\n",
    "from astropy import constants as const\n",
    "# import matplotlib\n",
    "from astropy.io import fits\n",
    "\n",
    "import dill\n",
    "# %pylab inline\n",
    "import sys, os\n",
    "# Color = ['#0072b1','#009d73','#d45e00','k', 'grey','yellow']\n",
    "os.environ['COSMOSIS_SRC_DIR'] = '/global/cfs/cdirs/des/shivamp/nl_cosmosis/cosmosis/'\n",
    "sys.path.insert(0, '/global/cfs/cdirs/des/shivamp/nl_cosmosis/cosmosis/ACTxDESY3/src/cosmosis_code/')\n",
    "sys.path.insert(0, '/global/cfs/cdirs/des/shivamp/nl_cosmosis/cosmosis/ACTxDESY3/helper/')\n",
    "\n",
    "\n",
    "\n",
    "Color = ['k', '#000075', '#a9a9a9','#9A6324', '#808000','#aaffc3', '#fffac8'  ,'#800000', '#ffd8b1',]\n",
    "\n",
    "import matplotlib\n",
    "import matplotlib.pyplot as pl\n",
    "font = {'size'   : 18}\n",
    "matplotlib.rc('font', **font)\n",
    "# # Latex stuff\n",
    "pl.rc('text', usetex=True)\n",
    "pl.rc('font', family='serif')\n",
    "\n",
    "# %matplotlib inline\n",
    "\n",
    "\n"
   ]
  },
  {
   "cell_type": "code",
   "execution_count": 86,
   "metadata": {},
   "outputs": [],
   "source": [
    "Pe_yx = np.load('/global/cfs/cdirs/des/shivamp/nl_cosmosis/cosmosis/ACTxDESY3/src/results/save_Pe_yx.npz')\n",
    "\n",
    "z_yx, M_yx, P_yx, r_yx, x_yx = Pe_yx['z'], Pe_yx['M_mat'], Pe_yx['Pe'], Pe_yx['rv'], Pe_yx['x']\n",
    "ind_zyx = np.where(z_yx < 0.5)[0][-1]\n",
    "ind_Myx = np.where(M_yx[0,:] < 5.0*10**14)[0][-1]\n",
    "r_yx_ind = r_yx[ind_zyx, ind_Myx] * x_yx\n",
    "P_yx_ind = P_yx[ind_zyx, ind_Myx,:]\n",
    "\n",
    "\n"
   ]
  },
  {
   "cell_type": "code",
   "execution_count": 87,
   "metadata": {},
   "outputs": [],
   "source": [
    "from LSS_funcs import *\n",
    "\n",
    "# nz = 20\n",
    "# z_array_selum = np.linspace(0,2,nz)\n",
    "# nm = 20\n",
    "# M_array_block = np.logspace(10,15,nm)\n",
    "k_array_block = np.logspace(-5,2,100)\n",
    "\n",
    "z_array_selum = z_yx\n",
    "nz = len(z_yx)\n",
    "M_array_block = M_yx[0,:]\n",
    "nm = len(M_array_block)\n"
   ]
  },
  {
   "cell_type": "code",
   "execution_count": 88,
   "metadata": {},
   "outputs": [],
   "source": [
    "import colossus\n",
    "from colossus.cosmology import cosmology\n",
    "from colossus.lss import bias\n",
    "from colossus.lss import mass_function\n",
    "from colossus.halo import mass_so\n",
    "from colossus.halo import mass_defs\n",
    "from colossus.halo import concentration\n",
    "cosmo_colossus = cosmology.setCosmology('planck18')\n",
    "\n",
    "conc_mat_dm = np.zeros((nz, nm))\n",
    "for j in range(len(z_array_selum)):\n",
    "    conc_mat_dm[j, :] = concentration.concentration(M_array_block, '200c', z_array_selum[j])  \n",
    "    \n",
    "rho_crit_array = cosmo_colossus.rho_c(z_array_selum) * (1000 ** 3)\n",
    "M_mat_mdef = np.tile(M_array_block.reshape(1, nm), (nz, 1))\n",
    "r_max_mat = get_R_from_M_mat(M_mat_mdef, 200 * rho_crit_array)    \n",
    "ukz_mat = get_ukmz_g_kmat(r_max_mat, k_array_block, conc_mat_dm,1.)\n",
    "\n"
   ]
  },
  {
   "cell_type": "code",
   "execution_count": 89,
   "metadata": {},
   "outputs": [],
   "source": [
    "from mcfit import xi2P\n",
    "from mcfit import P2xi\n",
    "\n",
    "H0 = 100. * (u.km / (u.s * u.Mpc))\n",
    "G_new = const.G.to(u.Mpc ** 3 / ((u.s ** 2) * u.M_sun))\n",
    "rho_crit = ((3 * (H0 ** 2) / (8 * np.pi * G_new)).to(u.M_sun / (u.Mpc ** 3))).value\n",
    "rho_m = 2.775e11 * cosmo_colossus.Om0\n",
    "# um_block_allinterp = RegularGridInterpolator(\n",
    "    # (z_array_selum, np.log(M_array_block), np.log(k_array_block)),\n",
    "    # np.log(um_block + 1e-200), fill_value=None, bounds_error=False)\n",
    "\n",
    "coeff = (const.G * (const.M_sun ** 2) / ((1.0 * u.Mpc) ** 4)).to((u.eV / (u.cm ** 3))).value\n",
    "coeff_si = (const.G * (const.M_sun ** 2) / ((1.0 * u.Mpc) ** 4)).value\n",
    "nk = 200\n",
    "k_array = np.logspace(-3,3,nk)\n",
    "P_mat = np.zeros((len(z_array_selum), len(M_array_block), nk-1))\n",
    "pressure_model_delta = 200\n",
    "M_from_rho = np.zeros((len(z_array_selum), len(M_array_block)))\n",
    "rhoM = np.zeros((len(z_array_selum), len(M_array_block),nk-1))\n",
    "for jz in range(len(z_array_selum)):\n",
    "#     print(jz)\n",
    "    for jM in range(len(M_array_block)):\n",
    "        ksel = np.where((k_array_block > 1e-4) & (k_array_block < 20))[0]\n",
    "        um_interp = interpolate.interp1d(np.log(k_array_block[ksel]),np.log(ukz_mat[jz,ksel,jM]),fill_value='extrapolate')\n",
    "        r_all, rho_M = P2xi(k_array)(np.exp(um_interp(np.log(k_array))))\n",
    "        r_cent, rho_M_cent = 0.5*(r_all[1:] + r_all[:-1]), 0.5*(rho_M[1:] + rho_M[:-1])\n",
    "        rho_cent = rho_M_cent * M_array_block[jM]\n",
    "        rhoM[jz,jM,:] = rho_cent\n",
    "        dr_all = r_all[1:] - r_all[:-1]\n",
    "        int_M = 4*np.pi * (r_cent**2) * rho_cent * dr_all\n",
    "        M_ltr = np.cumsum(int_M)\n",
    "        to_int = -1 * G_new.value * M_ltr * (1./r_cent**2) * dr_all\n",
    "        rhs_all = np.cumsum(to_int)\n",
    "        gv = 1.25\n",
    "        rho0 = rho_cent[0]\n",
    "        rvir = np.power(3 * M_array_block[jM] / (4 * np.pi * 200. * rho_crit), 1. / 3.)\n",
    "        rcv = np.where(r_cent > rvir)[0][0]\n",
    "        M_from_rho[jz,jM] = M_ltr[rcv]\n",
    "        \n",
    "        P0 = 28.* (coeff / 2.) * pressure_model_delta * (\n",
    "                0.044 / 0.3) * M_array_block[jM] * rho_crit / rvir\n",
    "        P0_rho0 = 7.5*(0.044 / 0.3) * G_new.value * (M_array_block[jM] / rvir)\n",
    "        rhs_mod = (1 + (1./P0_rho0) * ((gv-1)/gv) * rhs_all)**(gv/(gv-1))\n",
    "        Pr_HSE = rhs_mod * P0\n",
    "        P_mat[jz, jM, :] = Pr_HSE\n",
    "        \n",
    "        \n",
    "P_hse_ind = P_mat[ind_zyx, ind_Myx,:]\n",
    "\n",
    "        "
   ]
  },
  {
   "cell_type": "code",
   "execution_count": 90,
   "metadata": {},
   "outputs": [
    {
     "data": {
      "image/png": "[encoded data removed]",
      "text/plain": [
       "<Figure size 504x432 with 1 Axes>"
      ]
     },
     "metadata": {
      "needs_background": "light"
     },
     "output_type": "display_data"
    }
   ],
   "source": [
    "fig, ax = pl.subplots(1,1, figsize = (7,6))\n",
    "\n",
    "ax.errorbar(r_cent,P_hse_ind,label=r'HSE',ls='-',marker='',elinewidth=2.0,color='blue')\n",
    "ax.errorbar(r_yx_ind,P_yx_ind,label=r'B12',ls='-',marker='',elinewidth=2.0,color='red')\n",
    "\n",
    "ax.set_xscale('log')\n",
    "ax.set_yscale('log')\n",
    "ax.set_xlabel(r'$r$', size = 18)\n",
    "ax.set_ylabel(r'$P_e$', size = 20)\n",
    "ax.set_ylim(1e-5,1e2)\n",
    "ax.set_xlim(1e-3,5)\n",
    "ax.tick_params(axis='both', which='major', labelsize=15)\n",
    "ax.tick_params(axis='both', which='minor', labelsize=15)\n",
    "ax.legend(fontsize = 18, frameon = False)\n",
    "pl.tight_layout()\n",
    "\n",
    "\n"
   ]
  },
  {
   "cell_type": "code",
   "execution_count": null,
   "metadata": {},
   "outputs": [],
   "source": [
    "fig, ax = pl.subplots(1,1, figsize = (7,6))\n",
    "\n",
    "ax.scatter(M_array_block,M_from_rho[0,:],marker='*',color='blue')\n",
    "# ax.errorbar(r_yx_ind,P_yx_ind,label=r'B12',ls='-',marker='',elinewidth=2.0,color='red')\n",
    "# ax.errorbar(pkmm_yx['M'],np.exp(Pk_cs_interp(np.log(pkmm_yx['M']))),label=r'Cosmosis',ls='-',marker='',elinewidth=2.0,color='red')\n",
    "\n",
    "ax.set_xscale('log')\n",
    "# ax.axhline(0,color='k',ls = '--')\n",
    "ax.set_yscale('log')\n",
    "ax.set_xlabel(r'$r$', size = 18)\n",
    "ax.set_ylabel(r'$P_e$', size = 20)\n",
    "ax.tick_params(axis='both', which='major', labelsize=15)\n",
    "ax.tick_params(axis='both', which='minor', labelsize=15)\n",
    "ax.legend(fontsize = 18, frameon = False)\n",
    "pl.tight_layout()\n",
    "\n",
    "\n",
    "\n"
   ]
  }
 ],
 "metadata": {
  "kernelspec": {
   "display_name": "myenv3-jp",
   "language": "python",
   "name": "myenv3-jp"
  },
  "language_info": {
   "codemirror_mode": {
    "name": "ipython",
    "version": 3
   },
   "file_extension": ".py",
   "mimetype": "text/x-python",
   "name": "python",
   "nbconvert_exporter": "python",
   "pygments_lexer": "ipython3",
   "version": "3.7.6"
  }
 },
 "nbformat": 4,
 "nbformat_minor": 4
}
