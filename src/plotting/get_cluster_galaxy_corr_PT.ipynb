{
 "cells": [
  {
   "cell_type": "code",
   "execution_count": 1,
   "metadata": {},
   "outputs": [
    {
     "name": "stdin",
     "output_type": "stream",
     "text": [
      "Once deleted, variables cannot be recovered. Proceed (y/[n])?  y\n"
     ]
    }
   ],
   "source": [
    "%reset\n",
    "import sys, os\n",
    "import traceback\n",
    "import pdb\n",
    "import numpy as np\n",
    "import scipy as sp\n",
    "import scipy.special as spsp\n",
    "from scipy import interpolate\n",
    "import astropy.units as u\n",
    "from astropy import constants as const\n",
    "import colossus\n",
    "from colossus.cosmology import cosmology\n",
    "from colossus.lss import bias\n",
    "from colossus.lss import mass_function\n",
    "from colossus.halo import mass_so\n",
    "from colossus.halo import mass_defs\n",
    "from colossus.halo import concentration\n",
    "import copy\n",
    "import itertools\n",
    "sys.path.insert(0, '/global/cfs/cdirs/des/shivamp/nl_cosmosis/cosmosis/ACTxDESY3/src/cosmosis_code/')\n",
    "sys.path.insert(0, '/global/cfs/cdirs/des/shivamp/nl_cosmosis/cosmosis/ACTxDESY3/helper/')\n",
    "import mycosmo as cosmodef\n",
    "from twobessel import *\n",
    "import LSS_funcs as hmf\n",
    "import plot_funcs as pf\n",
    "import multiprocessing\n",
    "import time\n",
    "import pdb\n",
    "import pickle as pk\n",
    "import dill\n",
    "from mcfit import Hankel\n",
    "\n",
    "os.environ['COSMOSIS_SRC_DIR'] = '/global/cfs/cdirs/des/shivamp/nl_cosmosis/cosmosis'\n",
    "\n",
    "# sys.path.insert(0, '../../../helper/')\n",
    "# sys.path.insert(0, '../cosmosis_code/')\n",
    "\n",
    "from pressure import *\n",
    "from get_theory_interface import *\n",
    "from general_hm import *\n",
    "pi = np.pi\n",
    "\n",
    "\n"
   ]
  },
  {
   "cell_type": "code",
   "execution_count": 2,
   "metadata": {},
   "outputs": [
    {
     "name": "stdout",
     "output_type": "stream",
     "text": [
      "Note: redshifts have been re-sorted (earliest first)\n"
     ]
    }
   ],
   "source": [
    "import matplotlib\n",
    "import matplotlib.pyplot as pl\n",
    "font = {'size'   : 18}\n",
    "matplotlib.rc('font', **font)\n",
    "# # Latex stuff\n",
    "pl.rc('text', usetex=True)\n",
    "pl.rc('font', family='serif')\n",
    "\n",
    "\n",
    "import pickle as pk\n",
    "import numpy as np\n",
    "import pickle as pk\n",
    "import matplotlib\n",
    "import matplotlib.pyplot as pl\n",
    "from astropy import units\n",
    "from astropy import constants\n",
    "# import matplotlib\n",
    "from astropy.io import fits\n",
    "import sys, os\n",
    "import dill\n",
    "# %pylab inline\n",
    "\n",
    "\n",
    "def replace_values(params_dict, pressure_params_orig, sec_name='theory_yx'):\n",
    "    pressure_params_dict = copy.deepcopy(pressure_params_orig)\n",
    "    for key in params_dict.keys():\n",
    "        key_sp = key.split('--')\n",
    "        if key_sp[0] == sec_name:\n",
    "            param_val = key_sp[1]\n",
    "            for pressure_keys in pressure_params_dict.keys():\n",
    "                if param_val == pressure_keys.lower():\n",
    "                    pressure_params_dict[pressure_keys] = params_dict[key]\n",
    "\n",
    "    return pressure_params_dict\n",
    "\n",
    "def weighted_percentile(data_mat, percents, weights=None):\n",
    "    weighted_mat = np.zeros(data_mat.shape[1])\n",
    "    for mj in range(data_mat.shape[1]):\n",
    "        data = data_mat[:, mj]\n",
    "        if weights is None:\n",
    "            return np.percentile(data, percents)\n",
    "        ind=np.argsort(data)\n",
    "        d=data[ind]\n",
    "        w=weights[ind]\n",
    "        p=1.*w.cumsum()/w.sum()*100\n",
    "        y=np.interp(percents, p, d)\n",
    "        weighted_mat[mj] = y\n",
    "    return weighted_mat\n",
    "\n",
    "        \n",
    "# ini_info = read_ini('/Users/shivam/Dropbox/research/cosmosis-docker/cosmosis/ACTxDESY3/src/params_files/params_DES_cg_cm.ini', ini_def='/Users/shivam/Dropbox/research/cosmosis-docker/cosmosis/ACTxDESY3/src/params_files/params_default.ini')\n",
    "ini_info = read_ini('/global/cfs/cdirs/des/shivamp/nl_cosmosis/cosmosis/ACTxDESY3/src/params_files/params_DES_cg_cm.ini', ini_def='/global/cfs/cdirs/des/shivamp/nl_cosmosis/cosmosis/ACTxDESY3/src/params_files/params_default.ini')\n",
    "other_params_dict = copy.deepcopy(ini_info['other_params_dict'])\n",
    "cosmo_params_dict = copy.deepcopy(ini_info['cosmo_params_dict'])\n",
    "pressure_params_dict = copy.deepcopy(ini_info['pressure_params_dict'])\n",
    "hod_params_dict = copy.deepcopy(ini_info['hod_params_dict'])\n",
    "cosmology.addCosmology('mock_cosmo', cosmo_params_dict)\n",
    "cosmo_colossus = cosmology.setCosmology('mock_cosmo')\n",
    "other_params_dict['pressure_fid'] = pressure_params_dict\n",
    "\n",
    "\n"
   ]
  },
  {
   "cell_type": "code",
   "execution_count": 3,
   "metadata": {},
   "outputs": [
    {
     "data": {
      "text/plain": [
       "{'flat': True,\n",
       " 'H0': 70.0,\n",
       " 'Om0': 0.3,\n",
       " 'Ob0': 0.048,\n",
       " 'sigma8': 0.823,\n",
       " 'ns': 0.96,\n",
       " 'relspecies': False}"
      ]
     },
     "execution_count": 3,
     "metadata": {},
     "output_type": "execute_result"
    }
   ],
   "source": [
    "cosmo_params_dict\n"
   ]
  },
  {
   "cell_type": "code",
   "execution_count": 4,
   "metadata": {},
   "outputs": [],
   "source": [
    "class HOD2:\n",
    "    \"\"\"\n",
    "    Sets up the HOD class for the galaxies.\n",
    "    \"\"\"\n",
    "\n",
    "    def __init__(self, hod_params, other_params):\n",
    "        self.hod_params = hod_params\n",
    "        self.hod_type = hod_params['hod_type']\n",
    "        self.z_array = other_params['z_array']\n",
    "#         self.z_edges = np.array(other_params['z_edges'])\n",
    "#         self.zcen = 0.5*(self.z_edges[1:] + self.z_edges[:-1])\n",
    "#         self.binvl = other_params['binvl']\n",
    "        self.nz = len(self.z_array)\n",
    "        self.nm = len(other_params['M_array'])\n",
    "\n",
    "    # Average number of central galaxies\n",
    "    def get_Nc(self, M_val):\n",
    "        if self.hod_type == 'Halos':\n",
    "            Ncm = 0.5 * (np.sign((M_val - 10 ** self.hod_params['logMmin'])) + 1.)\n",
    "        elif self.hod_type in ['DESI', '2MRS']:\n",
    "            erfval = sp.special.erf((np.log10(M_val) - self.hod_params['logMmin']) / self.hod_params['sig_logM'])\n",
    "            Ncm = 0.5 * (1 + erfval)\n",
    "        elif self.hod_type == 'DES_MICE':\n",
    "            Ncm =  0.5 * self.hod_params['fcen'] * (1. + sp.special.erf((np.log10(M_val) - self.hod_params['logMmin']) / self.hod_params['sig_logM']))\n",
    "\n",
    "            # erfval = sp.special.erf((np.log10(M_val) - self.hod_params['logMmin']) / self.hod_params['sig_logM'])\n",
    "            # Ncm = self.hod_params['fmaxcen'] * (\n",
    "            #         1.0 - (1.0 - self.hod_params['fmincen'] / self.hod_params['fmaxcen']) / (1.0 + 10 ** (\n",
    "            #         (2.0 / self.hod_params['fcen_k']) * (\n",
    "            #         np.log10(M_val) - self.hod_params['log_mdrop'])))) * 0.5 * (1 + erfval)\n",
    "\n",
    "        elif self.hod_type == 'DES_MICE_exp':\n",
    "            exp_fac = (np.exp(-1.*((np.log10(M_val))/self.hod_params['logMstar'])**self.hod_params['n']))  \n",
    "            Ncm =  0.5 * exp_fac * (1. + sp.special.erf((np.log10(M_val) - self.hod_params['logMmin']) / self.hod_params['sig_logM']))\n",
    "\n",
    "        elif self.hod_type == 'DES_maglim_exp_zev':\n",
    "            # logmmin = self.hod_params['logMmin_z0'] * (((1. + self.z_array)/(1. + self.hod_params['zstar'] ) ** self.hod_params['logMmin_alpha_z'])) \n",
    "            # logmmin = np.tile(logmmin.reshape(self.nz, 1), (1, self.nm))\n",
    "            # siglogm = self.hod_params['sig_logM_z0'] * (((1. + self.z_array)/(1. + self.hod_params['zstar'] ) ** self.hod_params['sig_logM_alpha_z'])) \n",
    "            # siglogm = np.tile(siglogm.reshape(self.nz, 1), (1, self.nm))\n",
    "            # logmstar = self.hod_params['logMstar_z0'] * (((1. + self.z_array)/(1. + self.hod_params['zstar'] ) ** self.hod_params['logMstar_alpha_z'])) \n",
    "            # logmstar = np.tile(logmstar.reshape(self.nz, 1), (1, self.nm))\n",
    "            # n = self.hod_params['n_z0'] * (((1. + self.z_array)/(1. + self.hod_params['zstar'] ) ** self.hod_params['n_alpha_z'])) \n",
    "            # n = np.tile(n.reshape(self.nz, 1), (1, self.nm))\n",
    "\n",
    "            logmmin = self.hod_params['logMmin_z0'] * (((1. + self.zcen[self.binvl-1])/(1. + self.hod_params['zstar'])) ** self.hod_params['logMmin_alpha_z']) \n",
    "            # logmmin = np.tile(logmmin.reshape(self.nz, 1), (1, self.nm))\n",
    "            siglogm = self.hod_params['sig_logM_z0'] * (((1. + self.zcen[self.binvl-1])/(1. + self.hod_params['zstar'])) ** self.hod_params['sig_logM_alpha_z']) \n",
    "            # siglogm = np.tile(siglogm.reshape(self.nz, 1), (1, self.nm))\n",
    "            logmstar = self.hod_params['logMstar_z0'] * (((1. + self.zcen[self.binvl-1])/(1. + self.hod_params['zstar'])) ** self.hod_params['logMstar_alpha_z']) \n",
    "            # logmstar = np.tile(logmstar.reshape(self.nz, 1), (1, self.nm))\n",
    "            n = self.hod_params['n_z0'] * (((1. + self.zcen[self.binvl-1])/(1. + self.hod_params['zstar'])) ** self.hod_params['n_alpha_z']) \n",
    "            # n = np.tile(n.reshape(self.nz, 1), (1, self.nm))\n",
    "\n",
    "            exp_fac = (np.exp(-1.* np.power((np.log10(M_val) /logmstar),n)))\n",
    "            Ncm =  0.5 * exp_fac * (1. + sp.special.erf((np.log10(M_val) - logmmin)/siglogm))\n",
    "\n",
    "\n",
    "        elif self.hod_type == 'DES_GGL':\n",
    "            erfval = sp.special.erf((np.log10(M_val) - self.hod_params['logMmin']) / self.hod_params['sig_logM'])\n",
    "#             Ncm = self.hod_params['fcen'] * 0.5 * (1 + erfval)\n",
    "            Ncm = 0.5 * (1 + erfval)\n",
    "        elif self.hod_type == 'EVOLVE_HOD':\n",
    "            Ncm_interp = dill.load(open('/global/cfs/cdirs/des/shivamp/ACTxDESY3_data/MICE_data/mice_maglim_hod_zM_interp_zhres.pk','rb'))['fcen_interp']\n",
    "            Ncm = np.zeros_like(M_val)\n",
    "            for j in range(len(self.z_array)):\n",
    "                Ncm[j,:] = np.exp(Ncm_interp((self.z_array[j]), np.log(M_val[j,:]),grid=False))\n",
    "        else:\n",
    "            print('give correct HOD type')\n",
    "            sys.exit(1)\n",
    "        return Ncm\n",
    "\n",
    "    # Average number of satellite galaxies\n",
    "    def get_Ns(self, M_val):\n",
    "        Ncm = self.get_Nc(M_val)\n",
    "        if self.hod_type == 'Halos':\n",
    "            Nsm = np.zeros(M_val.shape)\n",
    "        elif self.hod_type in ['DESI', '2MRS']:\n",
    "            M0 = 10 ** (self.hod_params['logM0'])\n",
    "            M1 = 10 ** (self.hod_params['logM1'])\n",
    "            val = 0.5 * (np.sign((M_val - M0)) + 1.) * ((M_val - M0) / M1)\n",
    "            Nsm = Ncm * np.power(val, self.hod_params['alpha_g'])\n",
    "        elif self.hod_type == 'DES_MICE':\n",
    "            M1 = 10 ** (self.hod_params['logM1'])\n",
    "            Nsm = ((M_val / M1) ** self.hod_params['alpha_g'])\n",
    "            # removing the fcen factor from the definition of satellite galaxies\n",
    "            # Nsm *= Ncm/(self.hod_params['fcen'])\n",
    "            Nsm *= Ncm\n",
    "            # Nsm = (M_val / (10 ** (self.hod_params['logM1']))) ** self.hod_params['alpha_g'])\n",
    "            # erfval = sp.special.erf((np.log10(M_val) - self.hod_params['logMmin']) / self.hod_params['sig_logM'])\n",
    "            # Ncerf = 0.5 * (1 + erfval)\n",
    "            # Ncm = get_Nc(self, M_val)\n",
    "            # M1 = 10 ** (self.hod_params['logM1'])\n",
    "            # Nsm = (Ncerf / Ncm) * ((M_val / M1) ** self.hod_params['alpha_g'])\n",
    "\n",
    "        elif self.hod_type == 'DES_MICE_exp':\n",
    "            Ncm =  0.5 * (1. + sp.special.erf((np.log10(M_val) - self.hod_params['logMmin']) / self.hod_params['sig_logM']))\n",
    "            M1 = 10 ** (self.hod_params['logM1'])\n",
    "            Nsm = Ncm * ((M_val / M1) ** self.hod_params['alpha_g'])\n",
    "\n",
    "        elif self.hod_type == 'DES_maglim_exp_zev':\n",
    "            # logmmin = self.hod_params['logMmin_z0'] * (((1. + self.z_array)/(1. + self.hod_params['zstar'] ) ** self.hod_params['logMmin_alpha_z'])) \n",
    "            # logmmin = np.tile(logmmin.reshape(self.nz, 1), (1, self.nm))\n",
    "            # siglogm = self.hod_params['sig_logM_z0'] * (((1. + self.z_array)/(1. + self.hod_params['zstar'] ) ** self.hod_params['sig_logM_alpha_z'])) \n",
    "            # siglogm = np.tile(siglogm.reshape(self.nz, 1), (1, self.nm))\n",
    "            # logM1 = self.hod_params['logM1_z0'] * (((1. + self.z_array)/(1. + self.hod_params['zstar'] ) ** self.hod_params['logM1_alpha_z'])) \n",
    "            # logM1 = np.tile(logM1.reshape(self.nz, 1), (1, self.nm))\n",
    "            # alpha = self.hod_params['alpha_g_z0'] * (((1. + self.z_array)/(1. + self.hod_params['zstar'] ) ** self.hod_params['alpha_g_alpha_z'])) \n",
    "            # alpha = np.tile(alpha.reshape(self.nz, 1), (1, self.nm))\n",
    "\n",
    "\n",
    "            logmmin = self.hod_params['logMmin_z0'] * (((1. + self.zcen[self.binvl-1])/(1. + self.hod_params['zstar'])) ** self.hod_params['logMmin_alpha_z']) \n",
    "            # logmmin = np.tile(logmmin.reshape(self.nz, 1), (1, self.nm))\n",
    "            siglogm = self.hod_params['sig_logM_z0'] * (((1. + self.zcen[self.binvl-1])/(1. + self.hod_params['zstar'])) ** self.hod_params['sig_logM_alpha_z']) \n",
    "            # siglogm = np.tile(siglogm.reshape(self.nz, 1), (1, self.nm))\n",
    "            logM1 = self.hod_params['logM1_z0'] * (((1. + self.zcen[self.binvl-1])/(1. + self.hod_params['zstar'])) ** self.hod_params['logM1_alpha_z']) \n",
    "            # logM1 = np.tile(logM1.reshape(self.nz, 1), (1, self.nm))\n",
    "            alpha = self.hod_params['alpha_g_z0'] * (((1. + self.zcen[self.binvl-1])/(1. + self.hod_params['zstar'])) ** self.hod_params['alpha_g_alpha_z']) \n",
    "            # alpha = np.tile(alpha.reshape(self.nz, 1), (1, self.nm))\n",
    "            Ncm =  0.5 * (1. + sp.special.erf((np.log10(M_val) - logmmin)/siglogm))\n",
    "            Nsm = Ncm * ( M_val / 10**logM1)**alpha\n",
    "\n",
    "        elif self.hod_type == 'DES_GGL':\n",
    "            M1 = 10 ** (self.hod_params['logM1'])\n",
    "            Nsm = Ncm * ((M_val / M1) ** self.hod_params['alpha_g'])\n",
    "\n",
    "        elif self.hod_type == 'EVOLVE_HOD':\n",
    "            Nsm_interp = dill.load(open('/global/cfs/cdirs/des/shivamp/ACTxDESY3_data/MICE_data/mice_maglim_hod_zM_interp_zhres.pk', 'rb'))['fsat_interp']\n",
    "            Nsm = np.zeros_like(M_val)\n",
    "            for j in range(len(self.z_array)):\n",
    "                Nsm[j, :] = np.exp(Nsm_interp((self.z_array[j]), np.log(M_val[j, :]), grid=False))\n",
    "        else:\n",
    "            print('give correct HOD type')\n",
    "            sys.exit(1)\n",
    "        return Nsm\n",
    "\n",
    "    # total number of galaxies = (Ncm*(1+Nsm))\n",
    "    def get_Ntotal(self, M_val):\n",
    "        Ncm = self.get_Nc(M_val)\n",
    "        Nsm = self.get_Ns(M_val)\n",
    "        ntm = Ncm + Nsm\n",
    "        return ntm\n",
    "\n"
   ]
  },
  {
   "cell_type": "code",
   "execution_count": 5,
   "metadata": {},
   "outputs": [],
   "source": [
    "# from general_hm import *\n",
    "\n",
    "class Powerspec2:\n",
    "    \n",
    "    def __init__(self, cosmo_params, hod_params, pressure_params, other_params):\n",
    "        cosmology.addCosmology('mock_cosmo', cosmo_params)\n",
    "        self.cosmo_colossus = cosmology.setCosmology('mock_cosmo')\n",
    "#        self.cosmo_colossus = cosmology.setCosmology('planck18')\n",
    "        h = cosmo_params['H0'] / 100.\n",
    "        cosmo_func = cosmodef.mynew_cosmo(h, cosmo_params['Om0'], cosmo_params['Ob0'], cosmo_params['ns'],\n",
    "                                          cosmo_params['sigma8'])\n",
    "        self.cosmo = cosmo_func\n",
    "\n",
    "        self.M_array, self.z_array, self.x_array = other_params['M_array'], other_params['z_array'], other_params[\n",
    "            'x_array']\n",
    "\n",
    "        self.verbose = other_params['verbose']\n",
    "\n",
    "        self.nm, self.nz = len(self.M_array), len(self.z_array)\n",
    "        M_mat_mdef = np.tile(self.M_array.reshape(1, self.nm), (self.nz, 1))\n",
    "        self.M_mat = M_mat_mdef\n",
    "\n",
    "        if hod_params['hod_type'] == 'Halos':\n",
    "            self.use_only_halos = True\n",
    "        else:\n",
    "            self.use_only_halos = False\n",
    "\n",
    "        self.mdef_analysis = other_params['mdef_analysis']\n",
    "        self.dndm_model = other_params['dndm_model']\n",
    "        self.bias_model = other_params['bias_model']\n",
    "\n",
    "        self.eta_mb = hod_params['eta_mb']\n",
    "        self.sig_lnM = hod_params['sig_lnM']\n",
    "        self.rho_crit_array = self.cosmo_colossus.rho_c(self.z_array) * (1000 ** 3)\n",
    "        # default output is in (Msun * h ** 2) / (kpc ** 3)\n",
    "        # rho_crit converted to (Msun * h ** 2) / (Mpc ** 3)\n",
    "        self.rho_vir_array = (mass_so.deltaVir(self.z_array)) * self.rho_crit_array\n",
    "\n",
    "        if self.verbose:\n",
    "            print('setting up hod')\n",
    "        self.hod = HOD2(hod_params,other_params)\n",
    "\n",
    "        if self.verbose:\n",
    "            print('setting up general hmf')\n",
    "        self.ghmf = general_hm(cosmo_params, pressure_params, other_params)\n",
    "\n",
    "        if 'dndm_array' not in other_params.keys():\n",
    "            if self.verbose:\n",
    "                print('getting dndm and bm at', self.mdef_analysis)\n",
    "            self.dndm_array, self.bm_array = self.ghmf.get_dndm_bias(M_mat_mdef, self.mdef_analysis)\n",
    "            if self.verbose:\n",
    "                print('getting halo conc at ', self.mdef_analysis)\n",
    "            self.halo_conc_mdef = self.ghmf.get_halo_conc_Mz(M_mat_mdef, self.mdef_analysis)\n",
    "        else:\n",
    "            self.dndm_array, self.bm_array = other_params['dndm_array'], other_params['bm_array']\n",
    "            self.halo_conc_mdef = other_params['halo_conc_mdef']\n",
    "\n",
    "\n",
    "        # trying to test only single mdef\n",
    "        M_mat_vir = M_mat_mdef\n",
    "        self.r_vir_mat = hmf.get_R_from_M_mat(M_mat_mdef, 200 * self.rho_crit_array)\n",
    "        self.halo_conc_vir = self.halo_conc_mdef\n",
    "\n",
    "\n",
    "        if not self.use_only_halos:\n",
    "            self.rmax_r200c = hod_params['rmax_r200c']\n",
    "            self.rmax_rvir = hod_params['rmax_rvir']\n",
    "            self.rsg_rs = hod_params['rsg_rs']\n",
    "            self.mass_def_for_rmax = hod_params['mass_def_for_rmax']\n",
    "            if self.mass_def_for_rmax == 'vir':\n",
    "                self.r_max_mat = self.r_vir_mat * self.rmax_rvir\n",
    "            elif self.mass_def_for_rmax == '200c':\n",
    "                if self.verbose:\n",
    "                    print('changing mdef to 200c for extent')\n",
    "                M_mat_200c, R_mat_200c_kpc_h, halo_conc_200c = np.zeros(M_mat_mdef.shape), np.zeros(\n",
    "                    M_mat_mdef.shape), np.zeros(M_mat_mdef.shape)\n",
    "                for j in range(self.nz):\n",
    "                    M_mat_200c[j, :], R_mat_200c_kpc_h[j, :], halo_conc_200c[j, :] = mass_defs.changeMassDefinition(\n",
    "                        M_mat_mdef[j, :], self.halo_conc_mdef[j, :], self.z_array[j], self.mdef_analysis, '200c')\n",
    "                self.r_200c_mat = R_mat_200c_kpc_h / 1000.\n",
    "                self.halo_conc_200c = halo_conc_200c\n",
    "                self.r_max_mat = self.r_200c_mat * self.rmax_r200c\n",
    "            else:\n",
    "                self.r_max_mat = None\n",
    "\n",
    "        self.Nc_mat = self.hod.get_Nc(M_mat_vir)\n",
    "        self.Ns_mat = self.hod.get_Ns(M_mat_vir)\n",
    "        self.Ntotal_mat = self.hod.get_Ntotal(M_mat_vir)\n",
    "        self.M_mat_vir = M_mat_vir\n",
    "\n",
    "        self.mass_bias_type = other_params['mass_bias_type']\n",
    "\n",
    "        z_mat = np.tile(self.z_array.reshape(self.nz, 1), (1, self.nm))\n",
    "        self.z_mat_cond_inbin = np.logical_and(z_mat >= other_params['zmin_tracer'],\n",
    "                                               z_mat <= other_params['zmax_tracer'])\n",
    "\n",
    "        self.z_array_cond_inbin = np.logical_and(self.z_array >= other_params['zmin_tracer'],\n",
    "                                                 self.z_array <= other_params['zmax_tracer'])\n",
    "\n",
    "        if self.mass_bias_type == 'limits':\n",
    "            self.M_mat_cond_inbin = np.logical_and(\n",
    "                self.M_mat >= self.eta_mb * (10 ** other_params['log_M_min_tracer']),\n",
    "                self.M_mat <= self.eta_mb * (10 ** other_params['log_M_max_tracer']))\n",
    "\n",
    "        else:\n",
    "            self.M_mat_cond_inbin = np.logical_and(self.M_mat >= (10 ** other_params['log_M_min_tracer']),\n",
    "                                                   self.M_mat <= (10 ** other_params['log_M_max_tracer']))\n",
    "\n",
    "        if self.mass_bias_type == 'weighted':\n",
    "            xL = (np.log(self.eta_mb * (10 ** other_params['log_M_min_tracer'])) - np.log(M_mat_vir)) / (\n",
    "                    2 * (self.sig_lnM ** 2))\n",
    "            xH = (np.log(self.eta_mb * (10 ** other_params['log_M_max_tracer'])) - np.log(M_mat_vir)) / (\n",
    "                    2 * (self.sig_lnM ** 2))\n",
    "            self.int_prob = 0.5 * (spsp.erf(xL) - spsp.erf(xH))\n",
    "            self.M_mat_cond_inbin = np.ones(self.M_mat_cond_inbin.shape)\n",
    "        else:\n",
    "            self.int_prob = np.ones(self.Ntotal_mat.shape)\n",
    "\n",
    "        if self.use_only_halos:\n",
    "            self.nbar = hmf.get_nbar_z(self.M_array, self.dndm_array, self.int_prob, self.M_mat_cond_inbin)\n",
    "        else:\n",
    "            self.nbar = hmf.get_nbar_z(self.M_array, self.dndm_array, self.Ntotal_mat, self.M_mat_cond_inbin)\n",
    "        self.nbar_mat = np.tile(self.nbar.reshape(self.nz, 1), (1, self.nm))\n",
    "\n",
    "        ng_zarray = other_params['ng_zarray']\n",
    "        ng_value = other_params['ng_value']\n",
    "        # import ipdb; ipdb.set_trace() # BREAKPOINT\n",
    "\n",
    "        ng_interp = interpolate.interp1d(ng_zarray, np.log(ng_value + 1e-100), fill_value='extrapolate')\n",
    "\n",
    "        self.chi_array = hmf.get_Dcom_array(self.z_array, cosmo_params['Om0'])\n",
    "        self.DA_array = self.chi_array / (1. + self.z_array)\n",
    "        self.ng_array = np.exp(ng_interp(self.z_array))\n",
    "        self.dchi_dz_array = (const.c.to(u.km / u.s)).value / (hmf.get_Hz(self.z_array, cosmo_params['Om0']))\n",
    "\n",
    "        H0 = 100. * (u.km / (u.s * u.Mpc))\n",
    "        G_new = const.G.to(u.Mpc ** 3 / ((u.s ** 2) * u.M_sun))\n",
    "        self.rho_m_bar = ((cosmo_params['Om0'] * 3 * (H0 ** 2) / (8 * np.pi * G_new)).to(u.M_sun / (u.Mpc ** 3))).value\n",
    "\n",
    "\n",
    "        if 'pkzlin_interp' not in other_params.keys():\n",
    "            if self.verbose:\n",
    "                print('getting pkzlin interp')\n",
    "            self.pkzlin_interp = self.ghmf.get_Pklin_zk_interp()\n",
    "        else:\n",
    "            self.pkzlin_interp = other_params['pkzlin_interp']\n",
    "\n",
    "        if 'pkznl_interp' in other_params.keys():\n",
    "            self.pkznl_interp = other_params['pkznl_interp']\n",
    "        else:\n",
    "            self.pkznl_interp = self.ghmf.get_PkNL_zk_interp()\n",
    "\n",
    "        self.suppress_1halo = other_params['suppress_1halo']\n",
    "        self.kstar = other_params['kstar']\n",
    "\n",
    "    def get_Pkcm1h_zM(self, k_array, logM_min=np.log10(1.5e14), logM_max=np.log10(5e16)):\n",
    "        nk = len(k_array)\n",
    "        M_mat_cond_inbin = np.logical_and(\n",
    "            self.M_mat >= ((10 ** logM_min)),\n",
    "            self.M_mat <= ((10 ** logM_max)))\n",
    "        int_prob = np.ones(self.Ntotal_mat.shape)\n",
    "        nbar = hmf.get_nbar_z(self.M_array, self.dndm_array, int_prob, M_mat_cond_inbin)        \n",
    "        \n",
    "        nbar_mat = np.tile(nbar.reshape(self.nz, 1), (1, nk))\n",
    "\n",
    "        norm_mat = np.tile((self.M_mat/self.rho_m_bar).reshape(self.nz, 1, self.nm), (1, nk, 1))\n",
    "        val = np.ones(norm_mat.shape)\n",
    "        toint_M_multfac = np.tile(M_mat_cond_inbin.reshape(self.nz, 1, self.nm), (1, nk, 1))\n",
    "        ukzm_mat = hmf.get_ukmz_g_kmat(self.r_max_mat, k_array, self.halo_conc_vir, self.rsg_rs)\n",
    "        dndm_mat = np.tile(self.dndm_array.reshape(self.nz, 1, self.nm), (1, nk, 1))\n",
    "        Pk1h = (1./nbar_mat) * sp.integrate.simps((val * ukzm_mat * norm_mat * toint_M_multfac) * dndm_mat, self.M_array)\n",
    "\n",
    "        return Pk1h\n",
    "\n",
    "    def get_Pklin_nl_z(self, k_array):\n",
    "        Pnl_kz = np.exp(self.pkznl_interp((self.z_array), np.log(k_array), grid=True))\n",
    "        Plin_kz = np.exp(self.pkzlin_interp((self.z_array), np.log(k_array), grid=True))\n",
    "        return Pnl_kz, Plin_kz      \n",
    "\n",
    "    def get_Pkcm2h_zM(self, k_array, logM_min=np.log10(1.5e14), logM_max=np.log10(5e16)):\n",
    "        nk = len(k_array)\n",
    "        ukzm_mat = hmf.get_ukmz_g_kmat(self.r_max_mat, k_array, self.halo_conc_vir, self.rsg_rs)\n",
    "\n",
    "        dndm_mat = np.tile(self.dndm_array.reshape(self.nz, 1, self.nm), (1, nk, 1))\n",
    "        bM_mat = np.tile(self.bm_array.reshape(self.nz, 1, self.nm), (1, nk, 1))\n",
    "\n",
    "        M_mat_cond_inbin = np.logical_and(\n",
    "            self.M_mat >= ((10 ** logM_min)),\n",
    "            self.M_mat <= ((10 ** logM_max)))\n",
    "        toint_M_multfac = np.tile(M_mat_cond_inbin.reshape(self.nz, 1, self.nm), (1, nk, 1))\n",
    "        int_prob = np.ones(toint_M_multfac.shape)\n",
    "        nbar = hmf.get_nbar_z(self.M_array, self.dndm_array, np.ones(M_mat_cond_inbin.shape), M_mat_cond_inbin)        \n",
    "        \n",
    "        nbar_mat = np.tile(nbar.reshape(self.nz, 1), (1, nk))\n",
    "        toint = dndm_mat * (np.ones(dndm_mat.shape)) * bM_mat * toint_M_multfac * int_prob \n",
    "\n",
    "        val = sp.integrate.simps(toint, self.M_array)\n",
    "\n",
    "        coeff = (1./nbar_mat)\n",
    "        Pnl_kz = np.exp(self.pkznl_interp((self.z_array), np.log(k_array), grid=True))\n",
    "        Plin_kz = np.exp(self.pkzlin_interp((self.z_array), np.log(k_array), grid=True))\n",
    "        return coeff * val * Pnl_kz, coeff * val * Plin_kz, coeff*val\n",
    "\n",
    "    def get_Pkcg1h_zM(self, k_array, logM_min=np.log10(1.5e14), logM_max=np.log10(5e16)):\n",
    "        nk = len(k_array)\n",
    "        ukzm_mat = hmf.get_ukmz_g_kmat(self.r_max_mat, k_array, self.halo_conc_vir, self.rsg_rs)\n",
    "\n",
    "        dndm_mat = np.tile(self.dndm_array.reshape(self.nz, 1, self.nm), (1, nk, 1))\n",
    "        Ns_mat = np.tile(self.Ns_mat.reshape(self.nz, 1, self.nm), (1, nk, 1))\n",
    "        Nc_mat = np.tile(self.Nc_mat.reshape(self.nz, 1, self.nm), (1, nk, 1))\n",
    "\n",
    "        M_mat_cond_inbin = np.logical_and(\n",
    "            self.M_mat >= ((10 ** logM_min)),\n",
    "            self.M_mat <= ((10 ** logM_max)))\n",
    "        int_prob = np.ones(self.Ntotal_mat.shape)\n",
    "        nbarc = hmf.get_nbar_z(self.M_array, self.dndm_array, int_prob, M_mat_cond_inbin)        \n",
    "        nbarc_mat = np.tile(nbarc.reshape(self.nz, 1), (1, nk))\n",
    "\n",
    "        nbarg = hmf.get_nbar_z(self.M_array, self.dndm_array, self.Ns_mat+self.Nc_mat, np.ones_like(M_mat_cond_inbin))        \n",
    "        nbarg_mat = np.tile(nbarg.reshape(self.nz, 1), (1, nk))\n",
    "        \n",
    "        val = (Ns_mat * ukzm_mat + Nc_mat) \n",
    "        toint_M_multfac = np.tile(M_mat_cond_inbin.reshape(self.nz, 1, self.nm), (1, nk, 1))\n",
    "        Pk1h = (1./(nbarg_mat*nbarc_mat)) * sp.integrate.simps((val * toint_M_multfac) * dndm_mat, self.M_array)\n",
    "\n",
    "        return Pk1h, nbarg\n",
    "\n",
    "\n",
    "    def get_Pkcg2h_zM(self, k_array, logM_min=np.log10(1.5e14), logM_max=np.log10(5e16)):\n",
    "        nk = len(k_array)\n",
    "        ukzm_mat = hmf.get_ukmz_g_kmat(self.r_max_mat, k_array, self.halo_conc_vir, self.rsg_rs)\n",
    "        \n",
    "        dndm_mat = np.tile(self.dndm_array.reshape(self.nz, 1, self.nm), (1, nk, 1))\n",
    "        Ns_mat = np.tile(self.Ns_mat.reshape(self.nz, 1, self.nm), (1, nk, 1))\n",
    "        Nc_mat = np.tile(self.Nc_mat.reshape(self.nz, 1, self.nm), (1, nk, 1))\n",
    "        bM_mat = np.tile(self.bm_array.reshape(self.nz, 1, self.nm), (1, nk, 1))\n",
    "\n",
    "        M_mat_cond_inbin = np.logical_and(\n",
    "            self.M_mat >= ((10 ** logM_min)),\n",
    "            self.M_mat <= ((10 ** logM_max)))\n",
    "        toint_M_multfac = np.tile(M_mat_cond_inbin.reshape(self.nz, 1, self.nm), (1, nk, 1))\n",
    "        int_prob = np.ones(toint_M_multfac.shape)\n",
    "        int_prob = np.ones(self.Ntotal_mat.shape)\n",
    "        nbarc = hmf.get_nbar_z(self.M_array, self.dndm_array, int_prob, M_mat_cond_inbin)        \n",
    "        nbarc_mat = np.tile(nbarc.reshape(self.nz, 1), (1, nk))\n",
    "\n",
    "        nbarg = hmf.get_nbar_z(self.M_array, self.dndm_array, self.Ns_mat+self.Nc_mat, np.ones_like(M_mat_cond_inbin))        \n",
    "        nbarg_mat = np.tile(nbarg.reshape(self.nz, 1), (1, nk))\n",
    "        \n",
    "        val = (Ns_mat * ukzm_mat + Nc_mat) \n",
    "        tointc = dndm_mat * (np.ones(dndm_mat.shape)) * bM_mat * toint_M_multfac   \n",
    "        tointg = dndm_mat * (val) * bM_mat      \n",
    "\n",
    "        valc = sp.integrate.simps(tointc, self.M_array)\n",
    "        valg = sp.integrate.simps(tointg, self.M_array)\n",
    "\n",
    "        coeffc = (1./nbarc_mat)\n",
    "        coeffg = (1./nbarg_mat)\n",
    "        Pnl_kz = np.exp(self.pkznl_interp((self.z_array), np.log(k_array), grid=True))\n",
    "        Plin_kz = np.exp(self.pkzlin_interp((self.z_array), np.log(k_array), grid=True))\n",
    "        \n",
    "        return coeffc*coeffg * valc * valg * Pnl_kz, coeffc*coeffg * valc * valg * Plin_kz   \n",
    "    \n",
    "    "
   ]
  },
  {
   "cell_type": "code",
   "execution_count": 6,
   "metadata": {},
   "outputs": [
    {
     "name": "stdout",
     "output_type": "stream",
     "text": [
      "setting up hod\n",
      "setting up general hmf\n",
      "Note: redshifts have been re-sorted (earliest first)\n"
     ]
    }
   ],
   "source": [
    "PS = Powerspec2(cosmo_params_dict, hod_params_dict, pressure_params_dict, other_params_dict)\n",
    "\n",
    "\n"
   ]
  },
  {
   "cell_type": "code",
   "execution_count": 7,
   "metadata": {},
   "outputs": [],
   "source": [
    "k_array = np.logspace(-6,3,1000)\n",
    "Pnl_kz, Plin_kz = PS.get_Pklin_nl_z(k_array)\n",
    "\n"
   ]
  },
  {
   "cell_type": "code",
   "execution_count": 8,
   "metadata": {},
   "outputs": [],
   "source": [
    "# k_array = np.logspace(-6,3,500)\n",
    "# Pk1h = PS.get_Pkcm1h_zM(k_array)\n",
    "Pk2h_nl, Pk2h_lin, bc_kz = PS.get_Pkcm2h_zM(k_array)\n",
    "# Pk1h_cg, nbarg_array = PS.get_Pkcg1h_zM(k_array)\n",
    "Pk2h_cg_nl, Pk2h_cg_lin = PS.get_Pkcg2h_zM(k_array)\n",
    "\n"
   ]
  },
  {
   "cell_type": "code",
   "execution_count": 9,
   "metadata": {},
   "outputs": [
    {
     "name": "stderr",
     "output_type": "stream",
     "text": [
      "/global/u1/s/spandey/self_module_ini/myenv3/lib/python3.7/site-packages/mcfit/mcfit.py:126: UserWarning: The default value of lowring has been changed to False, set it to True if you cannot reproduce previous results\n",
      "  warnings.warn(\"The default value of lowring has been changed to False, \"\n",
      "/global/u1/s/spandey/self_module_ini/myenv3/lib/python3.7/site-packages/mcfit/mcfit.py:217: UserWarning: The default value of extrap has been changed to False, set it to True if you cannot reproduce previous results\n",
      "  warnings.warn(\"The default value of extrap has been changed to False, \"\n"
     ]
    }
   ],
   "source": [
    "from mcfit import P2xi\n",
    "from mcfit import xi2P\n",
    "import scipy.interpolate as interpolate\n",
    "\n",
    "k_array_hres = np.logspace(-6,3,100000)\n",
    "xitot_lin_mat = np.zeros((Plin_kz.shape[0], len(k_array)))\n",
    "xitot_nl_mat = np.zeros((Pnl_kz.shape[0], len(k_array)))\n",
    "xicg_2h_nl_mat = np.zeros((Pnl_kz.shape[0], len(k_array)))\n",
    "xicm_2h_nl_mat = np.zeros((Pnl_kz.shape[0], len(k_array)))\n",
    "for jz in range(len(PS.z_array)):\n",
    "    r, xi = P2xi(k_array)(Plin_kz[jz,:])\n",
    "    xitot_lin_mat[jz,:] = xi\n",
    "\n",
    "    r, xi = P2xi(k_array)(Pnl_kz[jz,:])\n",
    "    xitot_nl_mat[jz,:] = xi\n",
    "    \n",
    "    r, xi = P2xi(k_array)(Pk2h_cg_nl[jz,:])\n",
    "    xicg_2h_nl_mat[jz,:] = xi\n",
    "    \n",
    "    r, xi = P2xi(k_array)(Pk2h_nl[jz,:])\n",
    "    xicm_2h_nl_mat[jz,:] = xi    \n"
   ]
  },
  {
   "cell_type": "code",
   "execution_count": 9,
   "metadata": {},
   "outputs": [
    {
     "data": {
      "image/png": "[encoded data removed]",
      "text/plain": [
       "<Figure size 504x432 with 1 Axes>"
      ]
     },
     "metadata": {
      "needs_background": "light"
     },
     "output_type": "display_data"
    }
   ],
   "source": [
    "fig, ax = pl.subplots(1,1, figsize = (7,6))\n",
    "indz = np.where(PS.z_array > 0.1)[0][0]\n",
    "ax.plot(r,(xitot_lin_mat)[indz,:], color='r',lw=2,ls='-',label=r'$\\xi_{\\rm lin}$')\n",
    "ax.plot(r,(xitot_nl_mat)[indz,:], color='b',lw=2,ls='-',label=r'$\\xi_{\\rm nl}$')\n",
    "\n",
    "ax.set_xscale('log')\n",
    "ax.set_yscale('log')\n",
    "ax.set_xlabel(r'$r$', size = 18)\n",
    "ax.set_ylabel(r'$\\xi$', size = 20)\n",
    "ax.set_ylim(1e-3,1e6)\n",
    "ax.set_xlim(0.1,100)\n",
    "ax.tick_params(axis='both', which='major', labelsize=15)\n",
    "ax.tick_params(axis='both', which='minor', labelsize=15)\n",
    "ax.legend(fontsize = 18, frameon = False)\n",
    "pl.tight_layout()\n",
    "\n",
    "\n"
   ]
  },
  {
   "cell_type": "code",
   "execution_count": 97,
   "metadata": {},
   "outputs": [
    {
     "data": {
      "image/png": "[encoded data removed]",
      "text/plain": [
       "<Figure size 504x432 with 1 Axes>"
      ]
     },
     "metadata": {
      "needs_background": "light"
     },
     "output_type": "display_data"
    }
   ],
   "source": [
    "fig, ax = pl.subplots(1,1, figsize = (7,6))\n",
    "indz = np.where(PS.z_array > 0.5)[0][0]\n",
    "\n",
    "ax.plot(r,(xicg_2h_nl_mat[jz,:])/(xitot_nl_mat)[indz,:], color='b',lw=2,ls='-',label=r'$\\xi^{\\rm 2h}_{\\rm cg}/\\xi_{\\rm mm}$')\n",
    "ax.plot(r,(xicm_2h_nl_mat[jz,:])/(xitot_nl_mat)[indz,:], color='r',lw=2,ls='-',label=r'$\\xi^{\\rm 2h}_{\\rm cm}/\\xi_{\\rm mm}$')\n",
    "ax.plot(r,(xicg_2h_nl_mat[jz,:])/(xicm_2h_nl_mat)[indz,:], color='k',lw=2,ls='-',label=r'$\\xi^{\\rm 2h}_{\\rm cg}/\\xi^{\\rm 2h}_{\\rm cm}$')  \n",
    "ax.set_xscale('log')\n",
    "# ax.set_yscale('log')\n",
    "ax.set_xlabel(r'$r$', size = 18)\n",
    "ax.set_ylabel(r'$\\xi$ ratio', size = 20)\n",
    "ax.set_ylim(0,13)\n",
    "ax.set_xlim(0.1,100)\n",
    "ax.tick_params(axis='both', which='major', labelsize=15)\n",
    "ax.tick_params(axis='both', which='minor', labelsize=15)\n",
    "ax.legend(fontsize = 18)\n",
    "pl.tight_layout()\n",
    "\n",
    "\n"
   ]
  },
  {
   "cell_type": "code",
   "execution_count": 98,
   "metadata": {},
   "outputs": [
    {
     "name": "stderr",
     "output_type": "stream",
     "text": [
      "/global/u1/s/spandey/self_module_ini/myenv3/lib/python3.7/site-packages/mcfit/mcfit.py:126: UserWarning: The default value of lowring has been changed to False, set it to True if you cannot reproduce previous results\n",
      "  warnings.warn(\"The default value of lowring has been changed to False, \"\n"
     ]
    }
   ],
   "source": [
    "from mcfit import P2xi\n",
    "from mcfit import xi2P\n",
    "import scipy.interpolate as interpolate\n",
    "from mcfit import Hankel\n",
    "k_array_hres = np.logspace(-4.8,np.log10(1000),100000)\n",
    "\n",
    "wprp_mm_lin_mat = np.zeros((Plin_kz.shape[0], len(k_array) - 1))\n",
    "Deltawprp_mm_lin_mat = np.zeros((Plin_kz.shape[0], len(k_array) - 1))\n",
    "units = PS.rho_m_bar\n",
    "\n",
    "for jz in range(len(PS.z_array)):\n",
    "    rp_out, wprp_out = Hankel(k_array, nu=0, q=1.0)(Plin_kz[jz,:], extrap=True)\n",
    "    wprp_out *= (1 / (2 * np.pi))\n",
    "    drp_out = rp_out[1:] - rp_out[:-1]\n",
    "    rp_cen = 0.5*(rp_out[1:] + rp_out[:-1])\n",
    "    \n",
    "    wprp_cen = 0.5*(wprp_out[1:] + wprp_out[:-1])*(PS.rho_m_bar/1e12)\n",
    "    wprp_mm_lin_mat[jz,:] = wprp_cen\n",
    "    \n",
    "    wprp_ltr = (2./(rp_cen**2))*np.cumsum(drp_out * rp_cen * wprp_cen)\n",
    "    Deltawprp_mm_lin_mat[jz,:] = wprp_ltr - wprp_cen\n",
    "\n",
    "    "
   ]
  },
  {
   "cell_type": "code",
   "execution_count": 99,
   "metadata": {},
   "outputs": [],
   "source": [
    "wprp_mm_nl_mat = np.zeros((Plin_kz.shape[0], len(k_array) - 1))\n",
    "Deltawprp_mm_nl_mat = np.zeros((Plin_kz.shape[0], len(k_array) - 1))\n",
    "units = PS.rho_m_bar\n",
    "\n",
    "for jz in range(len(PS.z_array)):\n",
    "    rp_out, wprp_out = Hankel(k_array, nu=0, q=1.0)(Pnl_kz[jz,:], extrap=True)\n",
    "    wprp_out *= (1 / (2 * np.pi))\n",
    "    drp_out = rp_out[1:] - rp_out[:-1]\n",
    "    rp_cen = 0.5*(rp_out[1:] + rp_out[:-1])\n",
    "    \n",
    "    wprp_cen = 0.5*(wprp_out[1:] + wprp_out[:-1])*(PS.rho_m_bar/1e12)\n",
    "    wprp_mm_nl_mat[jz,:] = wprp_cen\n",
    "    \n",
    "    wprp_ltr = (2./(rp_cen**2))*np.cumsum(drp_out * rp_cen * wprp_cen)\n",
    "    Deltawprp_mm_nl_mat[jz,:] = wprp_ltr - wprp_cen\n",
    "\n"
   ]
  },
  {
   "cell_type": "code",
   "execution_count": 100,
   "metadata": {},
   "outputs": [],
   "source": [
    "wprp_cm_2hnl_mat = np.zeros((Plin_kz.shape[0], len(k_array) - 1))\n",
    "Deltawprp_cm_2hnl_mat = np.zeros((Plin_kz.shape[0], len(k_array) - 1))\n",
    "units = PS.rho_m_bar\n",
    "\n",
    "for jz in range(len(PS.z_array)):\n",
    "    rp_out, wprp_out = Hankel(k_array, nu=0, q=1.0)(Pk2h_nl[jz,:], extrap=True)\n",
    "    wprp_out *= (1 / (2 * np.pi))\n",
    "    drp_out = rp_out[1:] - rp_out[:-1]\n",
    "    rp_cen = 0.5*(rp_out[1:] + rp_out[:-1])\n",
    "    \n",
    "    wprp_cen = 0.5*(wprp_out[1:] + wprp_out[:-1])*(PS.rho_m_bar/1e12)\n",
    "    wprp_cm_2hnl_mat[jz,:] = wprp_cen\n",
    "    \n",
    "    wprp_ltr = (2./(rp_cen**2))*np.cumsum(drp_out * rp_cen * wprp_cen)\n",
    "    Deltawprp_cm_2hnl_mat[jz,:] = wprp_ltr - wprp_cen\n",
    "\n"
   ]
  },
  {
   "cell_type": "code",
   "execution_count": 101,
   "metadata": {},
   "outputs": [],
   "source": [
    "wprp_cg_2hnl_mat = np.zeros((Plin_kz.shape[0], len(k_array) - 1))\n",
    "Deltawprp_cg_2hnl_mat = np.zeros((Plin_kz.shape[0], len(k_array) - 1))\n",
    "units = PS.rho_m_bar\n",
    "\n",
    "for jz in range(len(PS.z_array)):\n",
    "    rp_out, wprp_out = Hankel(k_array, nu=0, q=1.0)(Pk2h_cg_nl[jz,:], extrap=True)\n",
    "    wprp_out *= (1 / (2 * np.pi))\n",
    "    drp_out = rp_out[1:] - rp_out[:-1]\n",
    "    rp_cen = 0.5*(rp_out[1:] + rp_out[:-1])\n",
    "    \n",
    "    wprp_cen = 0.5*(wprp_out[1:] + wprp_out[:-1])*(PS.rho_m_bar/1e12)\n",
    "    wprp_cg_2hnl_mat[jz,:] = wprp_cen\n",
    "    \n",
    "    wprp_ltr = (2./(rp_cen**2))*np.cumsum(drp_out * rp_cen * wprp_cen)\n",
    "    Deltawprp_cg_2hnl_mat[jz,:] = wprp_ltr - wprp_cen\n",
    "\n"
   ]
  },
  {
   "cell_type": "code",
   "execution_count": 11,
   "metadata": {},
   "outputs": [],
   "source": [
    "dfc = np.load('advact_SNRgt4_z0.15-0.7_redshifts.npz')\n",
    "# list(dfc.keys())\n",
    "bin_min = 0.0\n",
    "bin_max = 4.0\n",
    "nbins_hist = 401\n",
    "delta_bin = (bin_max - bin_min) / nbins_hist\n",
    "bin_centers_all = np.linspace(bin_min, bin_max, nbins_hist)\n",
    "bin_edges = (bin_centers_all[1:] + bin_centers_all[:-1])/2.\n",
    "bin_centers = bin_centers_all[1:-1]\n",
    "\n",
    "nz_hist, z_edges = np.histogram(dfc['z'], bins=bin_edges)\n",
    "nc_norm = nz_hist/sp.integrate.simps(nz_hist,bin_centers)\n",
    "\n",
    "\n",
    "\n"
   ]
  },
  {
   "cell_type": "code",
   "execution_count": 12,
   "metadata": {},
   "outputs": [
    {
     "name": "stdout",
     "output_type": "stream",
     "text": [
      "(22, 400) (401,) (22,)\n"
     ]
    },
    {
     "data": {
      "image/png": "[encoded data removed]",
      "text/plain": [
       "<Figure size 504x432 with 1 Axes>"
      ]
     },
     "metadata": {
      "needs_background": "light"
     },
     "output_type": "display_data"
    }
   ],
   "source": [
    "dfg = np.load('nofz_z0.15-0.7_bpz_y3gold_m22.5_M-19.87.npz')\n",
    "list(dfg.keys())\n",
    "print(dfg['count'].shape, dfg['zbins_nz'].shape, dfg['zbins'].shape)\n",
    "zarr_cen = 0.5*(dfg['zbins_nz'][1:] + dfg['zbins_nz'][:-1])\n",
    "fig, ax = pl.subplots(1,1, figsize = (7,6))\n",
    "for jz in range(len(dfg['zbins'])):\n",
    "    ng_unnorm = dfg['count'][jz,:]\n",
    "    Ng_tot = np.sum(ng_unnorm)\n",
    "    ng_norm = ng_unnorm/sp.integrate.simps(ng_unnorm,zarr_cen)\n",
    "    \n",
    "    ax.plot(bin_centers,nc_norm, color='b',lw=2,ls='-',label='Clusters')\n",
    "    ax.plot(zarr_cen,ng_norm, color='r',lw=2,ls='-',label='Galaxies')\n",
    "    ax.set_xlabel(r'$z$', size = 18)\n",
    "    ax.set_ylabel(r'$n(z)$', size = 20)\n",
    "    ax.tick_params(axis='both', which='major', labelsize=15)\n",
    "    ax.tick_params(axis='both', which='minor', labelsize=15)\n",
    "    ax.set_xlim(0.0,1.0)\n",
    "#     ax.legend(fontsize = 18, frameon = False)\n",
    "pl.tight_layout()\n"
   ]
  },
  {
   "cell_type": "code",
   "execution_count": 15,
   "metadata": {},
   "outputs": [
    {
     "name": "stdout",
     "output_type": "stream",
     "text": [
      "1266.0799249287\n"
     ]
    }
   ],
   "source": [
    "Sigma_g_meanv = 0\n",
    "zc_all = dfg['zbins']\n",
    "for jc in range(len(zc_all)):\n",
    "    ng_unnorm = dfg['count'][jc,:]\n",
    "    Ng_tot = np.sum(ng_unnorm)\n",
    "    ng_norm = ng_unnorm/sp.integrate.simps(ng_unnorm,zarr_cen)\n",
    "    ng_intp = interpolate.interp1d(zarr_cen,ng_norm)\n",
    "    ng_norm = ng_intp(PS.z_array)\n",
    "    rhog_z = ng_norm * Ng_tot/((4*np.pi*0.108)*(PS.chi_array**2)*(PS.dchi_dz_array))\n",
    "    if zc_all[jc] < 0.5:\n",
    "        rhog_z0p5 = rhog_z\n",
    "    nc_intp = interpolate.interp1d(bin_centers,nc_norm)\n",
    "    nc_val = nc_intp(zc_all[jc])\n",
    "    Sigma_g_meanv += nc_val * sp.integrate.simps(rhog_z,PS.chi_array)\n",
    "print(Sigma_g_meanv)\n",
    "\n"
   ]
  },
  {
   "cell_type": "code",
   "execution_count": 20,
   "metadata": {},
   "outputs": [
    {
     "name": "stdout",
     "output_type": "stream",
     "text": [
      "0.5125\n"
     ]
    }
   ],
   "source": [
    "jzv = np.where(zc_all > 0.5)[0][0]\n",
    "print(zc_all[jzv])\n",
    "ng_unnorm = dfg['count'][jzv,:]\n",
    "zarr_cen = 0.5*(dfg['zbins_nz'][1:] + dfg['zbins_nz'][:-1])\n",
    "saved = {'zarray':zarr_cen,'ng_count':ng_unnorm}\n",
    "np.savez('ng_count_z0p5.npz',**saved)\n",
    "# rhog_z0p5\n"
   ]
  },
  {
   "cell_type": "code",
   "execution_count": 18,
   "metadata": {},
   "outputs": [
    {
     "data": {
      "image/png": "[encoded data removed]",
      "text/plain": [
       "<Figure size 504x432 with 1 Axes>"
      ]
     },
     "metadata": {
      "needs_background": "light"
     },
     "output_type": "display_data"
    }
   ],
   "source": [
    "fig, ax = pl.subplots(1,1, figsize = (7,6))\n",
    "ax.plot(PS.z_array,rhog_z0p5, color='b',lw=2,ls='-',label='Clusters')\n",
    "ax.set_xlabel(r'$z$', size = 18)\n",
    "ax.set_ylabel(r'$n(z)$', size = 20)\n",
    "ax.tick_params(axis='both', which='major', labelsize=15)\n",
    "ax.tick_params(axis='both', which='minor', labelsize=15)\n",
    "ax.set_xlim(0.0,1.0)\n",
    "ax.set_yscale('log')\n",
    "#     ax.legend(fontsize = 18, frameon = False)\n",
    "pl.tight_layout()\n",
    "\n"
   ]
  },
  {
   "cell_type": "code",
   "execution_count": 239,
   "metadata": {},
   "outputs": [
    {
     "name": "stdout",
     "output_type": "stream",
     "text": [
      "16.401917763193445\n"
     ]
    }
   ],
   "source": [
    "chi_interp = interpolate.interp1d(PS.z_array,PS.chi_array)\n",
    "Sigma_g_meanv2 = 0\n",
    "nc_total = 0\n",
    "Sigma_g_bar_zarr = np.zeros(len(zc_all))\n",
    "Sigma_g_mean_weighted = 0\n",
    "for jc in range(len(zc_all)):\n",
    "    ng_unnorm = dfg['count'][jc,:]\n",
    "    Ng_tot = np.sum(ng_unnorm)\n",
    "\n",
    "    chiv = chi_interp(zc_all[jc])\n",
    "    area = (4*np.pi*0.108)*(chiv**2)\n",
    "    nc_intp = interpolate.interp1d(bin_centers,nc_norm)\n",
    "    nc_val = nc_intp(zc_all[jc])\n",
    "    Sigma_g_meanv2 += nc_val * Ng_tot/area\n",
    "    nc_total += nc_val\n",
    "    Sigma_g_bar_zarr[jc] = Ng_tot/area\n",
    "    \n",
    "Sigma_g_meanv2 = Sigma_g_meanv2/nc_total\n",
    "print(Sigma_g_meanv2)\n",
    "\n",
    "Sigma_g_interp = interpolate.interp1d(np.log(zc_all),Sigam_g_bar_zarr,fill_value='extrapolate')\n",
    "\n"
   ]
  },
  {
   "cell_type": "code",
   "execution_count": 266,
   "metadata": {},
   "outputs": [
    {
     "data": {
      "image/png": "[encoded data removed]",
      "text/plain": [
       "<Figure size 504x432 with 1 Axes>"
      ]
     },
     "metadata": {
      "needs_background": "light"
     },
     "output_type": "display_data"
    }
   ],
   "source": [
    "fig, ax = pl.subplots(1,1, figsize = (7,6))\n",
    "\n",
    "ax.plot(zc_all,Sigam_g_bar_zarr, color='r',lw=2,ls='-')\n",
    "\n",
    "# ax.set_xscale('log')\n",
    "# ax.set_yscale('log')\n",
    "ax.set_xlabel(r'$z$', size = 18)\n",
    "ax.set_ylabel(r'$\\bar{\\Sigma}_g$ (galaxies/$({\\rm Mpc}/h)^2$)', size = 20)\n",
    "# ax.set_ylim(1e-1,1e3)\n",
    "# ax.set_xlim(0.1,80)\n",
    "ax.tick_params(axis='both', which='major', labelsize=15)\n",
    "ax.tick_params(axis='both', which='minor', labelsize=15)\n",
    "# ax.legend(fontsize = 15)\n",
    "pl.tight_layout()\n",
    "\n",
    "\n"
   ]
  },
  {
   "cell_type": "code",
   "execution_count": 133,
   "metadata": {},
   "outputs": [
    {
     "data": {
      "text/plain": [
       "array([0.1625, 0.1875, 0.2125, 0.2375, 0.2625, 0.2875, 0.3125, 0.3375,\n",
       "       0.3625, 0.3875, 0.4125, 0.4375, 0.4625, 0.4875, 0.5125, 0.5375,\n",
       "       0.5625, 0.5875, 0.6125, 0.6375, 0.6625, 0.6875])"
      ]
     },
     "execution_count": 133,
     "metadata": {},
     "output_type": "execute_result"
    }
   ],
   "source": [
    "dfgold = fits.open('/global/cfs/cdirs/des/data_actxdes/y3gold2.2_select_clr-magerr0.1_m22.5.fits')\n",
    "# dfgold[1].header\n",
    "zc_all\n"
   ]
  },
  {
   "cell_type": "code",
   "execution_count": 240,
   "metadata": {},
   "outputs": [],
   "source": [
    "zg_all = zarr_cen\n",
    "zc_all = dfg['zbins']\n",
    "dchi_dz_intp = interpolate.interp1d(PS.z_array,PS.dchi_dz_array)\n",
    "dchi_dz_zc = dchi_dz_intp(zc_all)\n",
    "dchi_dz_zc_mat = np.tile(dchi_dz_zc.reshape(len(zc_all),1),(1,len(k_array) - 1))\n",
    "wprp_mm_nl_interp = interpolate.RectBivariateSpline(PS.z_array, np.log(rp_cen), (wprp_mm_nl_mat)) \n",
    "wprp_mm_nl_zc_mat = (wprp_mm_nl_interp(zc_all, np.log(rp_cen))) \n",
    "\n",
    "wprp_cg_2hnl_interp = interpolate.RectBivariateSpline(PS.z_array, np.log(rp_cen), (wprp_cg_2hnl_mat)) \n",
    "wprp_cg_2hnl_zc_mat = (wprp_cg_2hnl_interp(zc_all, np.log(rp_cen))) \n",
    "\n",
    "ng_mat_zc = np.zeros((len(zc_all),len(k_array) - 1))\n",
    "nc_mat_zc = np.zeros((len(zc_all),len(k_array) - 1))\n",
    "for jc in range(len(zc_all)):\n",
    "    ng_unnorm = dfg['count'][jc,:]\n",
    "    Ng_tot = np.sum(ng_unnorm)\n",
    "    ng_norm = ng_unnorm/sp.integrate.simps(ng_unnorm,zarr_cen)\n",
    "    ng_intp = interpolate.interp1d(zarr_cen,ng_norm)\n",
    "    ng_val = ng_intp(zc_all[jc])\n",
    "    ng_mat_zc[jc,:] = ng_val * np.ones(len(k_array) - 1)\n",
    "    \n",
    "    nc_intp = interpolate.interp1d(bin_centers,nc_norm)\n",
    "    nc_val = nc_intp(zc_all[jc])\n",
    "    nc_mat_zc[jc,:] = nc_val * np.ones(len(k_array) - 1)\n",
    "\n",
    "# Sigmag_bar = 36.9\n",
    "# Sigmag_bar = Sigma_g_meanv\n",
    "Sigmag_bar = Sigma_g_meanv2\n",
    "Sigmag_mm_nl_val = Sigmag_bar* sp.integrate.simps((wprp_mm_nl_zc_mat*ng_mat_zc*nc_mat_zc/dchi_dz_zc_mat).T,zc_all)\n",
    "Sigmag_cg_2hnl_val = Sigmag_bar* sp.integrate.simps((wprp_cg_2hnl_zc_mat*ng_mat_zc*nc_mat_zc/dchi_dz_zc_mat).T,zc_all)\n",
    "# print(Sigmag_val)\n",
    "\n",
    "    "
   ]
  },
  {
   "cell_type": "code",
   "execution_count": 241,
   "metadata": {},
   "outputs": [],
   "source": [
    "nz_interp = interpolate.interp1d(bin_centers,nz_hist)\n",
    "nz_array = nz_interp(PS.z_array)\n",
    "nz_array = nz_array/sp.integrate.simps(nz_array,PS.z_array)\n",
    "nz_mat = np.tile(nz_array.reshape(len(PS.z_array),1),(1,len(k_array) - 1))\n",
    "\n",
    "DeltaSigma_mm_nl_norm = sp.integrate.simps((nz_mat*Deltawprp_mm_nl_mat).T,PS.z_array )\n",
    "DeltaSigma_cm_2hnl_norm = sp.integrate.simps((nz_mat*Deltawprp_cm_2hnl_mat).T,PS.z_array )\n",
    "\n",
    "\n"
   ]
  },
  {
   "cell_type": "code",
   "execution_count": null,
   "metadata": {},
   "outputs": [],
   "source": []
  },
  {
   "cell_type": "code",
   "execution_count": 242,
   "metadata": {},
   "outputs": [],
   "source": [
    "ng_mat = np.zeros(((len(PS.z_array),len(k_array) - 1)))\n",
    "\n",
    "ng_interp = interpolate.interp1d(zarr_cen,ng_norm)\n",
    "ng_array = ng_interp(PS.z_array)\n",
    "ng_array = ng_array/sp.integrate.simps(ng_array,PS.z_array)\n",
    "\n",
    "dchi_dz_mat = np.tile(PS.dchi_dz_array.reshape(len(PS.z_array),1),(1,len(k_array) - 1))\n",
    "\n",
    "Sigmag_mm_nl_norm = sp.integrate.simps((nz_mat*ng_mat*wprp_mm_nl_mat/dchi_dz_mat).T,PS.z_array)\n",
    "Sigmag_cg_nl_norm = sp.integrate.simps((nz_mat*ng_mat*wprp_cg_2hnl_mat/dchi_dz_mat).T,PS.z_array )\n",
    "\n",
    "\n"
   ]
  },
  {
   "cell_type": "code",
   "execution_count": 243,
   "metadata": {},
   "outputs": [
    {
     "name": "stdout",
     "output_type": "stream",
     "text": [
      "99.36478960127529 113.26177379963808\n"
     ]
    }
   ],
   "source": [
    "rhog_z = ng_array * Ng_tot/((PS.chi_array**2)*(PS.dchi_dz_array))\n",
    "Sigma_g_mean = sp.integrate.simps(rhog_z,PS.chi_array)\n",
    "Sigma_g_mean2 = sp.integrate.simps(rhog_z*nz_array,PS.chi_array)\n",
    "print(Sigma_g_mean,Sigma_g_mean2)\n",
    "\n"
   ]
  },
  {
   "cell_type": "code",
   "execution_count": 244,
   "metadata": {},
   "outputs": [],
   "source": [
    "df1 = np.load('dsigma_advact_SNRgt4_z0.15-0.70_NR18_0.2-60.0_bpz.npz')  \n",
    "df2 = np.load('boost_advact_SNRgt4_z0.15-0.70_NR18_0.2-60.0_bpz.npz')\n",
    "\n",
    "\n",
    "dsig_data = df1['dsigma']*df2['boost']\n",
    "rp_data = np.logspace(np.log10(0.2),np.log10(60),18)\n",
    "sig_data = np.sqrt(np.diag(df1['cov'] + df2['cov']))\n",
    "\n",
    "\n",
    "\n"
   ]
  },
  {
   "cell_type": "code",
   "execution_count": 77,
   "metadata": {},
   "outputs": [
    {
     "data": {
      "image/png": "[encoded data removed]",
      "text/plain": [
       "<Figure size 504x432 with 1 Axes>"
      ]
     },
     "metadata": {
      "needs_background": "light"
     },
     "output_type": "display_data"
    }
   ],
   "source": [
    "fig, ax = pl.subplots(1,1, figsize = (7,6))\n",
    "\n",
    "ax.plot(rp_cen,5.*(DeltaSigma_mm_nl_norm), color='r',lw=2,ls='-',label=r'Theory; PT w/$\\langle b_c \\rangle = 5.0$')\n",
    "ax.plot(rp_cen,(DeltaSigma_cm_2hnl_norm), color='k',lw=2,ls='-',label=r'Theory; HOD w/$M_{\\rm min} = 1.5\\times 10^{14}M_{\\odot}/h$')\n",
    "ax.errorbar(rp_data,dsig_data, sig_data,color='b',lw=2,ls='',marker='o',ms=3.0,label='Data')\n",
    "ax.set_xscale('log')\n",
    "ax.set_yscale('log')\n",
    "ax.set_xlabel(r'$r_p$ (Mpc/h)', size = 18)\n",
    "ax.set_ylabel(r'$\\Delta \\Sigma$', size = 20)\n",
    "ax.set_ylim(1e-1,1e3)\n",
    "ax.set_xlim(0.1,80)\n",
    "ax.tick_params(axis='both', which='major', labelsize=15)\n",
    "ax.tick_params(axis='both', which='minor', labelsize=15)\n",
    "ax.legend(fontsize = 15)\n",
    "pl.tight_layout()\n",
    "\n",
    "\n",
    "\n"
   ]
  },
  {
   "cell_type": "code",
   "execution_count": 245,
   "metadata": {},
   "outputs": [],
   "source": [
    "df1 = np.load('Sig_advact_all_SNRgt4.0_nR25_0.14-85.71_z0.15-0.70_maglim22.5.npz')\n",
    "rp_data2 = np.logspace(np.log10(0.1),np.log10(60),25)\n",
    "list(df1.keys())\n",
    "sig_cg_data = df1['Sigma']\n",
    "xi_cg_data = df1['Xi']\n"
   ]
  },
  {
   "cell_type": "code",
   "execution_count": 256,
   "metadata": {},
   "outputs": [
    {
     "data": {
      "image/png": "[encoded data removed]",
      "text/plain": [
       "<Figure size 504x432 with 1 Axes>"
      ]
     },
     "metadata": {
      "needs_background": "light"
     },
     "output_type": "display_data"
    }
   ],
   "source": [
    "fig, ax = pl.subplots(1,1, figsize = (7,6))\n",
    "# ax.plot(rp_cen,6*6*(Sigmag_mm_nl_norm*Sigma_g_mean2), color='r',lw=2,ls='-',label=r'Theory; PT w/$\\langle b_c \\rangle = 5.0, \\langle b_g \\rangle = 1.7$')\n",
    "# ax.plot(rp_cen,4*(Sigmag_cg_nl_norm*Sigma_g_mean2), color='k',lw=2,ls='-',label=r'Theory; HOD w/$M_{\\rm min} = 1.5\\times 10^{14}M_{\\odot}/h$'\n",
    "       \n",
    "       \n",
    "ax.plot(rp_cen,rp_cen*Sigmag_mm_nl_val*5.*1.6*14, color='k',lw=2,ls='-',label=r'Theory PT')\n",
    "# ax.plot(rp_cen,rp_cen*Sigmag_cg_2hnl_val*(1./2.8), color='r',lw=2,ls='-',label=r'Theory HOD')\n",
    "ax.errorbar(rp_data2,rp_data2*sig_cg_data, rp_data2*np.sqrt(np.diag(df1['cov'])),color='b',lw=2,ls='',marker='o',ms=3.0)\n",
    "# ax.errorbar(rp_data2,sig_cg_data, rp_data2*np.sqrt(np.diag(df1['cov'])),color='b',lw=2,ls='',marker='o',ms=3.0)\n",
    "\n",
    "ax.set_xscale('log')\n",
    "ax.set_yscale('log')\n",
    "ax.set_xlabel(r'$r_p$ (Mpc/h)', size = 18)\n",
    "ax.set_ylabel(r'$\\Sigma_g$', size = 20)\n",
    "# ax.set_ylim(1e-2,2e2)\n",
    "ax.set_ylim(1e0,5e1)\n",
    "ax.set_xlim(0.1,80)\n",
    "ax.tick_params(axis='both', which='major', labelsize=15)\n",
    "ax.tick_params(axis='both', which='minor', labelsize=15)\n",
    "ax.legend(fontsize = 15,loc='lower left')\n",
    "pl.tight_layout()\n",
    "\n",
    "\n",
    "\n"
   ]
  },
  {
   "cell_type": "code",
   "execution_count": null,
   "metadata": {},
   "outputs": [],
   "source": [
    "# logbase = 10.\n",
    "# alphag = logbase**(-0.53)\n",
    "# rsg = logbase**(-0.52)\n",
    "# rtg = logbase**(0.34)\n",
    "# betag = logbase**(0.82)\n",
    "# gammag = logbase**(0.65)\n",
    "# seg = 1.62\n",
    "# rhosg = logbase**(1.7)\n",
    "# rho0g = logbase**(-0.36)\n",
    "# rhomaxg = 20.\n",
    "# r0g = 1.5\n",
    "# cmisg = np.exp(-1.08)\n",
    "# fmisg = 0.11\n",
    "\n"
   ]
  },
  {
   "cell_type": "code",
   "execution_count": 345,
   "metadata": {},
   "outputs": [],
   "source": [
    "# logbase = np.e\n",
    "logbase = 10.\n",
    "alphag = logbase**(-0.528117706205)\n",
    "rsg = logbase**(-0.517543590629)\n",
    "rtg = logbase**(0.342655276832)\n",
    "betag = logbase**(0.822239352246)\n",
    "gammag = logbase**(0.653421306975)\n",
    "seg = 1.62067905305\n",
    "rhosg = logbase**(1.70842945422)\n",
    "rho0g = logbase**(-0.366627818816)\n",
    "rhomaxg = 20.\n",
    "r0g = 1.5\n",
    "cmisg = np.exp(-1.07524021991)\n",
    "fmisg = 0.107519826205\n",
    "def get_DK_prof(r_array):\n",
    "    rho_inner = rhosg*np.exp((-2./alphag)*((r_array/rsg)**(alphag) - 1))\n",
    "    ftransr = (1. + (r_array/rtg)**(betag))**(-1.*gammag/betag)\n",
    "    rho_outer = rho0g*1./(1./rhomaxg + (r_array/r0g)**(seg))\n",
    "    rho_final = rho_inner * ftransr + rho_outer\n",
    "    return rho_final, rho_inner, ftransr, rho_outer\n",
    "\n",
    "rDK = np.logspace(-3,np.log10(20),100)\n",
    "rho_DK, rho_inner, ftransr, rho_outer = get_DK_prof(rDK)\n",
    "ind_sel = np.where(rDK < 0.05)[0]\n",
    "rho_fix, _, _, _ = get_DK_prof(0.05)\n",
    "rho_DK[ind_sel] = (np.ones(len(ind_sel)))*(rho_fix)\n",
    "\n"
   ]
  },
  {
   "cell_type": "code",
   "execution_count": 346,
   "metadata": {},
   "outputs": [
    {
     "data": {
      "image/png": "[encoded data removed]",
      "text/plain": [
       "<Figure size 504x432 with 1 Axes>"
      ]
     },
     "metadata": {
      "needs_background": "light"
     },
     "output_type": "display_data"
    }
   ],
   "source": [
    "fig, ax = pl.subplots(1,1, figsize = (7,6))\n",
    "       \n",
    "ax.plot(rDK,6*rDK*rho_DK, color='k',lw=2,ls='-',label=r'Theory PT')\n",
    "\n",
    "ax.set_xscale('log')\n",
    "ax.set_yscale('log')\n",
    "ax.set_xlabel(r'$r$ (Mpc/h)', size = 18)\n",
    "ax.set_ylabel(r'$r \\rho(r)$', size = 20)\n",
    "# ax.set_ylim(1e-2,2e2)\n",
    "ax.set_ylim(1e-1,4e2)\n",
    "ax.set_xlim(0.1,20)\n",
    "ax.tick_params(axis='both', which='major', labelsize=15)\n",
    "ax.tick_params(axis='both', which='minor', labelsize=15)\n",
    "# ax.legend(fontsize = 15,loc='lower left')\n",
    "pl.tight_layout()\n"
   ]
  },
  {
   "cell_type": "code",
   "execution_count": 347,
   "metadata": {},
   "outputs": [],
   "source": [
    "rp_min = 0.001\n",
    "rp_max = 60\n",
    "nrp = 300\n",
    "lmax = 40\n",
    "rp_arr = np.logspace(np.log10(rp_min), np.log10(rp_max),nrp)\n",
    "Sigma_g_arr_DK = np.zeros(nrp)\n",
    "for jrp in range(nrp):\n",
    "    rpv = rp_arr[jrp]\n",
    "    yarr = np.logspace(np.log10(1.0001*rpv),np.log10(np.sqrt(rpv**2 +lmax**2)),30000)\n",
    "    rho_yarr, _, _, _ = get_DK_prof(yarr)\n",
    "    int_yarr = 2.*rho_yarr * yarr/np.sqrt(yarr**2 - rpv**2)\n",
    "    Sigma_g_arr_DK[jrp] = sp.integrate.simps(int_yarr, yarr)\n",
    "    \n"
   ]
  },
  {
   "cell_type": "code",
   "execution_count": 354,
   "metadata": {},
   "outputs": [],
   "source": [
    "Rmis_array = np.logspace(-4, np.log10(1.569), 200)\n",
    "psi_array = np.linspace(0, 2 * np.pi, 50)\n",
    "cospsi_array = np.cos(psi_array)\n",
    "nRmis = len(Rmis_array)\n",
    "npsi = len(psi_array)\n",
    "Rmis_nRmis_npsi = (np.tile(Rmis_array.reshape(1, nRmis, 1), (nrp, 1, npsi)))\n",
    "cospsi_nRmis_npsi = (np.tile(cospsi_array.reshape(1, 1, npsi), (nrp, nRmis, 1)))\n",
    "Rmat_nRmis_npsi = (np.tile(rp_arr.reshape(nrp, 1, 1), (1, nRmis, npsi)))\n",
    "R_arg_new = np.sqrt(\n",
    "    Rmat_nRmis_npsi ** 2 + Rmis_nRmis_npsi ** 2 + 2 * Rmat_nRmis_npsi * Rmis_nRmis_npsi * cospsi_nRmis_npsi)\n",
    "\n",
    "\n",
    "\n",
    "# Sigmag_interp = interpolate.interp1d(rp_arr, Sigma_g_arr_DK, fill_value=0.0, bounds_error=False)\n",
    "Sigmag_interp = interpolate.interp1d(rp_arr, Sigma_g_arr_DK, fill_value='extrapolate')\n",
    "Sigmag_argnew = Sigmag_interp(R_arg_new)\n",
    "\n",
    "Sigmag_intpsi = (1. / (2 * np.pi)) * sp.integrate.simps(Sigmag_argnew, psi_array)\n",
    "sigmaR_val = cmisg * 0.92\n",
    "\n",
    "sigmaR_mat = (np.tile(sigmaR_val.reshape(1, 1), (nrp, nRmis)))\n",
    "Rmis_mat = (np.tile(Rmis_array.reshape(1, nRmis), (nrp, 1)))\n",
    "PRmis_mat = (Rmis_mat / sigmaR_mat ** 2) * np.exp(-1. * ((Rmis_mat ** 2) / (2. * sigmaR_mat ** 2)))\n",
    "\n",
    "Sigmag_intRmis = sp.integrate.simps(Sigmag_intpsi * PRmis_mat, Rmis_array)\n",
    "\n",
    "Sigma_g_arr_DK_wmis = (1. - fmisg)*Sigma_g_arr_DK + fmisg*Sigmag_intRmis\n",
    "\n"
   ]
  },
  {
   "cell_type": "code",
   "execution_count": 353,
   "metadata": {},
   "outputs": [
    {
     "data": {
      "text/plain": [
       "1.5695925817050858"
      ]
     },
     "execution_count": 353,
     "metadata": {},
     "output_type": "execute_result"
    }
   ],
   "source": [
    "sigmaR_val*5\n"
   ]
  },
  {
   "cell_type": "code",
   "execution_count": 349,
   "metadata": {},
   "outputs": [],
   "source": [
    "Sigma_g_arr_DK_wmis_mean = (1./(np.pi*rp_max**2))*sp.integrate.simps(2*np.pi*(rp_arr)*Sigma_g_arr_DK_wmis,rp_arr)\n",
    "\n"
   ]
  },
  {
   "cell_type": "code",
   "execution_count": 350,
   "metadata": {},
   "outputs": [
    {
     "data": {
      "text/plain": [
       "0.18920820639327934"
      ]
     },
     "execution_count": 350,
     "metadata": {},
     "output_type": "execute_result"
    }
   ],
   "source": [
    "Sigma_g_arr_DK_wmis_mean\n",
    "\n"
   ]
  },
  {
   "cell_type": "code",
   "execution_count": 351,
   "metadata": {},
   "outputs": [
    {
     "data": {
      "image/png": "[encoded data removed]",
      "text/plain": [
       "<Figure size 504x432 with 1 Axes>"
      ]
     },
     "metadata": {
      "needs_background": "light"
     },
     "output_type": "display_data"
    }
   ],
   "source": [
    "fig, ax = pl.subplots(1,1, figsize = (7,6))\n",
    "facm = 1.0\n",
    "rp_pt = 20\n",
    "# ax.plot(facm*rp_arr,facm*rp_arr*Sigma_g_arr_DK, color='k',lw=2,ls='-',label=r'No Miscentering')\n",
    "# ax.plot(facm*rp_arr,facm*rp_arr*Sigma_g_arr_DK_wmis, color='r',lw=2,ls='-',label=r'With Miscentering')\n",
    "\n",
    "ind_sel = np.where(rp_arr <= rp_pt)[0]\n",
    "# ax.plot(facm*rp_arr[ind_sel],(facm*rp_arr*(Sigma_g_arr_DK_wmis-Sigma_g_arr_DK_wmis_mean))[ind_sel], color='r',lw=2,ls='-',label=r'Theory DK')\n",
    "# ax.plot(facm*rp_arr[ind_sel],(facm*rp_arr*(Sigma_g_arr_DK_wmis))[ind_sel], color='r',lw=2,ls='-',label=r'Theory DK')\n",
    "\n",
    "ax.plot(facm*rp_arr[ind_sel],(facm*rp_arr*(Sigma_g_arr_DK_wmis-Sigma_g_arr_DK_wmis_mean))[ind_sel], color='k',lw=2,ls='-',label=r'$\\Sigma(R) - \\bar{\\Sigma}$')\n",
    "ax.plot(facm*rp_arr[ind_sel],(facm*rp_arr*(Sigma_g_arr_DK_wmis))[ind_sel], color='r',lw=2,ls='-',label=r'$\\Sigma(R)$')\n",
    "\n",
    "\n",
    "# ind_sel = np.where(rp_cen > rp_pt)[0]\n",
    "# ax.plot(rp_cen[ind_sel],(rp_cen*Sigmag_mm_nl_val*5.*1.6*(1./2.9))[ind_sel], color='k',lw=2.5,ls='-',label=r'Theory PT')\n",
    "ax.errorbar(rp_data2,rp_data2*sig_cg_data, rp_data2*np.sqrt(np.diag(df1['cov'])),color='b',lw=2.5,ls='',marker='o',ms=3.0)\n",
    "\n",
    "ax.set_xscale('log')\n",
    "# ax.set_yscale('log')\n",
    "ax.set_xlabel(r'$r_p$ (Mpc/h)', size = 18)\n",
    "ax.set_ylabel(r'$r_p \\, \\Sigma_g$', size = 20)\n",
    "# ax.set_ylim(1e-2,2e2)\n",
    "ax.set_ylim(1e0,15)\n",
    "ax.set_xlim(0.1,80)\n",
    "ax.tick_params(axis='both', which='major', labelsize=15)\n",
    "ax.tick_params(axis='both', which='minor', labelsize=15)\n",
    "ax.legend(fontsize = 15,loc='upper right')\n",
    "pl.tight_layout()\n",
    "\n",
    "\n"
   ]
  },
  {
   "cell_type": "code",
   "execution_count": 278,
   "metadata": {},
   "outputs": [
    {
     "data": {
      "image/png": "[encoded data removed]",
      "text/plain": [
       "<Figure size 504x432 with 1 Axes>"
      ]
     },
     "metadata": {
      "needs_background": "light"
     },
     "output_type": "display_data"
    }
   ],
   "source": [
    "fig, ax = pl.subplots(1,1, figsize = (7,6))\n",
    "facm = 1.0\n",
    "rp_pt = 3\n",
    "# ax.plot(facm*rp_arr,facm*rp_arr*Sigma_g_arr_DK, color='k',lw=2,ls='-',label=r'No Miscentering')\n",
    "# ax.plot(facm*rp_arr,facm*rp_arr*Sigma_g_arr_DK_wmis, color='r',lw=2,ls='-',label=r'With Miscentering')\n",
    "\n",
    "ind_sel = np.where(rp_arr <= rp_pt)[0]\n",
    "ax.plot(facm*rp_arr[ind_sel],(facm*(Sigma_g_arr_DK_wmis-Sigma_g_arr_DK_wmis_mean) )[ind_sel], color='r',lw=2,ls='-',label=r'Theory DK')\n",
    "\n",
    "ind_sel = np.where(rp_cen > rp_pt)[0]\n",
    "ax.plot(rp_cen[ind_sel],(Sigmag_mm_nl_val*5.*1.6*(14))[ind_sel], color='k',lw=2.5,ls='-',label=r'Theory PT')\n",
    "ax.errorbar(rp_data2,sig_cg_data, np.sqrt(np.diag(df1['cov'])),color='b',lw=2.5,ls='',marker='o',ms=3.0)\n",
    "\n",
    "ax.set_xscale('log')\n",
    "ax.set_yscale('log')\n",
    "ax.set_xlabel(r'$r_p$ (Mpc/h)', size = 18)\n",
    "ax.set_ylabel(r'$\\Sigma_g$', size = 20)\n",
    "ax.set_ylim(1e-1,2e2)\n",
    "# ax.set_ylim(1e0,15)\n",
    "ax.set_xlim(0.1,80)\n",
    "ax.tick_params(axis='both', which='major', labelsize=15)\n",
    "ax.tick_params(axis='both', which='minor', labelsize=15)\n",
    "ax.legend(fontsize = 15,loc='upper right')\n",
    "pl.tight_layout()\n",
    "\n",
    "\n"
   ]
  },
  {
   "cell_type": "code",
   "execution_count": 280,
   "metadata": {},
   "outputs": [
    {
     "data": {
      "image/png": "[encoded data removed]",
      "text/plain": [
       "<Figure size 504x432 with 1 Axes>"
      ]
     },
     "metadata": {
      "needs_background": "light"
     },
     "output_type": "display_data"
    }
   ],
   "source": [
    "fig, ax = pl.subplots(1,1, figsize = (7,6))\n",
    "facm = 1.0\n",
    "rp_pt = 20\n",
    "# ax.plot(facm*rp_arr,facm*rp_arr*Sigma_g_arr_DK, color='k',lw=2,ls='-',label=r'No Miscentering')\n",
    "# ax.plot(facm*rp_arr,facm*rp_arr*Sigma_g_arr_DK_wmis, color='r',lw=2,ls='-',label=r'With Miscentering')\n",
    "\n",
    "ind_sel = np.where(rp_arr <= rp_pt)[0]\n",
    "ax.plot(facm*rp_arr[ind_sel],(facm*(Sigma_g_arr_DK_wmis-Sigma_g_arr_DK_wmis_mean) )[ind_sel], color='r',lw=2,ls='-',label=r'Theory DK')\n",
    "\n",
    "ind_sel = np.where(rp_cen > rp_pt)[0]\n",
    "ax.plot(rp_cen[ind_sel],(Sigmag_mm_nl_val*5.*1.6*(14))[ind_sel], color='k',lw=2.5,ls='-',label=r'Theory PT')\n",
    "ax.errorbar(rp_data2,sig_cg_data, np.sqrt(np.diag(df1['cov'])),color='b',lw=2.5,ls='',marker='o',ms=3.0)\n",
    "\n",
    "ax.set_xscale('log')\n",
    "ax.set_yscale('log')\n",
    "ax.set_xlabel(r'$r_p$ (Mpc/h)', size = 18)\n",
    "ax.set_ylabel(r'$\\Sigma_g$', size = 20)\n",
    "ax.set_ylim(1e-1,2e2)\n",
    "# ax.set_ylim(1e0,15)\n",
    "ax.set_xlim(0.1,80)\n",
    "ax.tick_params(axis='both', which='major', labelsize=15)\n",
    "ax.tick_params(axis='both', which='minor', labelsize=15)\n",
    "ax.legend(fontsize = 15,loc='upper right')\n",
    "pl.tight_layout()\n",
    "\n",
    "\n"
   ]
  },
  {
   "cell_type": "code",
   "execution_count": null,
   "metadata": {},
   "outputs": [],
   "source": [
    "R_array = theta_array_rad * self.PS_prepDV.cosmo_colossus.angularDiameterDistance(\n",
    "    np.mean(self.PS_prepDV.z_array))\n",
    "\n",
    "Rmis_array = np.logspace(-4, 1, 28)\n",
    "psi_array = np.linspace(0, 2 * np.pi, 28)\n",
    "cospsi_array = np.cos(psi_array)\n",
    "nRmis = len(Rmis_array)\n",
    "npsi = len(psi_array)\n",
    "\n",
    "Rmis_nRmis_npsi = (np.tile(Rmis_array.reshape(1, nRmis, 1), (ntheta, 1, npsi)))\n",
    "cospsi_nRmis_npsi = (np.tile(cospsi_array.reshape(1, 1, npsi), (ntheta, nRmis, 1)))\n",
    "\n",
    "theta_min_rad_full = theta_min\n",
    "theta_max_rad_full = theta_max\n",
    "theta_array_rad_full = np.logspace(np.log10(theta_min_rad_full), np.log10(theta_max_rad_full), 3800)\n",
    "ntheta_full = len(theta_array_rad_full)\n",
    "\n",
    "Rmat_nRmis_npsi = (np.tile(R_array.reshape(ntheta, 1, 1), (1, nRmis, npsi)))\n",
    "\n",
    "R_arg_new = np.sqrt(\n",
    "    Rmat_nRmis_npsi ** 2 + Rmis_nRmis_npsi ** 2 + 2 * Rmat_nRmis_npsi * Rmis_nRmis_npsi * cospsi_nRmis_npsi)\n",
    "\n",
    "Cly_theta_interp = interpolate.interp1d(R_array, Cl_yg_theta, fill_value=0.0, bounds_error=False)\n",
    "Cly_theta_argnew = Cly_theta_interp(R_arg_new)\n",
    "\n",
    "Cly_intpsi = (1. / (2 * np.pi)) * sp.integrate.simps(Cly_theta_argnew, psi_array)\n",
    "\n",
    "sigmaR_val = self.PS_prepDV.cmis * np.mean(self.PS_prepDV.r_vir_mat)\n",
    "\n",
    "sigmaR_mat = (np.tile(sigmaR_val.reshape(1, 1), (ntheta, nRmis)))\n",
    "Rmis_mat = (np.tile(Rmis_array.reshape(1, nRmis), (ntheta, 1)))\n",
    "PRmis_mat = (Rmis_mat / sigmaR_mat ** 2) * np.exp(-1. * ((Rmis_mat ** 2) / (2. * sigmaR_mat ** 2)))\n",
    "\n",
    "Cly_intRmis = sp.integrate.simps(Cly_intpsi * PRmis_mat, Rmis_array)\n",
    "\n",
    "if np.all(Cly_intRmis > 0):\n",
    "    Cly_intRmis_interp = interpolate.interp1d(np.log(theta_array_rad), np.log(Cly_intRmis))\n",
    "    Cly_misc_theta = np.exp(Cly_intRmis_interp(np.log(theta_array_rad_full)))\n",
    "\n",
    "else:\n",
    "    # print 'negative values in Cly_intRmis. Careful about extrapolation!!!!'\n",
    "    Cly_intRmis_interp = interpolate.interp1d(np.log(theta_array_rad), Cly_intRmis)\n",
    "    Cly_misc_theta = (Cly_intRmis_interp(np.log(theta_array_rad_full)))\n",
    "\n",
    "Cly_misc_theta_full = np.tile(Cly_misc_theta.reshape(1, ntheta_full), (nl, 1))\n",
    "l_thetafull = (np.tile(l_array.reshape(nl, 1), (1, ntheta_full))) * (\n",
    "    np.tile(theta_array_rad_full.reshape(1, ntheta_full), (nl, 1)))\n",
    "j0_lthetafull = sp.special.jv(0, l_thetafull)\n",
    "theta_mat = (np.tile(theta_array_rad_full.reshape(1, ntheta_full), (nl, 1)))\n",
    "Cly_misc_l = (2 * np.pi) * (\n",
    "    sp.integrate.simps(theta_mat * Cly_misc_theta_full * j0_lthetafull, theta_array_rad_full))\n",
    "\n",
    "Cly_misc_l_final = self.PS_prepDV.fmis * Cly_misc_l + (1 - self.PS_prepDV.fmis) * Cl_yg\n",
    "\n"
   ]
  },
  {
   "cell_type": "code",
   "execution_count": null,
   "metadata": {},
   "outputs": [],
   "source": [
    "fig, ax = pl.subplots(1,1, figsize = (7,6))\n",
    "indz = np.where(PS.z_array > 0.1)[0][0]\n",
    "ax.plot(r,(xitot_lin_mat)[indz,:], color='r',lw=2,ls='-',label=r'$z=0.1$')\n",
    "indz = np.where(PS.z_array > 0.5)[0][0]\n",
    "ax.plot(r,(xitot_lin_mat)[indz,:], color='b',lw=2,ls='-',label=r'$z=0.5$')\n",
    "indz = np.where(PS.z_array > 0.79)[0][0]\n",
    "ax.plot(r,(xitot_lin_mat)[indz,:], color='k',lw=2,ls='-',label=r'$z=0.8$')\n",
    "\n",
    "ax.set_xscale('log')\n",
    "ax.set_yscale('log')\n",
    "ax.set_xlabel(r'$r$ (Mpc/h)', size = 18)\n",
    "ax.set_ylabel(r'$\\xi^{\\rm 3D}_{\\rm cm}$', size = 20)\n",
    "ax.set_ylim(1e-2,4e4)\n",
    "ax.set_xlim(0.1,70)\n",
    "ax.tick_params(axis='both', which='major', labelsize=15)\n",
    "ax.tick_params(axis='both', which='minor', labelsize=15)\n",
    "ax.legend(fontsize = 18, frameon = False)\n",
    "pl.tight_layout()\n",
    "\n",
    "\n",
    "\n"
   ]
  },
  {
   "cell_type": "code",
   "execution_count": 280,
   "metadata": {},
   "outputs": [
    {
     "data": {
      "image/png": "[encoded data removed]",
      "text/plain": [
       "<Figure size 504x432 with 1 Axes>"
      ]
     },
     "metadata": {
      "needs_background": "light"
     },
     "output_type": "display_data"
    }
   ],
   "source": [
    "fig, ax = pl.subplots(1,1, figsize = (7,6))\n",
    "# indz = np.where(PS.z_array > 0.7)[0][0]\n",
    "# ax.plot(rp_cen,(wprp_tot_mat)[indz,:], color='r',lw=2,ls='-')\n",
    "ax.plot(rp_cen,(Sigma_cg_tot_norm), color='b',lw=2,ls='-',label=r'1h + 2h')\n",
    "ax.plot(rp_cen,(Sigma_cg_tot_norm_tot_maxr), color='r',lw=2,ls='-',label=r'max(1h,2h)')\n",
    "# ax.plot(rp_cen,(1/80)*(Sigma_cg_tot_norm_smooth2), color='k',lw=2,ls='-',label=r'$\\alpha=0.5$')\n",
    "# ax.errorbar(rp_data2,xi_cg_data,color='b',lw=2,ls='',marker='o',ms=3.0)\n",
    "ax.errorbar(rp_data2,sig_cg_data, np.sqrt(np.diag(df1['cov'])),color='k',lw=2,ls='',marker='o',ms=3.0)\n",
    "\n",
    "\n",
    "ax.set_xscale('log')\n",
    "ax.set_yscale('log')\n",
    "ax.set_xlabel(r'$r_p$ (Mpc/h)', size = 18)\n",
    "ax.set_ylabel(r'$\\Sigma_g$', size = 20)\n",
    "ax.set_ylim(1e-2,2e2)\n",
    "ax.set_xlim(0.1,80)\n",
    "ax.tick_params(axis='both', which='major', labelsize=15)\n",
    "ax.tick_params(axis='both', which='minor', labelsize=15)\n",
    "ax.legend(fontsize = 18, frameon = False)\n",
    "pl.tight_layout()\n",
    "\n",
    "\n",
    "\n"
   ]
  },
  {
   "cell_type": "code",
   "execution_count": 381,
   "metadata": {},
   "outputs": [],
   "source": [
    "from mcfit import P2xi\n",
    "from mcfit import xi2P\n",
    "import scipy.interpolate as interpolate\n",
    "from mcfit import Hankel\n",
    "k_array_hres = np.logspace(-4.8,np.log10(1000),100000)\n",
    "\n",
    "# wprp_tot_mat = np.zeros((Pk1h.shape[0], len(k_array) - 1))\n",
    "num_mat = np.zeros(((len(k_array) - 1),Pk1h.shape[0]))\n",
    "# units = PS.rho_m_bar\n",
    "nz_array = nz_interp(PS.z_array)/sp.integrate.simps(nz_interp(PS.z_array),PS.z_array)\n",
    "for jz in range(len(PS.z_array)):\n",
    "    rp_out, wprp_out = Hankel(k_array, nu=0, q=1.0)(Pk1h_cg[jz,:] + Pk2h_cg_lin[jz,:] - Pk1h_cg[jz,-1], extrap=True)\n",
    "    wprp_out *= (1 / (2 * np.pi))\n",
    "    drp_out = rp_out[1:] - rp_out[:-1]\n",
    "    rp_cen = 0.5*(rp_out[1:] + rp_out[:-1])\n",
    "    \n",
    "    wprp_cen = 0.5*(wprp_out[1:] + wprp_out[:-1])\n",
    "    num_mat[:,jz] = wprp_cen * nbarg_array[jz] * (PS.chi_array[jz] ** 2) * (nz_array[jz])\n",
    "\n",
    "num_final = sp.integrate.simps(num_mat,PS.z_array)\n",
    "denom_final = sp.integrate.simps(nbarg_array,PS.chi_array)\n",
    "N_tot = sp.integrate.simps(nbarg_array * (PS.chi_array[jz] ** 2),PS.chi_array )\n",
    "Sigma_g_measure = num_final*denom_final/N_tot\n",
    "\n",
    "\n",
    "    "
   ]
  },
  {
   "cell_type": "code",
   "execution_count": 382,
   "metadata": {},
   "outputs": [
    {
     "data": {
      "image/png": "[encoded data removed]",
      "text/plain": [
       "<Figure size 504x432 with 1 Axes>"
      ]
     },
     "metadata": {
      "needs_background": "light"
     },
     "output_type": "display_data"
    }
   ],
   "source": [
    "fig, ax = pl.subplots(1,1, figsize = (7,6))\n",
    "# indz = np.where(PS.z_array > 0.7)[0][0]\n",
    "# ax.plot(rp_cen,(wprp_tot_mat)[indz,:], color='r',lw=2,ls='-')\n",
    "ax.plot(rp_cen,(Sigma_g_measure), color='b',lw=2,ls='-',label=r'1h + 2h')\n",
    "# ax.plot(rp_cen,(Sigma_cg_tot_norm_tot_maxr), color='r',lw=2,ls='-',label=r'max(1h,2h)')\n",
    "# ax.plot(rp_cen,(1/80)*(Sigma_cg_tot_norm_smooth2), color='k',lw=2,ls='-',label=r'$\\alpha=0.5$')\n",
    "# ax.errorbar(rp_data2,xi_cg_data,color='b',lw=2,ls='',marker='o',ms=3.0)\n",
    "ax.errorbar(rp_data2,sig_cg_data, np.sqrt(np.diag(df1['cov'])),color='k',lw=2,ls='',marker='o',ms=3.0)\n",
    "\n",
    "\n",
    "ax.set_xscale('log')\n",
    "ax.set_yscale('log')\n",
    "ax.set_xlabel(r'$r_p$ (Mpc/h)', size = 18)\n",
    "ax.set_ylabel(r'$\\Sigma_g$', size = 20)\n",
    "ax.set_ylim(1e-2,2e2)\n",
    "ax.set_xlim(0.1,80)\n",
    "ax.tick_params(axis='both', which='major', labelsize=15)\n",
    "ax.tick_params(axis='both', which='minor', labelsize=15)\n",
    "ax.legend(fontsize = 18, frameon = False)\n",
    "pl.tight_layout()\n",
    "\n",
    "\n",
    "\n"
   ]
  },
  {
   "cell_type": "code",
   "execution_count": 68,
   "metadata": {},
   "outputs": [],
   "source": [
    "nx = 50\n",
    "nm = 80\n",
    "nz = 1\n",
    "x_array = np.linspace(0.1,4,nx)\n",
    "M_array = np.logspace(10,16,nm)\n",
    "Mmat = np.array([M_array])\n",
    "zarr = np.array([0.193])\n",
    "rho_crit = cosmo_colossus.rho_c(zarr) * (1000 ** 3)\n",
    "R_mat = hmf.get_R_from_M_mat(Mmat,200*rho_crit)\n",
    "\n",
    "y3d_mat = Pfid.get_y3d(Mmat, x_array, zarr, R_mat, M200c_mat=Mmat, mdef_M_mat='200c')\n",
    "\n",
    "# nz, nm, nx = 1, 1, len(x_array)\n",
    "x_mat = np.tile(x_array.reshape(1, 1, nx), (nz, nm, 1))\n",
    "\n",
    "chi_array = hmf.get_Dcom_array(zarr, cosmo_params_dict['Om0'])\n",
    "DA_array = chi_array / (1. + zarr)\n",
    "\n",
    "DA_mat_coeff = np.tile(DA_array.reshape(nz, 1), (1, nm))\n",
    "rmdefP_mat_coeff = R_mat\n",
    "lmdefP_mat_coeff = DA_mat_coeff / rmdefP_mat_coeff\n",
    "\n",
    "x_mat_lmdefP_mat = x_mat / np.tile(lmdefP_mat_coeff.reshape(nz, nm, 1), (1, 1, nx))\n",
    "coeff_mat_y = 4 * np.pi * rmdefP_mat_coeff / (lmdefP_mat_coeff ** 2)\n",
    "\n",
    "x_mat2_y3d_mat = (x_mat ** 2) * y3d_mat\n",
    "# ghmf = general_hm(cosmo_params_dict, pressure_params_dict, other_params_dict)\n",
    "dndm_array, bm_array = get_dndm_bias(Mmat,zarr, '200c')\n",
    "\n"
   ]
  },
  {
   "cell_type": "code",
   "execution_count": 79,
   "metadata": {},
   "outputs": [
    {
     "data": {
      "text/plain": [
       "(1, 80, 50)"
      ]
     },
     "execution_count": 79,
     "metadata": {},
     "output_type": "execute_result"
    }
   ],
   "source": [
    "y3d_mat.shape\n"
   ]
  },
  {
   "cell_type": "code",
   "execution_count": 69,
   "metadata": {},
   "outputs": [],
   "source": [
    "k_array = np.logspace(-5,2,100)\n",
    "byk_array = np.zeros(len(k_array))\n",
    "for jk in range(len(k_array)):\n",
    "    lv = k_array[jk] * chi_array - 0.5\n",
    "#     print(lv.shape)\n",
    "#     temp_mat = k_array[jk] * (x_array * )\n",
    "#     uyk_array_jk = sp.integrate.simps(x_mat2_y3d_mat * ) * \n",
    "    byk_array[jk] = sp.integrate.simps(dndm_array * bm_array, uyk_array_jk,M_array)\n",
    "    \n",
    "    \n",
    "    "
   ]
  },
  {
   "cell_type": "code",
   "execution_count": 70,
   "metadata": {},
   "outputs": [],
   "source": [
    "# other_params_dict.keys()\n",
    "\n",
    "pklin = np.exp(other_params_dict['pkzlin_interp'].ev(zarr, np.log(k_array))) \n"
   ]
  },
  {
   "cell_type": "code",
   "execution_count": 71,
   "metadata": {},
   "outputs": [],
   "source": [
    "Mh = np.array([np.array([1e15])])\n",
    "_, bmh = get_dndm_bias(Mh,zarr, '200c')\n",
    "P_hy_2h = bmh * byk_array * pklin\n",
    "\n"
   ]
  },
  {
   "cell_type": "code",
   "execution_count": 72,
   "metadata": {},
   "outputs": [],
   "source": [
    "from mcfit import P2xi\n",
    "# r, xi = P2xi(k)(P)\n",
    "\n",
    "rv, xi_hy_2h = P2xi(k_array)(P_hy_2h)\n",
    "\n"
   ]
  },
  {
   "cell_type": "code",
   "execution_count": 74,
   "metadata": {},
   "outputs": [],
   "source": [
    "x_array = np.linspace(0.1,10,100)\n",
    "# Mmat = np.array([np.array([1e15])])\n",
    "# zarr = np.array([0.193])\n",
    "# rho_crit = cosmo_colossus.rho_c(zarr) * (1000 ** 3)\n",
    "Rh = hmf.get_R_from_M_mat(Mh,200*rho_crit)\n",
    "\n",
    "y3dh = Pfid.get_y3d(Mh, x_array, zarr, Rh, M200c_mat=Mh, mdef_M_mat='200c')\n",
    "\n"
   ]
  },
  {
   "cell_type": "code",
   "execution_count": 75,
   "metadata": {},
   "outputs": [
    {
     "data": {
      "text/plain": [
       "array([[[1.49200099e-04, 5.77088618e-05, 2.66971515e-05, 1.37513379e-05,\n",
       "         7.65034036e-06, 4.51676971e-06, 2.79719780e-06, 1.80200460e-06,\n",
       "         1.20012856e-06, 8.22345914e-07, 5.77544849e-07, 4.14465477e-07,\n",
       "         3.03157647e-07, 2.25536157e-07, 1.70359148e-07, 1.30456388e-07,\n",
       "         1.01148045e-07, 7.93157173e-08, 6.28420697e-08, 5.02646974e-08,\n",
       "         4.05576406e-08, 3.29907350e-08, 2.70374202e-08, 2.23132997e-08,\n",
       "         1.85345628e-08, 1.54894461e-08, 1.30183847e-08, 1.10000372e-08,\n",
       "         9.34133289e-09, 7.97030663e-09, 6.83088886e-09, 5.87908099e-09,\n",
       "         5.08012286e-09, 4.40637700e-09, 3.83573588e-09, 3.35041378e-09,\n",
       "         2.93602375e-09, 2.58086769e-09, 2.27538685e-09, 2.01173373e-09,\n",
       "         1.78343679e-09, 1.58513628e-09, 1.41237497e-09, 1.26143162e-09,\n",
       "         1.12918778e-09, 1.01302064e-09, 9.10716664e-10, 8.20401475e-10,\n",
       "         7.40482808e-10, 6.69603885e-10, 6.06605157e-10, 5.50492802e-10,\n",
       "         5.00412690e-10, 4.55628794e-10, 4.15505235e-10, 3.79491290e-10,\n",
       "         3.47108846e-10, 3.17941864e-10, 2.91627507e-10, 2.67848650e-10,\n",
       "         2.46327538e-10, 2.26820401e-10, 2.09112873e-10, 1.93016087e-10,\n",
       "         1.78363324e-10, 1.65007160e-10, 1.52816995e-10, 1.41676941e-10,\n",
       "         1.31483992e-10, 1.22146445e-10, 1.13582530e-10, 1.05719226e-10,\n",
       "         9.84912233e-11, 9.18400289e-11, 8.57131783e-11, 8.00635500e-11,\n",
       "         7.48487650e-11, 7.00306594e-11, 6.55748211e-11, 6.14501825e-11,\n",
       "         5.76286613e-11, 5.40848435e-11, 5.07957031e-11, 4.77403540e-11,\n",
       "         4.48998305e-11, 4.22568917e-11, 3.97958481e-11, 3.75024075e-11,\n",
       "         3.53635370e-11, 3.33673406e-11, 3.15029491e-11, 2.97604224e-11,\n",
       "         2.81306615e-11, 2.66053298e-11, 2.51767820e-11, 2.38380014e-11,\n",
       "         2.25825420e-11, 2.14044775e-11, 2.02983548e-11, 1.92591522e-11]]])"
      ]
     },
     "execution_count": 75,
     "metadata": {},
     "output_type": "execute_result"
    }
   ],
   "source": [
    "y3dh\n"
   ]
  },
  {
   "cell_type": "code",
   "execution_count": null,
   "metadata": {},
   "outputs": [],
   "source": []
  }
 ],
 "metadata": {
  "kernelspec": {
   "display_name": "myenv3-jp",
   "language": "python",
   "name": "myenv3-jp"
  },
  "language_info": {
   "codemirror_mode": {
    "name": "ipython",
    "version": 3
   },
   "file_extension": ".py",
   "mimetype": "text/x-python",
   "name": "python",
   "nbconvert_exporter": "python",
   "pygments_lexer": "ipython3",
   "version": "3.7.6"
  }
 },
 "nbformat": 4,
 "nbformat_minor": 4
}
